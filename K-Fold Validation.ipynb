{
 "cells": [
  {
   "cell_type": "code",
   "execution_count": 1,
   "metadata": {},
   "outputs": [],
   "source": [
    "import logging\n",
    "import os\n",
    "import sys\n",
    "import math\n",
    "sys.path.append('scripts')\n",
    "sys.path.append('share')\n",
    "sys.path.append('python')\n",
    "from collections import namedtuple\n",
    "import numpy as np\n",
    "import pandas as pd\n",
    "import h5py as h5\n",
    "import matplotlib.pyplot as plt\n",
    "logging.getLogger('matplotlib.font_manager').disabled = True\n",
    "import tensorflow\n",
    "import tensorflow.keras as keras\n",
    "from sklearn.model_selection import KFold\n",
    "from sklearn.metrics import roc_curve, auc\n",
    "from run_training import _build_model, _find_py_file"
   ]
  },
  {
   "cell_type": "code",
   "execution_count": 2,
   "metadata": {},
   "outputs": [
    {
     "output_type": "error",
     "ename": "NameError",
     "evalue": "name '_find_py_file' is not defined",
     "traceback": [
      "\u001b[1;31m---------------------------------------------------------------------------\u001b[0m",
      "\u001b[1;31mNameError\u001b[0m                                 Traceback (most recent call last)",
      "\u001b[1;32m<ipython-input-2-8bec63568d91>\u001b[0m in \u001b[0;36m<module>\u001b[1;34m\u001b[0m\n\u001b[0;32m     13\u001b[0m )\n\u001b[0;32m     14\u001b[0m \u001b[1;33m\u001b[0m\u001b[0m\n\u001b[1;32m---> 15\u001b[1;33m \u001b[0mpath\u001b[0m \u001b[1;33m=\u001b[0m \u001b[0m_find_py_file\u001b[0m\u001b[1;33m(\u001b[0m\u001b[0margs\u001b[0m\u001b[1;33m.\u001b[0m\u001b[0mmodel\u001b[0m\u001b[1;33m)\u001b[0m\u001b[1;33m\u001b[0m\u001b[1;33m\u001b[0m\u001b[0m\n\u001b[0m",
      "\u001b[1;31mNameError\u001b[0m: name '_find_py_file' is not defined"
     ]
    }
   ],
   "source": [
    "logging.basicConfig(level=1, format='[%(asctime)s %(levelname)s] %(message)s')\n",
    "Option = namedtuple(\"MyStruct\", \"input model name folds batch_size epochs\")\n",
    "                    #structure learning_rate regularizer epochs\")\n",
    "args = Option(\n",
    "    input='test1.h5',\n",
    "    model='share/reference_number.py',\n",
    "    name='NumberNetworkKFOLD',\n",
    "    folds=10,\n",
    "    batch_size=60,\n",
    "    epochs=20,\n",
    "    #learning_rate=0.0001,\n",
    "    #regularizer=0.0001,\n",
    ")\n",
    "\n",
    "path = _find_py_file(args.model)"
   ]
  },
  {
   "cell_type": "markdown",
   "metadata": {},
   "source": [
    "# K-Fold Validation\n",
    "## Load and Split Data"
   ]
  },
  {
   "cell_type": "code",
   "execution_count": 7,
   "metadata": {
    "tags": []
   },
   "outputs": [
    {
     "output_type": "stream",
     "name": "stderr",
     "text": "[2020-07-08 01:48:01,675 INFO] Loading data from test1.h5\n"
    }
   ],
   "source": [
    "logging.info(f'Loading data from {args.input}')\n",
    "\n",
    "with h5.File(args.input, 'r') as data:\n",
    "    data_x = data['input'][()]\n",
    "    data_y = data['target'][()]\n",
    "\n",
    "labels = ['1particle', '2particle', '3particle']"
   ]
  },
  {
   "cell_type": "code",
   "execution_count": 9,
   "metadata": {
    "tags": []
   },
   "outputs": [
    {
     "output_type": "stream",
     "name": "stderr",
     "text": "[2020-07-08 01:48:11,313 INFO] Building model from share/reference_number.py\n"
    }
   ],
   "source": [
    "logging.info('Building model from %s', path)\n",
    "model, compile_args, fit_args, params = _build_model(path, data_x, data_y)"
   ]
  },
  {
   "cell_type": "code",
   "execution_count": 10,
   "metadata": {
    "scrolled": false,
    "tags": []
   },
   "outputs": [
    {
     "output_type": "stream",
     "name": "stdout",
     "text": "Model: \"model_1\"\n__________________________________________________________________________________________________\nLayer (type)                    Output Shape         Param #     Connected to                     \n==================================================================================================\ninput_2 (InputLayer)            [(None, 60)]         0                                            \n__________________________________________________________________________________________________\noffset_and_scale_1 (OffsetAndSc (None, 60)           0           input_2[0][0]                    \n__________________________________________________________________________________________________\ndense_3 (Dense)                 (None, 25)           1525        offset_and_scale_1[0][0]         \n__________________________________________________________________________________________________\nactivation (Activation)         multiple             0           dense_3[0][0]                    \n                                                                 dense_4[0][0]                    \n                                                                 dense_5[0][0]                    \n__________________________________________________________________________________________________\ndense_4 (Dense)                 (None, 20)           520         activation[3][0]                 \n__________________________________________________________________________________________________\ndense_5 (Dense)                 (None, 3)            63          activation[4][0]                 \n==================================================================================================\nTotal params: 2,108\nTrainable params: 2,108\nNon-trainable params: 0\n__________________________________________________________________________________________________\n"
    }
   ],
   "source": [
    "model.summary()"
   ]
  },
  {
   "cell_type": "code",
   "execution_count": 11,
   "metadata": {},
   "outputs": [
    {
     "output_type": "execute_result",
     "data": {
      "image/png": "[encoded data removed]",
      "text/plain": "<IPython.core.display.Image object>"
     },
     "metadata": {},
     "execution_count": 11
    }
   ],
   "source": [
    "keras.utils.plot_model(model)"
   ]
  },
  {
   "cell_type": "code",
   "execution_count": 14,
   "metadata": {},
   "outputs": [],
   "source": [
    "#FOR ITERATIVE TESTING QUICKER\n",
    "data_x = data_x[:5000]\n",
    "data_y = data_y[:5000]"
   ]
  },
  {
   "cell_type": "code",
   "execution_count": 15,
   "metadata": {},
   "outputs": [],
   "source": [
    "models = []\n",
    "#histories = []\n",
    "#preds = []\n",
    "#reals = []\n",
    "fpr = {}\n",
    "tpr = {}\n",
    "auc1 = {}\n",
    "acc_per_fold = []\n",
    "loss_per_fold = []\n",
    "\n",
    "#K-Fold Split Indices\n",
    "kfold = KFold(n_splits=args.folds)\n",
    "splits = kfold.split(data_x,data_y)\n",
    "\n",
    "#dont forget to shuffle\n",
    "data = np.concatenate([data_x, data_y], axis=1)\n",
    "rng = np.random.default_rng(seed=42)\n",
    "rng.shuffle(data)\n",
    "data_x = data[:, 0:data_x.shape[1]]\n",
    "data_y = data[:, data_x.shape[1]:data.shape[1]]\n",
    "\n",
    "#\n",
    "# To Do: Barrel and Endcap Layer Seperation\n",
    "#"
   ]
  },
  {
   "cell_type": "markdown",
   "metadata": {},
   "source": [
    "## Training and Validation"
   ]
  },
  {
   "cell_type": "code",
   "execution_count": 16,
   "metadata": {
    "scrolled": false,
    "tags": [
     "outputPrepend"
    ]
   },
   "outputs": [
    {
     "output_type": "stream",
     "name": "stderr",
     "text": "oss: 0.7447 - accuracy: 0.7317\nEpoch 00003: val_loss improved from 0.78250 to 0.77060, saving model to NumberNetworkKFOLD8.h5\n68/68 [==============================] - 0s 4ms/step - loss: 0.7448 - accuracy: 0.7311 - val_loss: 0.7706 - val_accuracy: 0.7111\nEpoch 4/20\n57/68 [========================>.....] - ETA: 0s - loss: 0.7360 - accuracy: 0.7284\nEpoch 00004: val_loss improved from 0.77060 to 0.75850, saving model to NumberNetworkKFOLD8.h5\n68/68 [==============================] - 0s 4ms/step - loss: 0.7317 - accuracy: 0.7311 - val_loss: 0.7585 - val_accuracy: 0.7111\nEpoch 5/20\n62/68 [==========================>...] - ETA: 0s - loss: 0.7162 - accuracy: 0.7298\nEpoch 00005: val_loss improved from 0.75850 to 0.73119, saving model to NumberNetworkKFOLD8.h5\n68/68 [==============================] - 0s 3ms/step - loss: 0.7133 - accuracy: 0.7311 - val_loss: 0.7312 - val_accuracy: 0.7111\nEpoch 6/20\n58/68 [========================>.....] - ETA: 0s - loss: 0.6814 - accuracy: 0.7333\nEpoch 00006: val_loss improved from 0.73119 to 0.68831, saving model to NumberNetworkKFOLD8.h5\n68/68 [==============================] - 0s 4ms/step - loss: 0.6824 - accuracy: 0.7311 - val_loss: 0.6883 - val_accuracy: 0.7111\nEpoch 7/20\n63/68 [==========================>...] - ETA: 0s - loss: 0.6427 - accuracy: 0.7280\nEpoch 00007: val_loss improved from 0.68831 to 0.63552, saving model to NumberNetworkKFOLD8.h5\n68/68 [==============================] - 0s 3ms/step - loss: 0.6339 - accuracy: 0.7323 - val_loss: 0.6355 - val_accuracy: 0.7111\nEpoch 8/20\n58/68 [========================>.....] - ETA: 0s - loss: 0.5759 - accuracy: 0.7422\nEpoch 00008: val_loss improved from 0.63552 to 0.56004, saving model to NumberNetworkKFOLD8.h5\n68/68 [==============================] - 0s 4ms/step - loss: 0.5735 - accuracy: 0.7420 - val_loss: 0.5600 - val_accuracy: 0.7489\nEpoch 9/20\n68/68 [==============================] - ETA: 0s - loss: 0.5168 - accuracy: 0.7756\nEpoch 00009: val_loss improved from 0.56004 to 0.51030, saving model to NumberNetworkKFOLD8.h5\n68/68 [==============================] - 0s 4ms/step - loss: 0.5168 - accuracy: 0.7756 - val_loss: 0.5103 - val_accuracy: 0.7822\nEpoch 10/20\n61/68 [=========================>....] - ETA: 0s - loss: 0.4779 - accuracy: 0.8030\nEpoch 00010: val_loss improved from 0.51030 to 0.47985, saving model to NumberNetworkKFOLD8.h5\n68/68 [==============================] - 0s 3ms/step - loss: 0.4775 - accuracy: 0.8057 - val_loss: 0.4799 - val_accuracy: 0.8089\nEpoch 11/20\n62/68 [==========================>...] - ETA: 0s - loss: 0.4579 - accuracy: 0.8269\nEpoch 00011: val_loss improved from 0.47985 to 0.46368, saving model to NumberNetworkKFOLD8.h5\n68/68 [==============================] - 0s 4ms/step - loss: 0.4527 - accuracy: 0.8289 - val_loss: 0.4637 - val_accuracy: 0.8244\nEpoch 12/20\n60/68 [=========================>....] - ETA: 0s - loss: 0.4291 - accuracy: 0.8406\nEpoch 00012: val_loss improved from 0.46368 to 0.46102, saving model to NumberNetworkKFOLD8.h5\n68/68 [==============================] - 0s 4ms/step - loss: 0.4355 - accuracy: 0.8360 - val_loss: 0.4610 - val_accuracy: 0.8422\nEpoch 13/20\n57/68 [========================>.....] - ETA: 0s - loss: 0.4296 - accuracy: 0.8363\nEpoch 00013: val_loss improved from 0.46102 to 0.44509, saving model to NumberNetworkKFOLD8.h5\n68/68 [==============================] - 0s 4ms/step - loss: 0.4273 - accuracy: 0.8390 - val_loss: 0.4451 - val_accuracy: 0.8400\nEpoch 14/20\n62/68 [==========================>...] - ETA: 0s - loss: 0.4174 - accuracy: 0.8409\nEpoch 00014: val_loss improved from 0.44509 to 0.44073, saving model to NumberNetworkKFOLD8.h5\n68/68 [==============================] - 0s 3ms/step - loss: 0.4203 - accuracy: 0.8407 - val_loss: 0.4407 - val_accuracy: 0.8467\nEpoch 15/20\n59/68 [=========================>....] - ETA: 0s - loss: 0.4167 - accuracy: 0.8449\nEpoch 00015: val_loss improved from 0.44073 to 0.43735, saving model to NumberNetworkKFOLD8.h5\n68/68 [==============================] - 0s 4ms/step - loss: 0.4152 - accuracy: 0.8449 - val_loss: 0.4373 - val_accuracy: 0.8467\nEpoch 16/20\n64/68 [===========================>..] - ETA: 0s - loss: 0.4085 - accuracy: 0.8456\nEpoch 00016: val_loss improved from 0.43735 to 0.43508, saving model to NumberNetworkKFOLD8.h5\n68/68 [==============================] - 0s 3ms/step - loss: 0.4114 - accuracy: 0.8444 - val_loss: 0.4351 - val_accuracy: 0.8467\nEpoch 17/20\n59/68 [=========================>....] - ETA: 0s - loss: 0.4076 - accuracy: 0.8452\nEpoch 00017: val_loss improved from 0.43508 to 0.43462, saving model to NumberNetworkKFOLD8.h5\n68/68 [==============================] - 0s 4ms/step - loss: 0.4088 - accuracy: 0.8459 - val_loss: 0.4346 - val_accuracy: 0.8400\nEpoch 18/20\n60/68 [=========================>....] - ETA: 0s - loss: 0.4043 - accuracy: 0.8458\nEpoch 00018: val_loss improved from 0.43462 to 0.43278, saving model to NumberNetworkKFOLD8.h5\n68/68 [==============================] - 0s 4ms/step - loss: 0.4061 - accuracy: 0.8464 - val_loss: 0.4328 - val_accuracy: 0.8400\nEpoch 19/20\n61/68 [=========================>....] - ETA: 0s - loss: 0.3970 - accuracy: 0.8541\nEpoch 00019: val_loss did not improve from 0.43278\n68/68 [==============================] - 0s 3ms/step - loss: 0.4039 - accuracy: 0.8509 - val_loss: 0.4335 - val_accuracy: 0.8444\nEpoch 20/20\n54/68 [======================>.......] - ETA: 0s - loss: 0.4005 - accuracy: 0.8469\nEpoch 00020: val_loss improved from 0.43278 to 0.42970, saving model to NumberNetworkKFOLD8.h5\n68/68 [==============================] - 0s 4ms/step - loss: 0.4021 - accuracy: 0.8481 - val_loss: 0.4297 - val_accuracy: 0.8378\n[2020-07-08 01:49:33,626 INFO] Validating on fold 8 ...\n16/16 [==============================] - 0s 2ms/step - loss: 0.3776 - accuracy: 0.8540\n[2020-07-08 01:49:33,699 INFO] Score for fold 8: loss of 0.3775510787963867; accuracy of 85.39999723434448%\n[2020-07-08 01:49:33,700 INFO] Calculating inference for fold 8 ...\n[2020-07-08 01:49:33,773 INFO] Writing fit history to output/NumberNetworkKFOLD.h5\n[2020-07-08 01:49:33,783 INFO] Building model for fold 9 from share/reference_number.py...\n[2020-07-08 01:49:33,820 INFO] Compiling for fold 9 ...\n[2020-07-08 01:49:33,829 INFO] Training for fold 9 ...\nEpoch 1/20\n59/68 [=========================>....] - ETA: 0s - loss: 0.8797 - accuracy: 0.6271\nEpoch 00001: val_loss improved from inf to 0.79029, saving model to NumberNetworkKFOLD9.h5\n68/68 [==============================] - 0s 5ms/step - loss: 0.8648 - accuracy: 0.6398 - val_loss: 0.7903 - val_accuracy: 0.7111\nEpoch 2/20\n62/68 [==========================>...] - ETA: 0s - loss: 0.7523 - accuracy: 0.7336\nEpoch 00002: val_loss improved from 0.79029 to 0.78470, saving model to NumberNetworkKFOLD9.h5\n68/68 [==============================] - 0s 3ms/step - loss: 0.7552 - accuracy: 0.7323 - val_loss: 0.7847 - val_accuracy: 0.7111\nEpoch 3/20\n57/68 [========================>.....] - ETA: 0s - loss: 0.7452 - accuracy: 0.7336\nEpoch 00003: val_loss improved from 0.78470 to 0.77554, saving model to NumberNetworkKFOLD9.h5\n68/68 [==============================] - 0s 4ms/step - loss: 0.7476 - accuracy: 0.7323 - val_loss: 0.7755 - val_accuracy: 0.7111\nEpoch 4/20\n61/68 [=========================>....] - ETA: 0s - loss: 0.7399 - accuracy: 0.7322\nEpoch 00004: val_loss improved from 0.77554 to 0.76483, saving model to NumberNetworkKFOLD9.h5\n68/68 [==============================] - 0s 4ms/step - loss: 0.7385 - accuracy: 0.7323 - val_loss: 0.7648 - val_accuracy: 0.7111\nEpoch 5/20\n58/68 [========================>.....] - ETA: 0s - loss: 0.7241 - accuracy: 0.7348\nEpoch 00005: val_loss improved from 0.76483 to 0.74932, saving model to NumberNetworkKFOLD9.h5\n68/68 [==============================] - 0s 4ms/step - loss: 0.7268 - accuracy: 0.7323 - val_loss: 0.7493 - val_accuracy: 0.7111\nEpoch 6/20\n61/68 [=========================>....] - ETA: 0s - loss: 0.7066 - accuracy: 0.7342\nEpoch 00006: val_loss improved from 0.74932 to 0.72640, saving model to NumberNetworkKFOLD9.h5\n68/68 [==============================] - 0s 4ms/step - loss: 0.7088 - accuracy: 0.7323 - val_loss: 0.7264 - val_accuracy: 0.7111\nEpoch 7/20\n59/68 [=========================>....] - ETA: 0s - loss: 0.6849 - accuracy: 0.7328\nEpoch 00007: val_loss improved from 0.72640 to 0.69328, saving model to NumberNetworkKFOLD9.h5\n68/68 [==============================] - 0s 4ms/step - loss: 0.6836 - accuracy: 0.7323 - val_loss: 0.6933 - val_accuracy: 0.7111\nEpoch 8/20\n60/68 [=========================>....] - ETA: 0s - loss: 0.6439 - accuracy: 0.7344\nEpoch 00008: val_loss improved from 0.69328 to 0.64138, saving model to NumberNetworkKFOLD9.h5\n68/68 [==============================] - 0s 4ms/step - loss: 0.6434 - accuracy: 0.7331 - val_loss: 0.6414 - val_accuracy: 0.7200\nEpoch 9/20\n58/68 [========================>.....] - ETA: 0s - loss: 0.5915 - accuracy: 0.7572\nEpoch 00009: val_loss improved from 0.64138 to 0.57490, saving model to NumberNetworkKFOLD9.h5\n68/68 [==============================] - 0s 4ms/step - loss: 0.5870 - accuracy: 0.7617 - val_loss: 0.5749 - val_accuracy: 0.7711\nEpoch 10/20\n61/68 [=========================>....] - ETA: 0s - loss: 0.5288 - accuracy: 0.7940\nEpoch 00010: val_loss improved from 0.57490 to 0.51463, saving model to NumberNetworkKFOLD9.h5\n68/68 [==============================] - 0s 4ms/step - loss: 0.5262 - accuracy: 0.7951 - val_loss: 0.5146 - val_accuracy: 0.7822\nEpoch 11/20\n59/68 [=========================>....] - ETA: 0s - loss: 0.4841 - accuracy: 0.8136\nEpoch 00011: val_loss improved from 0.51463 to 0.47890, saving model to NumberNetworkKFOLD9.h5\n68/68 [==============================] - 0s 4ms/step - loss: 0.4811 - accuracy: 0.8143 - val_loss: 0.4789 - val_accuracy: 0.8044\nEpoch 12/20\n60/68 [=========================>....] - ETA: 0s - loss: 0.4532 - accuracy: 0.8267\nEpoch 00012: val_loss improved from 0.47890 to 0.45828, saving model to NumberNetworkKFOLD9.h5\n68/68 [==============================] - 0s 4ms/step - loss: 0.4527 - accuracy: 0.8281 - val_loss: 0.4583 - val_accuracy: 0.8222\nEpoch 13/20\n58/68 [========================>.....] - ETA: 0s - loss: 0.4342 - accuracy: 0.8353\nEpoch 00013: val_loss improved from 0.45828 to 0.44769, saving model to NumberNetworkKFOLD9.h5\n68/68 [==============================] - 0s 4ms/step - loss: 0.4353 - accuracy: 0.8348 - val_loss: 0.4477 - val_accuracy: 0.8333\nEpoch 14/20\n59/68 [=========================>....] - ETA: 0s - loss: 0.4251 - accuracy: 0.8387\nEpoch 00014: val_loss improved from 0.44769 to 0.44411, saving model to NumberNetworkKFOLD9.h5\n68/68 [==============================] - 0s 4ms/step - loss: 0.4247 - accuracy: 0.8390 - val_loss: 0.4441 - val_accuracy: 0.8267\nEpoch 15/20\n61/68 [=========================>....] - ETA: 0s - loss: 0.4180 - accuracy: 0.8404\nEpoch 00015: val_loss improved from 0.44411 to 0.43917, saving model to NumberNetworkKFOLD9.h5\n68/68 [==============================] - 0s 4ms/step - loss: 0.4178 - accuracy: 0.8415 - val_loss: 0.4392 - val_accuracy: 0.8400\nEpoch 16/20\n58/68 [========================>.....] - ETA: 0s - loss: 0.4173 - accuracy: 0.8414\nEpoch 00016: val_loss improved from 0.43917 to 0.43848, saving model to NumberNetworkKFOLD9.h5\n68/68 [==============================] - 0s 4ms/step - loss: 0.4125 - accuracy: 0.8440 - val_loss: 0.4385 - val_accuracy: 0.8400\nEpoch 17/20\n62/68 [==========================>...] - ETA: 0s - loss: 0.4069 - accuracy: 0.8481\nEpoch 00017: val_loss improved from 0.43848 to 0.43647, saving model to NumberNetworkKFOLD9.h5\n68/68 [==============================] - 0s 3ms/step - loss: 0.4077 - accuracy: 0.8469 - val_loss: 0.4365 - val_accuracy: 0.8400\nEpoch 18/20\n59/68 [=========================>....] - ETA: 0s - loss: 0.4059 - accuracy: 0.8441\nEpoch 00018: val_loss improved from 0.43647 to 0.43383, saving model to NumberNetworkKFOLD9.h5\n68/68 [==============================] - 0s 4ms/step - loss: 0.4053 - accuracy: 0.8457 - val_loss: 0.4338 - val_accuracy: 0.8511\nEpoch 19/20\n62/68 [==========================>...] - ETA: 0s - loss: 0.4034 - accuracy: 0.8503\nEpoch 00019: val_loss improved from 0.43383 to 0.43362, saving model to NumberNetworkKFOLD9.h5\n68/68 [==============================] - 0s 4ms/step - loss: 0.4033 - accuracy: 0.8494 - val_loss: 0.4336 - val_accuracy: 0.8356\nEpoch 20/20\n60/68 [=========================>....] - ETA: 0s - loss: 0.4011 - accuracy: 0.8503\nEpoch 00020: val_loss improved from 0.43362 to 0.43146, saving model to NumberNetworkKFOLD9.h5\n68/68 [==============================] - 0s 4ms/step - loss: 0.4000 - accuracy: 0.8521 - val_loss: 0.4315 - val_accuracy: 0.8467\n[2020-07-08 01:49:39,472 INFO] Validating on fold 9 ...\n16/16 [==============================] - 0s 2ms/step - loss: 0.3627 - accuracy: 0.8660\n[2020-07-08 01:49:39,549 INFO] Score for fold 9: loss of 0.36269471049308777; accuracy of 86.59999966621399%\n[2020-07-08 01:49:39,550 INFO] Calculating inference for fold 9 ...\n[2020-07-08 01:49:39,628 INFO] Writing fit history to output/NumberNetworkKFOLD.h5\n[2020-07-08 01:49:39,641 INFO] Building model for fold 10 from share/reference_number.py...\n[2020-07-08 01:49:39,683 INFO] Compiling for fold 10 ...\n[2020-07-08 01:49:39,691 INFO] Training for fold 10 ...\nEpoch 1/20\n60/68 [=========================>....] - ETA: 0s - loss: 0.7948 - accuracy: 0.7069\nEpoch 00001: val_loss improved from inf to 0.73415, saving model to NumberNetworkKFOLD10.h5\n68/68 [==============================] - 0s 5ms/step - loss: 0.7918 - accuracy: 0.7099 - val_loss: 0.7341 - val_accuracy: 0.7444\nEpoch 2/20\n62/68 [==========================>...] - ETA: 0s - loss: 0.7570 - accuracy: 0.7306\nEpoch 00002: val_loss improved from 0.73415 to 0.72595, saving model to NumberNetworkKFOLD10.h5\n68/68 [==============================] - 0s 3ms/step - loss: 0.7581 - accuracy: 0.7296 - val_loss: 0.7259 - val_accuracy: 0.7444\nEpoch 3/20\n58/68 [========================>.....] - ETA: 0s - loss: 0.7478 - accuracy: 0.7307\nEpoch 00003: val_loss improved from 0.72595 to 0.71413, saving model to NumberNetworkKFOLD10.h5\n68/68 [==============================] - 0s 4ms/step - loss: 0.7491 - accuracy: 0.7296 - val_loss: 0.7141 - val_accuracy: 0.7444\nEpoch 4/20\n61/68 [=========================>....] - ETA: 0s - loss: 0.7342 - accuracy: 0.7311\nEpoch 00004: val_loss improved from 0.71413 to 0.69537, saving model to NumberNetworkKFOLD10.h5\n68/68 [==============================] - 0s 3ms/step - loss: 0.7362 - accuracy: 0.7296 - val_loss: 0.6954 - val_accuracy: 0.7444\nEpoch 5/20\n59/68 [=========================>....] - ETA: 0s - loss: 0.7237 - accuracy: 0.7251\nEpoch 00005: val_loss improved from 0.69537 to 0.66423, saving model to NumberNetworkKFOLD10.h5\n68/68 [==============================] - 0s 4ms/step - loss: 0.7149 - accuracy: 0.7296 - val_loss: 0.6642 - val_accuracy: 0.7444\nEpoch 6/20\n68/68 [==============================] - ETA: 0s - loss: 0.6796 - accuracy: 0.7296\nEpoch 00006: val_loss improved from 0.66423 to 0.61378, saving model to NumberNetworkKFOLD10.h5\n68/68 [==============================] - 0s 4ms/step - loss: 0.6796 - accuracy: 0.7296 - val_loss: 0.6138 - val_accuracy: 0.7444\nEpoch 7/20\n62/68 [==========================>...] - ETA: 0s - loss: 0.6284 - accuracy: 0.7309\nEpoch 00007: val_loss improved from 0.61378 to 0.54252, saving model to NumberNetworkKFOLD10.h5\n68/68 [==============================] - 0s 4ms/step - loss: 0.6230 - accuracy: 0.7341 - val_loss: 0.5425 - val_accuracy: 0.7689\nEpoch 8/20\n59/68 [=========================>....] - ETA: 0s - loss: 0.5634 - accuracy: 0.7681\nEpoch 00008: val_loss improved from 0.54252 to 0.47320, saving model to NumberNetworkKFOLD10.h5\n68/68 [==============================] - 0s 4ms/step - loss: 0.5554 - accuracy: 0.7704 - val_loss: 0.4732 - val_accuracy: 0.8222\nEpoch 9/20\n58/68 [========================>.....] - ETA: 0s - loss: 0.5050 - accuracy: 0.7983\nEpoch 00009: val_loss improved from 0.47320 to 0.42539, saving model to NumberNetworkKFOLD10.h5\n68/68 [==============================] - 0s 4ms/step - loss: 0.5009 - accuracy: 0.8010 - val_loss: 0.4254 - val_accuracy: 0.8333\nEpoch 10/20\n47/68 [===================>..........] - ETA: 0s - loss: 0.4789 - accuracy: 0.8138\nEpoch 00010: val_loss improved from 0.42539 to 0.39650, saving model to NumberNetworkKFOLD10.h5\n68/68 [==============================] - 0s 4ms/step - loss: 0.4658 - accuracy: 0.8202 - val_loss: 0.3965 - val_accuracy: 0.8511\nEpoch 11/20\n60/68 [=========================>....] - ETA: 0s - loss: 0.4465 - accuracy: 0.8269\nEpoch 00011: val_loss improved from 0.39650 to 0.37846, saving model to NumberNetworkKFOLD10.h5\n68/68 [==============================] - 0s 4ms/step - loss: 0.4452 - accuracy: 0.8291 - val_loss: 0.3785 - val_accuracy: 0.8622\nEpoch 12/20\n59/68 [=========================>....] - ETA: 0s - loss: 0.4317 - accuracy: 0.8379\nEpoch 00012: val_loss improved from 0.37846 to 0.36740, saving model to NumberNetworkKFOLD10.h5\n68/68 [==============================] - 0s 4ms/step - loss: 0.4310 - accuracy: 0.8378 - val_loss: 0.3674 - val_accuracy: 0.8578\nEpoch 13/20\n60/68 [=========================>....] - ETA: 0s - loss: 0.4217 - accuracy: 0.8419\nEpoch 00013: val_loss improved from 0.36740 to 0.35872, saving model to NumberNetworkKFOLD10.h5\n68/68 [==============================] - 0s 3ms/step - loss: 0.4226 - accuracy: 0.8402 - val_loss: 0.3587 - val_accuracy: 0.8711\nEpoch 14/20\n59/68 [=========================>....] - ETA: 0s - loss: 0.4201 - accuracy: 0.8401\nEpoch 00014: val_loss improved from 0.35872 to 0.35281, saving model to NumberNetworkKFOLD10.h5\n68/68 [==============================] - 0s 4ms/step - loss: 0.4171 - accuracy: 0.8427 - val_loss: 0.3528 - val_accuracy: 0.8778\nEpoch 15/20\n60/68 [=========================>....] - ETA: 0s - loss: 0.4074 - accuracy: 0.8469\nEpoch 00015: val_loss improved from 0.35281 to 0.35254, saving model to NumberNetworkKFOLD10.h5\n68/68 [==============================] - 0s 3ms/step - loss: 0.4117 - accuracy: 0.8442 - val_loss: 0.3525 - val_accuracy: 0.8778\nEpoch 16/20\n57/68 [========================>.....] - ETA: 0s - loss: 0.4116 - accuracy: 0.8430\nEpoch 00016: val_loss improved from 0.35254 to 0.34571, saving model to NumberNetworkKFOLD10.h5\n68/68 [==============================] - 0s 4ms/step - loss: 0.4093 - accuracy: 0.8427 - val_loss: 0.3457 - val_accuracy: 0.8756\nEpoch 17/20\n60/68 [=========================>....] - ETA: 0s - loss: 0.4115 - accuracy: 0.8453\nEpoch 00017: val_loss improved from 0.34571 to 0.34210, saving model to NumberNetworkKFOLD10.h5\n68/68 [==============================] - 0s 4ms/step - loss: 0.4060 - accuracy: 0.8459 - val_loss: 0.3421 - val_accuracy: 0.8778\nEpoch 18/20\n60/68 [=========================>....] - ETA: 0s - loss: 0.4033 - accuracy: 0.8481\nEpoch 00018: val_loss improved from 0.34210 to 0.33819, saving model to NumberNetworkKFOLD10.h5\n68/68 [==============================] - 0s 4ms/step - loss: 0.4034 - accuracy: 0.8477 - val_loss: 0.3382 - val_accuracy: 0.8756\nEpoch 19/20\n58/68 [========================>.....] - ETA: 0s - loss: 0.3956 - accuracy: 0.8526\nEpoch 00019: val_loss did not improve from 0.33819\n68/68 [==============================] - 0s 3ms/step - loss: 0.4016 - accuracy: 0.8491 - val_loss: 0.3384 - val_accuracy: 0.8800\nEpoch 20/20\n61/68 [=========================>....] - ETA: 0s - loss: 0.3953 - accuracy: 0.8525\nEpoch 00020: val_loss improved from 0.33819 to 0.33356, saving model to NumberNetworkKFOLD10.h5\n68/68 [==============================] - 0s 3ms/step - loss: 0.3991 - accuracy: 0.8501 - val_loss: 0.3336 - val_accuracy: 0.8756\n[2020-07-08 01:49:45,503 INFO] Validating on fold 10 ...\n16/16 [==============================] - 0s 2ms/step - loss: 0.4140 - accuracy: 0.8400\n[2020-07-08 01:49:45,578 INFO] Score for fold 10: loss of 0.4139702022075653; accuracy of 83.99999737739563%\n[2020-07-08 01:49:45,579 INFO] Calculating inference for fold 10 ...\n[2020-07-08 01:49:45,656 INFO] Writing fit history to output/NumberNetworkKFOLD.h5\n[2020-07-08 01:49:45,764 INFO] Done training!\n"
    },
    {
     "output_type": "execute_result",
     "data": {
      "text/plain": "\"\\nfpr_dict = {}\\ntpr_dict = {}\\nfor i,label in enumerate(labels):\\n    #print(f'{label}_{k+1}')\\n    fpr_dict[label] = np.array([])\\n    tpr_dict[label] = np.array([])\\n    for k in range(fold_no):\\n        #print(k)\\n        fpr_dict[label] = np.concatenate([fpr_dict[label], fpr[label+f'_{k+1}']], axis=0)\\n        tpr_dict[label] = np.concatenate([tpr_dict[label], tpr[label+f'_{k+1}']], axis=0)\\n\""
     },
     "metadata": {},
     "execution_count": 16
    }
   ],
   "source": [
    "fold_no = 0\n",
    "with h5.File(f'output/{args.name}.h5', 'w'):\n",
    "    logging.info(f'output/{args.name}.h5 created/emptied')\n",
    "\n",
    "for train, test in splits:\n",
    "    fold_no += 1\n",
    "    logging.info(f'Building model for fold {fold_no} from {path}...')\n",
    "    model, compile_args, fit_args, params = _build_model(path, data_x, data_y)\n",
    "    compile_args['metrics']=['accuracy']\n",
    "    fit_args['batch_size']=args.batch_size\n",
    "    fit_args['validation_split'] = 0.1\n",
    "    fit_args['epochs'] = args.epochs\n",
    "    fit_args['callbacks'] = [keras.callbacks.TerminateOnNaN(),\n",
    "                             keras.callbacks.ModelCheckpoint(args.name + str(fold_no) + '.h5', save_best_only=True,verbose=1)]\n",
    "                             #keras.callbacks.CSVLogger('output/'+args.name+str(fold_no)+'.csv')]\n",
    "    logging.info(f'Compiling for fold {fold_no} ...')\n",
    "    model.compile(**compile_args)\n",
    "\n",
    "    logging.info(f'Training for fold {fold_no} ...')\n",
    "    history = model.fit(data_x[train], data_y[train], **fit_args)\n",
    "    \n",
    "    logging.info(f'Validating on fold {fold_no} ...')\n",
    "    scores = model.evaluate(data_x[test], data_y[test])\n",
    "    \n",
    "    logging.info(f'Score for fold {fold_no}: {model.metrics_names[0]} of {scores[0]}; {model.metrics_names[1]} of {scores[1] * 100}%')\n",
    "    acc_per_fold.append(scores[1]*100)\n",
    "    loss_per_fold.append(scores[0])\n",
    "    \n",
    "    logging.info(f'Calculating inference for fold {fold_no} ...')\n",
    "    y_pred = model.predict(data_x[test])\n",
    "    #preds.append(y_pred)\n",
    "    #reals.append(data_y[test])\n",
    "    \n",
    "    for i, label in enumerate(labels):\n",
    "        #print(f'{label}_{k+1}')\n",
    "        #thisfpr, thistpr, threshold = roc_curve(data_y[test][:,i], y_pred[:,i])\n",
    "        #fpr[label] = np.concatenate([fpr[label], thisfpr], axis=0)\n",
    "        #tpr[label] = np.concatenate([tpr[label], thistpr], axis=0)\n",
    "        fpr[f'{label}_{fold_no}'], tpr[f'{label}_{fold_no}'], threshold = roc_curve(data_y[test][:,i], y_pred[:,i])\n",
    "        auc1[f'{label}_{fold_no}'] = auc(fpr[f'{label}_{fold_no}'], tpr[f'{label}_{fold_no}'])\n",
    "        \n",
    "    logging.info(f'Writing fit history to output/{args.name}.h5')\n",
    "    with h5.File(f'output/{args.name}.h5', 'a') as hfile:\n",
    "        for key, val in history.history.items():\n",
    "            hfile.create_dataset(key+'_'+str(fold_no), data=np.array(val))\n",
    "        for label in labels:\n",
    "            hfile.create_dataset(f'{label}_{fold_no}_fpr', data=fpr[f'{label}_{fold_no}'])\n",
    "            hfile.create_dataset(f'{label}_{fold_no}_tpr', data=tpr[f'{label}_{fold_no}'])\n",
    "            hfile.create_dataset(f'{label}_{fold_no}_auc', data=auc1[f'{label}_{fold_no}'])\n",
    "    models.append(model)\n",
    "\n",
    "logging.info('Done training!')\n",
    "\n",
    "'''\n",
    "fpr_dict = {}\n",
    "tpr_dict = {}\n",
    "for i,label in enumerate(labels):\n",
    "    #print(f'{label}_{k+1}')\n",
    "    fpr_dict[label] = np.array([])\n",
    "    tpr_dict[label] = np.array([])\n",
    "    for k in range(fold_no):\n",
    "        #print(k)\n",
    "        fpr_dict[label] = np.concatenate([fpr_dict[label], fpr[label+f'_{k+1}']], axis=0)\n",
    "        tpr_dict[label] = np.concatenate([tpr_dict[label], tpr[label+f'_{k+1}']], axis=0)\n",
    "'''"
   ]
  },
  {
   "cell_type": "code",
   "execution_count": 17,
   "metadata": {
    "tags": []
   },
   "outputs": [
    {
     "output_type": "stream",
     "name": "stdout",
     "text": "<KeysViewHDF5 ['1particle_10_auc', '1particle_10_fpr', '1particle_10_tpr', '1particle_1_auc', '1particle_1_fpr', '1particle_1_tpr', '1particle_2_auc', '1particle_2_fpr', '1particle_2_tpr', '1particle_3_auc', '1particle_3_fpr', '1particle_3_tpr', '1particle_4_auc', '1particle_4_fpr', '1particle_4_tpr', '1particle_5_auc', '1particle_5_fpr', '1particle_5_tpr', '1particle_6_auc', '1particle_6_fpr', '1particle_6_tpr', '1particle_7_auc', '1particle_7_fpr', '1particle_7_tpr', '1particle_8_auc', '1particle_8_fpr', '1particle_8_tpr', '1particle_9_auc', '1particle_9_fpr', '1particle_9_tpr', '2particle_10_auc', '2particle_10_fpr', '2particle_10_tpr', '2particle_1_auc', '2particle_1_fpr', '2particle_1_tpr', '2particle_2_auc', '2particle_2_fpr', '2particle_2_tpr', '2particle_3_auc', '2particle_3_fpr', '2particle_3_tpr', '2particle_4_auc', '2particle_4_fpr', '2particle_4_tpr', '2particle_5_auc', '2particle_5_fpr', '2particle_5_tpr', '2particle_6_auc', '2particle_6_fpr', '2particle_6_tpr', '2particle_7_auc', '2particle_7_fpr', '2particle_7_tpr', '2particle_8_auc', '2particle_8_fpr', '2particle_8_tpr', '2particle_9_auc', '2particle_9_fpr', '2particle_9_tpr', '3particle_10_auc', '3particle_10_fpr', '3particle_10_tpr', '3particle_1_auc', '3particle_1_fpr', '3particle_1_tpr', '3particle_2_auc', '3particle_2_fpr', '3particle_2_tpr', '3particle_3_auc', '3particle_3_fpr', '3particle_3_tpr', '3particle_4_auc', '3particle_4_fpr', '3particle_4_tpr', '3particle_5_auc', '3particle_5_fpr', '3particle_5_tpr', '3particle_6_auc', '3particle_6_fpr', '3particle_6_tpr', '3particle_7_auc', '3particle_7_fpr', '3particle_7_tpr', '3particle_8_auc', '3particle_8_fpr', '3particle_8_tpr', '3particle_9_auc', '3particle_9_fpr', '3particle_9_tpr', 'accuracy_1', 'accuracy_10', 'accuracy_2', 'accuracy_3', 'accuracy_4', 'accuracy_5', 'accuracy_6', 'accuracy_7', 'accuracy_8', 'accuracy_9', 'loss_1', 'loss_10', 'loss_2', 'loss_3', 'loss_4', 'loss_5', 'loss_6', 'loss_7', 'loss_8', 'loss_9', 'val_accuracy_1', 'val_accuracy_10', 'val_accuracy_2', 'val_accuracy_3', 'val_accuracy_4', 'val_accuracy_5', 'val_accuracy_6', 'val_accuracy_7', 'val_accuracy_8', 'val_accuracy_9', 'val_loss_1', 'val_loss_10', 'val_loss_2', 'val_loss_3', 'val_loss_4', 'val_loss_5', 'val_loss_6', 'val_loss_7', 'val_loss_8', 'val_loss_9']>\n"
    }
   ],
   "source": [
    "with h5.File('output/NumberNetworkKFOLD.h5', 'r') as f:\n",
    "    print(f.keys())"
   ]
  },
  {
   "cell_type": "code",
   "execution_count": null,
   "metadata": {},
   "outputs": [],
   "source": []
  },
  {
   "cell_type": "markdown",
   "metadata": {},
   "source": [
    "## Plotting and Evaluation"
   ]
  },
  {
   "cell_type": "markdown",
   "metadata": {},
   "source": [
    "# ROC Curves"
   ]
  },
  {
   "cell_type": "code",
   "execution_count": 1,
   "metadata": {},
   "outputs": [],
   "source": [
    "def kfoldRoc(infile, labels, name=\"\", outdir=\"\"):\n",
    "\n",
    "    folds = 10\n",
    "    npoints = 200\n",
    "    base_fpr = np.exp(np.linspace(math.log(0.0005), 0., npoints))\n",
    "    avg_tpr = {}\n",
    "    plus_tpr = {}\n",
    "    minus_tpr = {}\n",
    "\n",
    "    fpr_list = [[0]*(folds) for i in range(len(labels))]\n",
    "    tpr_list = [[0]*(folds) for i in range(len(labels))]\n",
    "    auc_list = [[0]*(folds) for i in range(len(labels))]\n",
    "    with h5.File(infile, 'r') as hfile:\n",
    "        for i, label in enumerate(labels):\n",
    "            for j in range(folds):\n",
    "                fpr_list[i][j] = hfile[f'{label}_{j+1}_fpr'][()]\n",
    "                tpr_list[i][j] = hfile[f'{label}_{j+1}_tpr'][()]\n",
    "                auc_list[i][j] = hfile[f'{label}_{j+1}_auc'][()]\n",
    "\n",
    "    fpr_list = np.array(fpr_list)\n",
    "    tpr_list = np.array(tpr_list)\n",
    "    auc_list = np.array(auc_list)\n",
    "\n",
    "    plt.figure()\n",
    "\n",
    "    for i, particle in enumerate(labels):\n",
    "        tpr_array = np.array([])\n",
    "        for j in range(folds):\n",
    "            tpr_interpolated = np.interp(base_fpr, fpr_list[i][j], tpr_list[i][j])\n",
    "            tpr_interpolated = tpr_interpolated.reshape((1,npoints))\n",
    "            tpr_array = np.concatenate([tpr_array, tpr_interpolated], axis=0) if tpr_array.size else tpr_interpolated\n",
    "        mean_tpr = np.mean(tpr_array, axis=0)\n",
    "        rms_tpr = np.std(tpr_array, axis=0)\n",
    "        plus_tpr[particle] = np.minimum(mean_tpr+rms_tpr, np.ones(npoints))\n",
    "        minus_tpr[particle] = np.maximum(mean_tpr-rms_tpr,np.zeros(npoints))\n",
    "        avg_tpr[particle] = mean_tpr\n",
    "\n",
    "        plt.plot(base_fpr, avg_tpr[particle], label=f'{i+1} particle (AUC = {np.mean(auc_list[i][()]):.2f} (+- {np.std(auc_list[i][()]):.4f}))')\n",
    "        plt.fill_between(base_fpr, minus_tpr[particle], plus_tpr[particle], alpha=0.3)\n",
    "\n",
    "    plt.plot([0, 1], [0, 1], lw=1, color='navy', linestyle='--')\n",
    "    plt.semilogx()\n",
    "    plt.ylabel(\"TPR\")\n",
    "    plt.xlabel(\"FPR\")\n",
    "    plt.xlim([-0.05, 1.05])\n",
    "    plt.ylim(0.001,1.05)\n",
    "    plt.grid(True)\n",
    "    plt.legend(loc='lower right')\n",
    "    plt.figtext(0.25, 0.90,f'{name}',fontweight='bold', wrap=True, horizontalalignment='right', fontsize=10)\n",
    "    #plt.figtext(0.35, 0.90,'preliminary', style='italic', wrap=True, horizontalalignment='center', fontsize=14) \n",
    "    plt.savefig(f'{outdir}{name}_ROC.pdf')\n",
    "    plt.close()"
   ]
  },
  {
   "cell_type": "code",
   "execution_count": 2,
   "metadata": {},
   "outputs": [
    {
     "output_type": "error",
     "ename": "NameError",
     "evalue": "name 'args' is not defined",
     "traceback": [
      "\u001b[1;31m---------------------------------------------------------------------------\u001b[0m",
      "\u001b[1;31mNameError\u001b[0m                                 Traceback (most recent call last)",
      "\u001b[1;32m<ipython-input-2-acae5fe5bfd2>\u001b[0m in \u001b[0;36m<module>\u001b[1;34m\u001b[0m\n\u001b[0;32m      1\u001b[0m \u001b[0mlabels\u001b[0m \u001b[1;33m=\u001b[0m \u001b[1;33m[\u001b[0m\u001b[1;34m'1particle'\u001b[0m\u001b[1;33m,\u001b[0m \u001b[1;34m'2particle'\u001b[0m\u001b[1;33m,\u001b[0m \u001b[1;34m'3particle'\u001b[0m\u001b[1;33m]\u001b[0m\u001b[1;33m\u001b[0m\u001b[1;33m\u001b[0m\u001b[0m\n\u001b[1;32m----> 2\u001b[1;33m \u001b[0mkfoldRoc\u001b[0m\u001b[1;33m(\u001b[0m\u001b[1;34mf'output/{args.name}.h5'\u001b[0m\u001b[1;33m,\u001b[0m \u001b[0mlabels\u001b[0m\u001b[1;33m,\u001b[0m \u001b[1;34m\"kfold\"\u001b[0m\u001b[1;33m,\u001b[0m \u001b[1;34m\"output/\"\u001b[0m\u001b[1;33m)\u001b[0m\u001b[1;33m\u001b[0m\u001b[1;33m\u001b[0m\u001b[0m\n\u001b[0m",
      "\u001b[1;31mNameError\u001b[0m: name 'args' is not defined"
     ]
    }
   ],
   "source": [
    "labels = ['1particle', '2particle', '3particle']\n",
    "kfoldRoc(f'output/{args.name}.h5', labels, \"kfold\", \"output/\")"
   ]
  },
  {
   "cell_type": "code",
   "execution_count": 128,
   "metadata": {},
   "outputs": [],
   "source": [
    "def learningCurves(infile, outdir=\"\"):\n",
    "\n",
    "    folds = 10\n",
    "    losses = [[0]*(folds) for i in range(2)]\n",
    "\n",
    "    with h5.File(infile, 'r') as hfile:\n",
    "        for i in range(folds):\n",
    "            losses[0][i] = hfile[f'loss_{i+1}'][()]\n",
    "            losses[1][i] = hfile[f'val_loss_{i+1}'][()]\n",
    "\n",
    "    for i in range(len(losses)):\n",
    "        for j in range(folds):\n",
    "            plt.plot(losses[i][j], label= ('val_' if i else '') + f'loss for {j} fold')\n",
    "\n",
    "    plt.plot([0, 1], [0, 1], lw=1, color='navy', linestyle='--')\n",
    "    plt.semilogx()\n",
    "    plt.ylabel(\"Loss\")\n",
    "    plt.xlabel(\"Epochs\")\n",
    "    plt.xlim([-0.05, 20])\n",
    "    plt.ylim(0.001,1.05)\n",
    "    plt.grid(True)\n",
    "    plt.legend(loc='lower right')\n",
    "    plt.figtext(0.25, 0.90,'loss',fontweight='bold', wrap=True, horizontalalignment='right', fontsize=10)\n",
    "    #plt.figtext(0.35, 0.90,'preliminary', style='italic', wrap=True, horizontalalignment='center', fontsize=14) \n",
    "    plt.savefig(f'{outdir}loss.pdf')\n",
    "    plt.close()"
   ]
  },
  {
   "cell_type": "code",
   "execution_count": 129,
   "metadata": {
    "tags": []
   },
   "outputs": [
    {
     "output_type": "stream",
     "name": "stderr",
     "text": "[2020-07-08 04:30:02,286 DEBUG] vmin 0.8631023914792423 vmax 20.0\n[2020-07-08 04:30:02,286 DEBUG] ticklocs array([1.e-02, 1.e-01, 1.e+00, 1.e+01, 1.e+02, 1.e+03])\n[2020-07-08 04:30:02,292 DEBUG] vmin 0.8631023914792423 vmax 20.0\n[2020-07-08 04:30:02,293 DEBUG] ticklocs array([1.e-02, 1.e-01, 1.e+00, 1.e+01, 1.e+02, 1.e+03])\n[2020-07-08 04:30:02,295 DEBUG] vmin 0.8631023914792423 vmax 20.0\n[2020-07-08 04:30:02,296 DEBUG] ticklocs array([2.e-02, 3.e-02, 4.e-02, 5.e-02, 6.e-02, 7.e-02, 8.e-02, 9.e-02,\n       2.e-01, 3.e-01, 4.e-01, 5.e-01, 6.e-01, 7.e-01, 8.e-01, 9.e-01,\n       2.e+00, 3.e+00, 4.e+00, 5.e+00, 6.e+00, 7.e+00, 8.e+00, 9.e+00,\n       2.e+01, 3.e+01, 4.e+01, 5.e+01, 6.e+01, 7.e+01, 8.e+01, 9.e+01,\n       2.e+02, 3.e+02, 4.e+02, 5.e+02, 6.e+02, 7.e+02, 8.e+02, 9.e+02,\n       2.e+03, 3.e+03, 4.e+03, 5.e+03, 6.e+03, 7.e+03, 8.e+03, 9.e+03])\n[2020-07-08 04:30:02,354 DEBUG] Assigning font /b'F1' = 'C:\\\\ProgramData\\\\Anaconda3\\\\envs\\\\MDNtraining_TF\\\\lib\\\\site-packages\\\\matplotlib\\\\mpl-data\\\\fonts\\\\ttf\\\\DejaVuSans.ttf'\n[2020-07-08 04:30:02,362 DEBUG] vmin 0.8631023914792423 vmax 20.0\n[2020-07-08 04:30:02,364 DEBUG] ticklocs array([1.e-02, 1.e-01, 1.e+00, 1.e+01, 1.e+02, 1.e+03])\n[2020-07-08 04:30:02,367 DEBUG] vmin 0.8631023914792423 vmax 20.0\n[2020-07-08 04:30:02,368 DEBUG] ticklocs array([1.e-02, 1.e-01, 1.e+00, 1.e+01, 1.e+02, 1.e+03])\n[2020-07-08 04:30:02,370 DEBUG] vmin 0.8631023914792423 vmax 20.0\n[2020-07-08 04:30:02,371 DEBUG] ticklocs array([2.e-02, 3.e-02, 4.e-02, 5.e-02, 6.e-02, 7.e-02, 8.e-02, 9.e-02,\n       2.e-01, 3.e-01, 4.e-01, 5.e-01, 6.e-01, 7.e-01, 8.e-01, 9.e-01,\n       2.e+00, 3.e+00, 4.e+00, 5.e+00, 6.e+00, 7.e+00, 8.e+00, 9.e+00,\n       2.e+01, 3.e+01, 4.e+01, 5.e+01, 6.e+01, 7.e+01, 8.e+01, 9.e+01,\n       2.e+02, 3.e+02, 4.e+02, 5.e+02, 6.e+02, 7.e+02, 8.e+02, 9.e+02,\n       2.e+03, 3.e+03, 4.e+03, 5.e+03, 6.e+03, 7.e+03, 8.e+03, 9.e+03])\n[2020-07-08 04:30:02,462 DEBUG] Assigning font /b'F2' = 'C:\\\\ProgramData\\\\Anaconda3\\\\envs\\\\MDNtraining_TF\\\\lib\\\\site-packages\\\\matplotlib\\\\mpl-data\\\\fonts\\\\ttf\\\\DejaVuSans-Bold.ttf'\n[2020-07-08 04:30:02,463 DEBUG] Embedding font C:\\ProgramData\\Anaconda3\\envs\\MDNtraining_TF\\lib\\site-packages\\matplotlib\\mpl-data\\fonts\\ttf\\DejaVuSans-Bold.ttf.\n[2020-07-08 04:30:02,464 DEBUG] Writing TrueType font.\n[2020-07-08 04:30:02,475 DEBUG] Embedding font C:\\ProgramData\\Anaconda3\\envs\\MDNtraining_TF\\lib\\site-packages\\matplotlib\\mpl-data\\fonts\\ttf\\DejaVuSans.ttf.\n[2020-07-08 04:30:02,476 DEBUG] Writing TrueType font.\n[2020-07-08 04:30:02,495 DEBUG] vmin 0.8631023914792423 vmax 20.0\n[2020-07-08 04:30:02,496 DEBUG] ticklocs array([1.e-02, 1.e-01, 1.e+00, 1.e+01, 1.e+02, 1.e+03])\n[2020-07-08 04:30:02,499 DEBUG] vmin 0.8631023914792423 vmax 20.0\n[2020-07-08 04:30:02,500 DEBUG] ticklocs array([1.e-02, 1.e-01, 1.e+00, 1.e+01, 1.e+02, 1.e+03])\n[2020-07-08 04:30:02,503 DEBUG] vmin 0.8631023914792423 vmax 20.0\n[2020-07-08 04:30:02,506 DEBUG] ticklocs array([2.e-02, 3.e-02, 4.e-02, 5.e-02, 6.e-02, 7.e-02, 8.e-02, 9.e-02,\n       2.e-01, 3.e-01, 4.e-01, 5.e-01, 6.e-01, 7.e-01, 8.e-01, 9.e-01,\n       2.e+00, 3.e+00, 4.e+00, 5.e+00, 6.e+00, 7.e+00, 8.e+00, 9.e+00,\n       2.e+01, 3.e+01, 4.e+01, 5.e+01, 6.e+01, 7.e+01, 8.e+01, 9.e+01,\n       2.e+02, 3.e+02, 4.e+02, 5.e+02, 6.e+02, 7.e+02, 8.e+02, 9.e+02,\n       2.e+03, 3.e+03, 4.e+03, 5.e+03, 6.e+03, 7.e+03, 8.e+03, 9.e+03])\n[2020-07-08 04:30:02,541 DEBUG] vmin 0.8631023914792423 vmax 20.0\n[2020-07-08 04:30:02,542 DEBUG] ticklocs array([1.e-02, 1.e-01, 1.e+00, 1.e+01, 1.e+02, 1.e+03])\n[2020-07-08 04:30:02,546 DEBUG] vmin 0.8631023914792423 vmax 20.0\n[2020-07-08 04:30:02,547 DEBUG] ticklocs array([1.e-02, 1.e-01, 1.e+00, 1.e+01, 1.e+02, 1.e+03])\n[2020-07-08 04:30:02,550 DEBUG] vmin 0.8631023914792423 vmax 20.0\n[2020-07-08 04:30:02,551 DEBUG] ticklocs array([2.e-02, 3.e-02, 4.e-02, 5.e-02, 6.e-02, 7.e-02, 8.e-02, 9.e-02,\n       2.e-01, 3.e-01, 4.e-01, 5.e-01, 6.e-01, 7.e-01, 8.e-01, 9.e-01,\n       2.e+00, 3.e+00, 4.e+00, 5.e+00, 6.e+00, 7.e+00, 8.e+00, 9.e+00,\n       2.e+01, 3.e+01, 4.e+01, 5.e+01, 6.e+01, 7.e+01, 8.e+01, 9.e+01,\n       2.e+02, 3.e+02, 4.e+02, 5.e+02, 6.e+02, 7.e+02, 8.e+02, 9.e+02,\n       2.e+03, 3.e+03, 4.e+03, 5.e+03, 6.e+03, 7.e+03, 8.e+03, 9.e+03])\n"
    }
   ],
   "source": [
    "learningCurves(f'output/{args.name}.h5', \"output/\")"
   ]
  },
  {
   "cell_type": "code",
   "execution_count": 21,
   "metadata": {
    "tags": []
   },
   "outputs": [
    {
     "output_type": "stream",
     "name": "stdout",
     "text": "---Average scores---\nScore per fold\nFold 1 - Loss: 0.0009 - Accuracy: 100.00%\nFold 2 - Loss: 0.0009 - Accuracy: 100.00%\nFold 3 - Loss: 0.0009 - Accuracy: 100.00%\nFold 4 - Loss: 0.0009 - Accuracy: 100.00%\nFold 5 - Loss: 0.0009 - Accuracy: 100.00%\nFold 6 - Loss: 0.0008 - Accuracy: 100.00%\nFold 7 - Loss: 0.0008 - Accuracy: 100.00%\nFold 8 - Loss: 0.0008 - Accuracy: 100.00%\nFold 9 - Loss: 0.0009 - Accuracy: 100.00%\nFold 10 - Loss: 0.0009 - Accuracy: 100.00%\n--------------------\nAverage scores for all folds:\nAccuracy: 100.00 (+- 0.0000)\nLoss: 0.0009 (+- 0.0000)\n---Average AUC------\nFold 1 - 1particle - AUC: nan\nFold 2 - 1particle - AUC: nan\nFold 3 - 1particle - AUC: nan\nFold 4 - 1particle - AUC: nan\nFold 5 - 1particle - AUC: nan\nFold 6 - 1particle - AUC: nan\nFold 7 - 1particle - AUC: nan\nFold 8 - 1particle - AUC: nan\nFold 1 - 2particle - AUC: nan\nFold 2 - 2particle - AUC: nan\nFold 3 - 2particle - AUC: nan\nFold 4 - 2particle - AUC: nan\nFold 5 - 2particle - AUC: nan\nFold 6 - 2particle - AUC: nan\nFold 7 - 2particle - AUC: nan\nFold 8 - 2particle - AUC: nan\nFold 1 - 3particle - AUC: nan\nFold 2 - 3particle - AUC: nan\nFold 3 - 3particle - AUC: nan\nFold 4 - 3particle - AUC: nan\nFold 5 - 3particle - AUC: nan\nFold 6 - 3particle - AUC: nan\nFold 7 - 3particle - AUC: nan\nFold 8 - 3particle - AUC: nan\n--------------------\nAverage AUC for all folds:\n1particle - AUC: nan (+- nan)\n2particle - AUC: nan (+- nan)\n3particle - AUC: nan (+- nan)\n"
    }
   ],
   "source": [
    "print('---Average scores---')\n",
    "print('Score per fold')\n",
    "for i in range(0,len(acc_per_fold)):\n",
    "    print(f'Fold {i+1} - Loss: {loss_per_fold[i]:.4f} - Accuracy: {acc_per_fold[i]:.2f}%')\n",
    "print('--------------------')\n",
    "print('Average scores for all folds:')\n",
    "print(f'Accuracy: {np.mean(acc_per_fold):.2f} (+- {np.std(acc_per_fold):.4f})')\n",
    "print(f'Loss: {np.mean(loss_per_fold):.4f} (+- {np.std(loss_per_fold):.4f})')\n",
    "print('---Average AUC------')\n",
    "for label in labels:\n",
    "    for i in range(fold_no-1):\n",
    "        print(f'Fold {i+1} - {label} - AUC: {auc1[label][i]*100:.2f}')\n",
    "        \n",
    "print('--------------------')\n",
    "print('Average AUC for all folds:')\n",
    "for label in labels:\n",
    "    print(f'{label} - AUC: {np.mean(auc1[label]):.2f} (+- {np.std(auc1[label]):.4f})')"
   ]
  },
  {
   "cell_type": "code",
   "execution_count": 125,
   "metadata": {},
   "outputs": [],
   "source": [
    "fpr_avgs = np.array([])\n",
    "for i in range(len(fpr_list[0])):\n",
    "    fold_vals = np.array([])\n",
    "    for k in range(fold_no-1):\n",
    "        fold_vals = fpr_list[k][i]\n",
    "    fpr_avgs = np.concatenate([fpr_avgs, [np.mean(fold_vals)]], axis=0)"
   ]
  },
  {
   "cell_type": "code",
   "execution_count": 10,
   "metadata": {},
   "outputs": [],
   "source": [
    "f = h5.File('roc_vals.h5', 'r')"
   ]
  },
  {
   "cell_type": "code",
   "execution_count": 11,
   "metadata": {},
   "outputs": [
    {
     "output_type": "execute_result",
     "data": {
      "text/plain": "<KeysViewHDF5 ['auc', 'fpr', 'tpr']>"
     },
     "metadata": {},
     "execution_count": 11
    }
   ],
   "source": [
    "f.keys()"
   ]
  },
  {
   "cell_type": "code",
   "execution_count": 59,
   "metadata": {
    "scrolled": true
   },
   "outputs": [
    {
     "data": {
      "text/plain": [
       "<KeysViewHDF5 ['1particle', '2particle', '3particle']>"
      ]
     },
     "execution_count": 59,
     "metadata": {},
     "output_type": "execute_result"
    }
   ],
   "source": [
    "f['auc'].keys()"
   ]
  },
  {
   "cell_type": "code",
   "execution_count": 86,
   "metadata": {
    "scrolled": true
   },
   "outputs": [
    {
     "data": {
      "text/plain": [
       "(2206934,)"
      ]
     },
     "execution_count": 86,
     "metadata": {},
     "output_type": "execute_result"
    }
   ],
   "source": [
    "f['fpr']['1particle'][()].shape"
   ]
  },
  {
   "cell_type": "code",
   "execution_count": 121,
   "metadata": {},
   "outputs": [],
   "source": [
    "fpr_list = list(chunks(f['fpr']['1particle'][()], int(f['fpr']['1particle'][()].shape[0]/10))) \n",
    "#should have saved fpr for each fold"
   ]
  },
  {
   "cell_type": "code",
   "execution_count": 123,
   "metadata": {},
   "outputs": [
    {
     "data": {
      "text/plain": [
       "0.007662695786454886"
      ]
     },
     "execution_count": 123,
     "metadata": {},
     "output_type": "execute_result"
    }
   ],
   "source": [
    "fpr_list[0][220000]"
   ]
  },
  {
   "cell_type": "code",
   "execution_count": 124,
   "metadata": {},
   "outputs": [
    {
     "data": {
      "text/plain": [
       "11"
      ]
     },
     "execution_count": 124,
     "metadata": {},
     "output_type": "execute_result"
    }
   ],
   "source": [
    "len(fpr_list)"
   ]
  },
  {
   "cell_type": "code",
   "execution_count": 131,
   "metadata": {},
   "outputs": [],
   "source": [
    "tpr_list = list(chunks(f['tpr']['1particle'][()], int(f['tpr']['1particle'][()].shape[0]/10)))"
   ]
  },
  {
   "cell_type": "code",
   "execution_count": 132,
   "metadata": {},
   "outputs": [],
   "source": [
    "tpr_avgs = np.array([])\n",
    "for i in range(len(tpr_list[0])):\n",
    "    fold_vals = np.array([])\n",
    "    for k in range(fold_no-1):\n",
    "        fold_vals = tpr_list[k][i]\n",
    "    tpr_avgs = np.concatenate([tpr_avgs, [np.mean(fold_vals)]], axis=0)"
   ]
  },
  {
   "cell_type": "code",
   "execution_count": 146,
   "metadata": {},
   "outputs": [
    {
     "name": "stderr",
     "output_type": "stream",
     "text": [
      "C:\\Users\\alexc\\AppData\\Roaming\\Python\\Python37\\site-packages\\ipykernel_launcher.py:4: UserWarning: Attempted to set non-positive left xlim on a log-scaled axis.\n",
      "Invalid limit will be ignored.\n",
      "  after removing the cwd from sys.path.\n",
      "[2020-07-06 11:01:05,825 DEBUG] vmin 2.379756798279619e-06 vmax 1.05\n",
      "[2020-07-06 11:01:05,825 DEBUG] ticklocs array([1.e-07, 1.e-06, 1.e-05, 1.e-04, 1.e-03, 1.e-02, 1.e-01, 1.e+00,\n",
      "       1.e+01, 1.e+02])\n",
      "[2020-07-06 11:01:05,837 DEBUG] vmin 2.379756798279619e-06 vmax 1.05\n",
      "[2020-07-06 11:01:05,838 DEBUG] ticklocs array([1.e-07, 1.e-06, 1.e-05, 1.e-04, 1.e-03, 1.e-02, 1.e-01, 1.e+00,\n",
      "       1.e+01, 1.e+02])\n",
      "[2020-07-06 11:01:05,841 DEBUG] vmin 2.379756798279619e-06 vmax 1.05\n",
      "[2020-07-06 11:01:05,842 DEBUG] ticklocs array([1.e-07, 1.e-06, 1.e-05, 1.e-04, 1.e-03, 1.e-02, 1.e-01, 1.e+00,\n",
      "       1.e+01, 1.e+02])\n",
      "[2020-07-06 11:01:05,844 DEBUG] vmin 2.379756798279619e-06 vmax 1.05\n",
      "[2020-07-06 11:01:05,845 DEBUG] ticklocs array([2.e-07, 3.e-07, 4.e-07, 5.e-07, 6.e-07, 7.e-07, 8.e-07, 9.e-07,\n",
      "       2.e-06, 3.e-06, 4.e-06, 5.e-06, 6.e-06, 7.e-06, 8.e-06, 9.e-06,\n",
      "       2.e-05, 3.e-05, 4.e-05, 5.e-05, 6.e-05, 7.e-05, 8.e-05, 9.e-05,\n",
      "       2.e-04, 3.e-04, 4.e-04, 5.e-04, 6.e-04, 7.e-04, 8.e-04, 9.e-04,\n",
      "       2.e-03, 3.e-03, 4.e-03, 5.e-03, 6.e-03, 7.e-03, 8.e-03, 9.e-03,\n",
      "       2.e-02, 3.e-02, 4.e-02, 5.e-02, 6.e-02, 7.e-02, 8.e-02, 9.e-02,\n",
      "       2.e-01, 3.e-01, 4.e-01, 5.e-01, 6.e-01, 7.e-01, 8.e-01, 9.e-01,\n",
      "       2.e+00, 3.e+00, 4.e+00, 5.e+00, 6.e+00, 7.e+00, 8.e+00, 9.e+00,\n",
      "       2.e+01, 3.e+01, 4.e+01, 5.e+01, 6.e+01, 7.e+01, 8.e+01, 9.e+01,\n",
      "       2.e+02, 3.e+02, 4.e+02, 5.e+02, 6.e+02, 7.e+02, 8.e+02, 9.e+02])\n",
      "[2020-07-06 11:01:05,956 DEBUG] vmin 2.379756798279619e-06 vmax 1.05\n",
      "[2020-07-06 11:01:05,957 DEBUG] ticklocs array([1.e-07, 1.e-06, 1.e-05, 1.e-04, 1.e-03, 1.e-02, 1.e-01, 1.e+00,\n",
      "       1.e+01, 1.e+02])\n",
      "[2020-07-06 11:01:05,958 DEBUG] vmin 2.379756798279619e-06 vmax 1.05\n",
      "[2020-07-06 11:01:05,959 DEBUG] ticklocs array([1.e-07, 1.e-06, 1.e-05, 1.e-04, 1.e-03, 1.e-02, 1.e-01, 1.e+00,\n",
      "       1.e+01, 1.e+02])\n",
      "[2020-07-06 11:01:05,961 DEBUG] vmin 2.379756798279619e-06 vmax 1.05\n",
      "[2020-07-06 11:01:05,961 DEBUG] ticklocs array([2.e-07, 3.e-07, 4.e-07, 5.e-07, 6.e-07, 7.e-07, 8.e-07, 9.e-07,\n",
      "       2.e-06, 3.e-06, 4.e-06, 5.e-06, 6.e-06, 7.e-06, 8.e-06, 9.e-06,\n",
      "       2.e-05, 3.e-05, 4.e-05, 5.e-05, 6.e-05, 7.e-05, 8.e-05, 9.e-05,\n",
      "       2.e-04, 3.e-04, 4.e-04, 5.e-04, 6.e-04, 7.e-04, 8.e-04, 9.e-04,\n",
      "       2.e-03, 3.e-03, 4.e-03, 5.e-03, 6.e-03, 7.e-03, 8.e-03, 9.e-03,\n",
      "       2.e-02, 3.e-02, 4.e-02, 5.e-02, 6.e-02, 7.e-02, 8.e-02, 9.e-02,\n",
      "       2.e-01, 3.e-01, 4.e-01, 5.e-01, 6.e-01, 7.e-01, 8.e-01, 9.e-01,\n",
      "       2.e+00, 3.e+00, 4.e+00, 5.e+00, 6.e+00, 7.e+00, 8.e+00, 9.e+00,\n",
      "       2.e+01, 3.e+01, 4.e+01, 5.e+01, 6.e+01, 7.e+01, 8.e+01, 9.e+01,\n",
      "       2.e+02, 3.e+02, 4.e+02, 5.e+02, 6.e+02, 7.e+02, 8.e+02, 9.e+02])\n",
      "[2020-07-06 11:01:06,014 DEBUG] vmin 2.379756798279619e-06 vmax 1.05\n",
      "[2020-07-06 11:01:06,015 DEBUG] ticklocs array([1.e-07, 1.e-06, 1.e-05, 1.e-04, 1.e-03, 1.e-02, 1.e-01, 1.e+00,\n",
      "       1.e+01, 1.e+02])\n",
      "[2020-07-06 11:01:06,017 DEBUG] vmin 2.379756798279619e-06 vmax 1.05\n",
      "[2020-07-06 11:01:06,018 DEBUG] ticklocs array([1.e-07, 1.e-06, 1.e-05, 1.e-04, 1.e-03, 1.e-02, 1.e-01, 1.e+00,\n",
      "       1.e+01, 1.e+02])\n",
      "[2020-07-06 11:01:06,019 DEBUG] vmin 2.379756798279619e-06 vmax 1.05\n",
      "[2020-07-06 11:01:06,020 DEBUG] ticklocs array([2.e-07, 3.e-07, 4.e-07, 5.e-07, 6.e-07, 7.e-07, 8.e-07, 9.e-07,\n",
      "       2.e-06, 3.e-06, 4.e-06, 5.e-06, 6.e-06, 7.e-06, 8.e-06, 9.e-06,\n",
      "       2.e-05, 3.e-05, 4.e-05, 5.e-05, 6.e-05, 7.e-05, 8.e-05, 9.e-05,\n",
      "       2.e-04, 3.e-04, 4.e-04, 5.e-04, 6.e-04, 7.e-04, 8.e-04, 9.e-04,\n",
      "       2.e-03, 3.e-03, 4.e-03, 5.e-03, 6.e-03, 7.e-03, 8.e-03, 9.e-03,\n",
      "       2.e-02, 3.e-02, 4.e-02, 5.e-02, 6.e-02, 7.e-02, 8.e-02, 9.e-02,\n",
      "       2.e-01, 3.e-01, 4.e-01, 5.e-01, 6.e-01, 7.e-01, 8.e-01, 9.e-01,\n",
      "       2.e+00, 3.e+00, 4.e+00, 5.e+00, 6.e+00, 7.e+00, 8.e+00, 9.e+00,\n",
      "       2.e+01, 3.e+01, 4.e+01, 5.e+01, 6.e+01, 7.e+01, 8.e+01, 9.e+01,\n",
      "       2.e+02, 3.e+02, 4.e+02, 5.e+02, 6.e+02, 7.e+02, 8.e+02, 9.e+02])\n",
      "[2020-07-06 11:01:06,030 DEBUG] vmin 2.379756798279619e-06 vmax 1.05\n",
      "[2020-07-06 11:01:06,030 DEBUG] ticklocs array([1.e-07, 1.e-06, 1.e-05, 1.e-04, 1.e-03, 1.e-02, 1.e-01, 1.e+00,\n",
      "       1.e+01, 1.e+02])\n",
      "[2020-07-06 11:01:06,032 DEBUG] vmin 2.379756798279619e-06 vmax 1.05\n",
      "[2020-07-06 11:01:06,032 DEBUG] ticklocs array([1.e-07, 1.e-06, 1.e-05, 1.e-04, 1.e-03, 1.e-02, 1.e-01, 1.e+00,\n",
      "       1.e+01, 1.e+02])\n",
      "[2020-07-06 11:01:06,034 DEBUG] vmin 2.379756798279619e-06 vmax 1.05\n",
      "[2020-07-06 11:01:06,035 DEBUG] ticklocs array([2.e-07, 3.e-07, 4.e-07, 5.e-07, 6.e-07, 7.e-07, 8.e-07, 9.e-07,\n",
      "       2.e-06, 3.e-06, 4.e-06, 5.e-06, 6.e-06, 7.e-06, 8.e-06, 9.e-06,\n",
      "       2.e-05, 3.e-05, 4.e-05, 5.e-05, 6.e-05, 7.e-05, 8.e-05, 9.e-05,\n",
      "       2.e-04, 3.e-04, 4.e-04, 5.e-04, 6.e-04, 7.e-04, 8.e-04, 9.e-04,\n",
      "       2.e-03, 3.e-03, 4.e-03, 5.e-03, 6.e-03, 7.e-03, 8.e-03, 9.e-03,\n",
      "       2.e-02, 3.e-02, 4.e-02, 5.e-02, 6.e-02, 7.e-02, 8.e-02, 9.e-02,\n",
      "       2.e-01, 3.e-01, 4.e-01, 5.e-01, 6.e-01, 7.e-01, 8.e-01, 9.e-01,\n",
      "       2.e+00, 3.e+00, 4.e+00, 5.e+00, 6.e+00, 7.e+00, 8.e+00, 9.e+00,\n",
      "       2.e+01, 3.e+01, 4.e+01, 5.e+01, 6.e+01, 7.e+01, 8.e+01, 9.e+01,\n",
      "       2.e+02, 3.e+02, 4.e+02, 5.e+02, 6.e+02, 7.e+02, 8.e+02, 9.e+02])\n",
      "[2020-07-06 11:01:06,072 DEBUG] vmin 2.379756798279619e-06 vmax 1.05\n",
      "[2020-07-06 11:01:06,073 DEBUG] ticklocs array([1.e-07, 1.e-06, 1.e-05, 1.e-04, 1.e-03, 1.e-02, 1.e-01, 1.e+00,\n",
      "       1.e+01, 1.e+02])\n",
      "[2020-07-06 11:01:06,076 DEBUG] vmin 2.379756798279619e-06 vmax 1.05\n",
      "[2020-07-06 11:01:06,076 DEBUG] ticklocs array([1.e-07, 1.e-06, 1.e-05, 1.e-04, 1.e-03, 1.e-02, 1.e-01, 1.e+00,\n",
      "       1.e+01, 1.e+02])\n",
      "[2020-07-06 11:01:06,077 DEBUG] vmin 2.379756798279619e-06 vmax 1.05\n",
      "[2020-07-06 11:01:06,078 DEBUG] ticklocs array([2.e-07, 3.e-07, 4.e-07, 5.e-07, 6.e-07, 7.e-07, 8.e-07, 9.e-07,\n",
      "       2.e-06, 3.e-06, 4.e-06, 5.e-06, 6.e-06, 7.e-06, 8.e-06, 9.e-06,\n",
      "       2.e-05, 3.e-05, 4.e-05, 5.e-05, 6.e-05, 7.e-05, 8.e-05, 9.e-05,\n",
      "       2.e-04, 3.e-04, 4.e-04, 5.e-04, 6.e-04, 7.e-04, 8.e-04, 9.e-04,\n",
      "       2.e-03, 3.e-03, 4.e-03, 5.e-03, 6.e-03, 7.e-03, 8.e-03, 9.e-03,\n",
      "       2.e-02, 3.e-02, 4.e-02, 5.e-02, 6.e-02, 7.e-02, 8.e-02, 9.e-02,\n",
      "       2.e-01, 3.e-01, 4.e-01, 5.e-01, 6.e-01, 7.e-01, 8.e-01, 9.e-01,\n",
      "       2.e+00, 3.e+00, 4.e+00, 5.e+00, 6.e+00, 7.e+00, 8.e+00, 9.e+00,\n",
      "       2.e+01, 3.e+01, 4.e+01, 5.e+01, 6.e+01, 7.e+01, 8.e+01, 9.e+01,\n",
      "       2.e+02, 3.e+02, 4.e+02, 5.e+02, 6.e+02, 7.e+02, 8.e+02, 9.e+02])\n",
      "[2020-07-06 11:01:06,088 DEBUG] vmin 2.379756798279619e-06 vmax 1.05\n",
      "[2020-07-06 11:01:06,088 DEBUG] ticklocs array([1.e-07, 1.e-06, 1.e-05, 1.e-04, 1.e-03, 1.e-02, 1.e-01, 1.e+00,\n",
      "       1.e+01, 1.e+02])\n",
      "[2020-07-06 11:01:06,090 DEBUG] vmin 2.379756798279619e-06 vmax 1.05\n",
      "[2020-07-06 11:01:06,091 DEBUG] ticklocs array([1.e-07, 1.e-06, 1.e-05, 1.e-04, 1.e-03, 1.e-02, 1.e-01, 1.e+00,\n",
      "       1.e+01, 1.e+02])\n",
      "[2020-07-06 11:01:06,092 DEBUG] vmin 2.379756798279619e-06 vmax 1.05\n",
      "[2020-07-06 11:01:06,093 DEBUG] ticklocs array([2.e-07, 3.e-07, 4.e-07, 5.e-07, 6.e-07, 7.e-07, 8.e-07, 9.e-07,\n",
      "       2.e-06, 3.e-06, 4.e-06, 5.e-06, 6.e-06, 7.e-06, 8.e-06, 9.e-06,\n",
      "       2.e-05, 3.e-05, 4.e-05, 5.e-05, 6.e-05, 7.e-05, 8.e-05, 9.e-05,\n",
      "       2.e-04, 3.e-04, 4.e-04, 5.e-04, 6.e-04, 7.e-04, 8.e-04, 9.e-04,\n",
      "       2.e-03, 3.e-03, 4.e-03, 5.e-03, 6.e-03, 7.e-03, 8.e-03, 9.e-03,\n",
      "       2.e-02, 3.e-02, 4.e-02, 5.e-02, 6.e-02, 7.e-02, 8.e-02, 9.e-02,\n",
      "       2.e-01, 3.e-01, 4.e-01, 5.e-01, 6.e-01, 7.e-01, 8.e-01, 9.e-01,\n",
      "       2.e+00, 3.e+00, 4.e+00, 5.e+00, 6.e+00, 7.e+00, 8.e+00, 9.e+00,\n",
      "       2.e+01, 3.e+01, 4.e+01, 5.e+01, 6.e+01, 7.e+01, 8.e+01, 9.e+01,\n",
      "       2.e+02, 3.e+02, 4.e+02, 5.e+02, 6.e+02, 7.e+02, 8.e+02, 9.e+02])\n",
      "[2020-07-06 11:01:06,130 DEBUG] vmin 2.379756798279619e-06 vmax 1.05\n",
      "[2020-07-06 11:01:06,131 DEBUG] ticklocs array([1.e-07, 1.e-06, 1.e-05, 1.e-04, 1.e-03, 1.e-02, 1.e-01, 1.e+00,\n",
      "       1.e+01, 1.e+02])\n",
      "[2020-07-06 11:01:06,134 DEBUG] vmin 2.379756798279619e-06 vmax 1.05\n",
      "[2020-07-06 11:01:06,134 DEBUG] ticklocs array([1.e-07, 1.e-06, 1.e-05, 1.e-04, 1.e-03, 1.e-02, 1.e-01, 1.e+00,\n",
      "       1.e+01, 1.e+02])\n"
     ]
    },
    {
     "name": "stderr",
     "output_type": "stream",
     "text": [
      "[2020-07-06 11:01:06,136 DEBUG] vmin 2.379756798279619e-06 vmax 1.05\n",
      "[2020-07-06 11:01:06,137 DEBUG] ticklocs array([2.e-07, 3.e-07, 4.e-07, 5.e-07, 6.e-07, 7.e-07, 8.e-07, 9.e-07,\n",
      "       2.e-06, 3.e-06, 4.e-06, 5.e-06, 6.e-06, 7.e-06, 8.e-06, 9.e-06,\n",
      "       2.e-05, 3.e-05, 4.e-05, 5.e-05, 6.e-05, 7.e-05, 8.e-05, 9.e-05,\n",
      "       2.e-04, 3.e-04, 4.e-04, 5.e-04, 6.e-04, 7.e-04, 8.e-04, 9.e-04,\n",
      "       2.e-03, 3.e-03, 4.e-03, 5.e-03, 6.e-03, 7.e-03, 8.e-03, 9.e-03,\n",
      "       2.e-02, 3.e-02, 4.e-02, 5.e-02, 6.e-02, 7.e-02, 8.e-02, 9.e-02,\n",
      "       2.e-01, 3.e-01, 4.e-01, 5.e-01, 6.e-01, 7.e-01, 8.e-01, 9.e-01,\n",
      "       2.e+00, 3.e+00, 4.e+00, 5.e+00, 6.e+00, 7.e+00, 8.e+00, 9.e+00,\n",
      "       2.e+01, 3.e+01, 4.e+01, 5.e+01, 6.e+01, 7.e+01, 8.e+01, 9.e+01,\n",
      "       2.e+02, 3.e+02, 4.e+02, 5.e+02, 6.e+02, 7.e+02, 8.e+02, 9.e+02])\n",
      "[2020-07-06 11:01:06,146 DEBUG] vmin 2.379756798279619e-06 vmax 1.05\n",
      "[2020-07-06 11:01:06,147 DEBUG] ticklocs array([1.e-07, 1.e-06, 1.e-05, 1.e-04, 1.e-03, 1.e-02, 1.e-01, 1.e+00,\n",
      "       1.e+01, 1.e+02])\n",
      "[2020-07-06 11:01:06,149 DEBUG] vmin 2.379756798279619e-06 vmax 1.05\n",
      "[2020-07-06 11:01:06,149 DEBUG] ticklocs array([1.e-07, 1.e-06, 1.e-05, 1.e-04, 1.e-03, 1.e-02, 1.e-01, 1.e+00,\n",
      "       1.e+01, 1.e+02])\n",
      "[2020-07-06 11:01:06,151 DEBUG] vmin 2.379756798279619e-06 vmax 1.05\n",
      "[2020-07-06 11:01:06,151 DEBUG] ticklocs array([2.e-07, 3.e-07, 4.e-07, 5.e-07, 6.e-07, 7.e-07, 8.e-07, 9.e-07,\n",
      "       2.e-06, 3.e-06, 4.e-06, 5.e-06, 6.e-06, 7.e-06, 8.e-06, 9.e-06,\n",
      "       2.e-05, 3.e-05, 4.e-05, 5.e-05, 6.e-05, 7.e-05, 8.e-05, 9.e-05,\n",
      "       2.e-04, 3.e-04, 4.e-04, 5.e-04, 6.e-04, 7.e-04, 8.e-04, 9.e-04,\n",
      "       2.e-03, 3.e-03, 4.e-03, 5.e-03, 6.e-03, 7.e-03, 8.e-03, 9.e-03,\n",
      "       2.e-02, 3.e-02, 4.e-02, 5.e-02, 6.e-02, 7.e-02, 8.e-02, 9.e-02,\n",
      "       2.e-01, 3.e-01, 4.e-01, 5.e-01, 6.e-01, 7.e-01, 8.e-01, 9.e-01,\n",
      "       2.e+00, 3.e+00, 4.e+00, 5.e+00, 6.e+00, 7.e+00, 8.e+00, 9.e+00,\n",
      "       2.e+01, 3.e+01, 4.e+01, 5.e+01, 6.e+01, 7.e+01, 8.e+01, 9.e+01,\n",
      "       2.e+02, 3.e+02, 4.e+02, 5.e+02, 6.e+02, 7.e+02, 8.e+02, 9.e+02])\n",
      "[2020-07-06 11:01:06,178 DEBUG] vmin 2.379756798279619e-06 vmax 1.05\n",
      "[2020-07-06 11:01:06,179 DEBUG] ticklocs array([1.e-07, 1.e-06, 1.e-05, 1.e-04, 1.e-03, 1.e-02, 1.e-01, 1.e+00,\n",
      "       1.e+01, 1.e+02])\n",
      "[2020-07-06 11:01:06,181 DEBUG] vmin 2.379756798279619e-06 vmax 1.05\n",
      "[2020-07-06 11:01:06,181 DEBUG] ticklocs array([1.e-07, 1.e-06, 1.e-05, 1.e-04, 1.e-03, 1.e-02, 1.e-01, 1.e+00,\n",
      "       1.e+01, 1.e+02])\n",
      "[2020-07-06 11:01:06,184 DEBUG] vmin 2.379756798279619e-06 vmax 1.05\n",
      "[2020-07-06 11:01:06,185 DEBUG] ticklocs array([2.e-07, 3.e-07, 4.e-07, 5.e-07, 6.e-07, 7.e-07, 8.e-07, 9.e-07,\n",
      "       2.e-06, 3.e-06, 4.e-06, 5.e-06, 6.e-06, 7.e-06, 8.e-06, 9.e-06,\n",
      "       2.e-05, 3.e-05, 4.e-05, 5.e-05, 6.e-05, 7.e-05, 8.e-05, 9.e-05,\n",
      "       2.e-04, 3.e-04, 4.e-04, 5.e-04, 6.e-04, 7.e-04, 8.e-04, 9.e-04,\n",
      "       2.e-03, 3.e-03, 4.e-03, 5.e-03, 6.e-03, 7.e-03, 8.e-03, 9.e-03,\n",
      "       2.e-02, 3.e-02, 4.e-02, 5.e-02, 6.e-02, 7.e-02, 8.e-02, 9.e-02,\n",
      "       2.e-01, 3.e-01, 4.e-01, 5.e-01, 6.e-01, 7.e-01, 8.e-01, 9.e-01,\n",
      "       2.e+00, 3.e+00, 4.e+00, 5.e+00, 6.e+00, 7.e+00, 8.e+00, 9.e+00,\n",
      "       2.e+01, 3.e+01, 4.e+01, 5.e+01, 6.e+01, 7.e+01, 8.e+01, 9.e+01,\n",
      "       2.e+02, 3.e+02, 4.e+02, 5.e+02, 6.e+02, 7.e+02, 8.e+02, 9.e+02])\n",
      "[2020-07-06 11:01:06,194 DEBUG] vmin 2.379756798279619e-06 vmax 1.05\n",
      "[2020-07-06 11:01:06,195 DEBUG] ticklocs array([1.e-07, 1.e-06, 1.e-05, 1.e-04, 1.e-03, 1.e-02, 1.e-01, 1.e+00,\n",
      "       1.e+01, 1.e+02])\n",
      "[2020-07-06 11:01:06,197 DEBUG] vmin 2.379756798279619e-06 vmax 1.05\n",
      "[2020-07-06 11:01:06,198 DEBUG] ticklocs array([1.e-07, 1.e-06, 1.e-05, 1.e-04, 1.e-03, 1.e-02, 1.e-01, 1.e+00,\n",
      "       1.e+01, 1.e+02])\n",
      "[2020-07-06 11:01:06,199 DEBUG] vmin 2.379756798279619e-06 vmax 1.05\n",
      "[2020-07-06 11:01:06,200 DEBUG] ticklocs array([2.e-07, 3.e-07, 4.e-07, 5.e-07, 6.e-07, 7.e-07, 8.e-07, 9.e-07,\n",
      "       2.e-06, 3.e-06, 4.e-06, 5.e-06, 6.e-06, 7.e-06, 8.e-06, 9.e-06,\n",
      "       2.e-05, 3.e-05, 4.e-05, 5.e-05, 6.e-05, 7.e-05, 8.e-05, 9.e-05,\n",
      "       2.e-04, 3.e-04, 4.e-04, 5.e-04, 6.e-04, 7.e-04, 8.e-04, 9.e-04,\n",
      "       2.e-03, 3.e-03, 4.e-03, 5.e-03, 6.e-03, 7.e-03, 8.e-03, 9.e-03,\n",
      "       2.e-02, 3.e-02, 4.e-02, 5.e-02, 6.e-02, 7.e-02, 8.e-02, 9.e-02,\n",
      "       2.e-01, 3.e-01, 4.e-01, 5.e-01, 6.e-01, 7.e-01, 8.e-01, 9.e-01,\n",
      "       2.e+00, 3.e+00, 4.e+00, 5.e+00, 6.e+00, 7.e+00, 8.e+00, 9.e+00,\n",
      "       2.e+01, 3.e+01, 4.e+01, 5.e+01, 6.e+01, 7.e+01, 8.e+01, 9.e+01,\n",
      "       2.e+02, 3.e+02, 4.e+02, 5.e+02, 6.e+02, 7.e+02, 8.e+02, 9.e+02])\n",
      "[2020-07-06 11:01:06,238 DEBUG] vmin 2.379756798279619e-06 vmax 1.05\n",
      "[2020-07-06 11:01:06,239 DEBUG] ticklocs array([1.e-07, 1.e-06, 1.e-05, 1.e-04, 1.e-03, 1.e-02, 1.e-01, 1.e+00,\n",
      "       1.e+01, 1.e+02])\n",
      "[2020-07-06 11:01:06,241 DEBUG] vmin 2.379756798279619e-06 vmax 1.05\n",
      "[2020-07-06 11:01:06,242 DEBUG] ticklocs array([1.e-07, 1.e-06, 1.e-05, 1.e-04, 1.e-03, 1.e-02, 1.e-01, 1.e+00,\n",
      "       1.e+01, 1.e+02])\n",
      "[2020-07-06 11:01:06,243 DEBUG] vmin 2.379756798279619e-06 vmax 1.05\n",
      "[2020-07-06 11:01:06,244 DEBUG] ticklocs array([2.e-07, 3.e-07, 4.e-07, 5.e-07, 6.e-07, 7.e-07, 8.e-07, 9.e-07,\n",
      "       2.e-06, 3.e-06, 4.e-06, 5.e-06, 6.e-06, 7.e-06, 8.e-06, 9.e-06,\n",
      "       2.e-05, 3.e-05, 4.e-05, 5.e-05, 6.e-05, 7.e-05, 8.e-05, 9.e-05,\n",
      "       2.e-04, 3.e-04, 4.e-04, 5.e-04, 6.e-04, 7.e-04, 8.e-04, 9.e-04,\n",
      "       2.e-03, 3.e-03, 4.e-03, 5.e-03, 6.e-03, 7.e-03, 8.e-03, 9.e-03,\n",
      "       2.e-02, 3.e-02, 4.e-02, 5.e-02, 6.e-02, 7.e-02, 8.e-02, 9.e-02,\n",
      "       2.e-01, 3.e-01, 4.e-01, 5.e-01, 6.e-01, 7.e-01, 8.e-01, 9.e-01,\n",
      "       2.e+00, 3.e+00, 4.e+00, 5.e+00, 6.e+00, 7.e+00, 8.e+00, 9.e+00,\n",
      "       2.e+01, 3.e+01, 4.e+01, 5.e+01, 6.e+01, 7.e+01, 8.e+01, 9.e+01,\n",
      "       2.e+02, 3.e+02, 4.e+02, 5.e+02, 6.e+02, 7.e+02, 8.e+02, 9.e+02])\n",
      "[2020-07-06 11:01:06,253 DEBUG] vmin 2.379756798279619e-06 vmax 1.05\n",
      "[2020-07-06 11:01:06,254 DEBUG] ticklocs array([1.e-07, 1.e-06, 1.e-05, 1.e-04, 1.e-03, 1.e-02, 1.e-01, 1.e+00,\n",
      "       1.e+01, 1.e+02])\n",
      "[2020-07-06 11:01:06,256 DEBUG] vmin 2.379756798279619e-06 vmax 1.05\n",
      "[2020-07-06 11:01:06,257 DEBUG] ticklocs array([1.e-07, 1.e-06, 1.e-05, 1.e-04, 1.e-03, 1.e-02, 1.e-01, 1.e+00,\n",
      "       1.e+01, 1.e+02])\n",
      "[2020-07-06 11:01:06,258 DEBUG] vmin 2.379756798279619e-06 vmax 1.05\n",
      "[2020-07-06 11:01:06,259 DEBUG] ticklocs array([2.e-07, 3.e-07, 4.e-07, 5.e-07, 6.e-07, 7.e-07, 8.e-07, 9.e-07,\n",
      "       2.e-06, 3.e-06, 4.e-06, 5.e-06, 6.e-06, 7.e-06, 8.e-06, 9.e-06,\n",
      "       2.e-05, 3.e-05, 4.e-05, 5.e-05, 6.e-05, 7.e-05, 8.e-05, 9.e-05,\n",
      "       2.e-04, 3.e-04, 4.e-04, 5.e-04, 6.e-04, 7.e-04, 8.e-04, 9.e-04,\n",
      "       2.e-03, 3.e-03, 4.e-03, 5.e-03, 6.e-03, 7.e-03, 8.e-03, 9.e-03,\n",
      "       2.e-02, 3.e-02, 4.e-02, 5.e-02, 6.e-02, 7.e-02, 8.e-02, 9.e-02,\n",
      "       2.e-01, 3.e-01, 4.e-01, 5.e-01, 6.e-01, 7.e-01, 8.e-01, 9.e-01,\n",
      "       2.e+00, 3.e+00, 4.e+00, 5.e+00, 6.e+00, 7.e+00, 8.e+00, 9.e+00,\n",
      "       2.e+01, 3.e+01, 4.e+01, 5.e+01, 6.e+01, 7.e+01, 8.e+01, 9.e+01,\n",
      "       2.e+02, 3.e+02, 4.e+02, 5.e+02, 6.e+02, 7.e+02, 8.e+02, 9.e+02])\n",
      "[2020-07-06 11:01:06,290 DEBUG] vmin 2.379756798279619e-06 vmax 1.05\n",
      "[2020-07-06 11:01:06,290 DEBUG] ticklocs array([1.e-07, 1.e-06, 1.e-05, 1.e-04, 1.e-03, 1.e-02, 1.e-01, 1.e+00,\n",
      "       1.e+01, 1.e+02])\n",
      "[2020-07-06 11:01:06,292 DEBUG] vmin 2.379756798279619e-06 vmax 1.05\n",
      "[2020-07-06 11:01:06,293 DEBUG] ticklocs array([1.e-07, 1.e-06, 1.e-05, 1.e-04, 1.e-03, 1.e-02, 1.e-01, 1.e+00,\n",
      "       1.e+01, 1.e+02])\n",
      "[2020-07-06 11:01:06,294 DEBUG] vmin 2.379756798279619e-06 vmax 1.05\n",
      "[2020-07-06 11:01:06,294 DEBUG] ticklocs array([2.e-07, 3.e-07, 4.e-07, 5.e-07, 6.e-07, 7.e-07, 8.e-07, 9.e-07,\n",
      "       2.e-06, 3.e-06, 4.e-06, 5.e-06, 6.e-06, 7.e-06, 8.e-06, 9.e-06,\n",
      "       2.e-05, 3.e-05, 4.e-05, 5.e-05, 6.e-05, 7.e-05, 8.e-05, 9.e-05,\n",
      "       2.e-04, 3.e-04, 4.e-04, 5.e-04, 6.e-04, 7.e-04, 8.e-04, 9.e-04,\n",
      "       2.e-03, 3.e-03, 4.e-03, 5.e-03, 6.e-03, 7.e-03, 8.e-03, 9.e-03,\n",
      "       2.e-02, 3.e-02, 4.e-02, 5.e-02, 6.e-02, 7.e-02, 8.e-02, 9.e-02,\n",
      "       2.e-01, 3.e-01, 4.e-01, 5.e-01, 6.e-01, 7.e-01, 8.e-01, 9.e-01,\n",
      "       2.e+00, 3.e+00, 4.e+00, 5.e+00, 6.e+00, 7.e+00, 8.e+00, 9.e+00,\n",
      "       2.e+01, 3.e+01, 4.e+01, 5.e+01, 6.e+01, 7.e+01, 8.e+01, 9.e+01,\n",
      "       2.e+02, 3.e+02, 4.e+02, 5.e+02, 6.e+02, 7.e+02, 8.e+02, 9.e+02])\n"
     ]
    },
    {
     "name": "stderr",
     "output_type": "stream",
     "text": [
      "[2020-07-06 11:01:06,359 DEBUG] vmin 2.379756798279619e-06 vmax 1.05\n",
      "[2020-07-06 11:01:06,359 DEBUG] ticklocs array([1.e-07, 1.e-06, 1.e-05, 1.e-04, 1.e-03, 1.e-02, 1.e-01, 1.e+00,\n",
      "       1.e+01, 1.e+02])\n",
      "[2020-07-06 11:01:06,361 DEBUG] vmin 2.379756798279619e-06 vmax 1.05\n",
      "[2020-07-06 11:01:06,362 DEBUG] ticklocs array([1.e-07, 1.e-06, 1.e-05, 1.e-04, 1.e-03, 1.e-02, 1.e-01, 1.e+00,\n",
      "       1.e+01, 1.e+02])\n",
      "[2020-07-06 11:01:06,363 DEBUG] vmin 2.379756798279619e-06 vmax 1.05\n",
      "[2020-07-06 11:01:06,364 DEBUG] ticklocs array([2.e-07, 3.e-07, 4.e-07, 5.e-07, 6.e-07, 7.e-07, 8.e-07, 9.e-07,\n",
      "       2.e-06, 3.e-06, 4.e-06, 5.e-06, 6.e-06, 7.e-06, 8.e-06, 9.e-06,\n",
      "       2.e-05, 3.e-05, 4.e-05, 5.e-05, 6.e-05, 7.e-05, 8.e-05, 9.e-05,\n",
      "       2.e-04, 3.e-04, 4.e-04, 5.e-04, 6.e-04, 7.e-04, 8.e-04, 9.e-04,\n",
      "       2.e-03, 3.e-03, 4.e-03, 5.e-03, 6.e-03, 7.e-03, 8.e-03, 9.e-03,\n",
      "       2.e-02, 3.e-02, 4.e-02, 5.e-02, 6.e-02, 7.e-02, 8.e-02, 9.e-02,\n",
      "       2.e-01, 3.e-01, 4.e-01, 5.e-01, 6.e-01, 7.e-01, 8.e-01, 9.e-01,\n",
      "       2.e+00, 3.e+00, 4.e+00, 5.e+00, 6.e+00, 7.e+00, 8.e+00, 9.e+00,\n",
      "       2.e+01, 3.e+01, 4.e+01, 5.e+01, 6.e+01, 7.e+01, 8.e+01, 9.e+01,\n",
      "       2.e+02, 3.e+02, 4.e+02, 5.e+02, 6.e+02, 7.e+02, 8.e+02, 9.e+02])\n"
     ]
    },
    {
     "data": {
      "image/png": "[encoded data removed]",
      "text/plain": [
       "<Figure size 432x288 with 1 Axes>"
      ]
     },
     "metadata": {
      "needs_background": "light"
     },
     "output_type": "display_data"
    }
   ],
   "source": [
    "plt.figure()\n",
    "plt.plot(fpr_avgs, tpr_avgs)\n",
    "plt.semilogx()\n",
    "plt.xlim([-0.05, 1.05])\n",
    "plt.ylim(0.001,1.05)\n",
    "plt.show()\n",
    "plt.close()"
   ]
  },
  {
   "cell_type": "code",
   "execution_count": 160,
   "metadata": {
    "scrolled": false
   },
   "outputs": [
    {
     "ename": "KeyboardInterrupt",
     "evalue": "",
     "output_type": "error",
     "traceback": [
      "\u001b[1;31m---------------------------------------------------------------------------\u001b[0m",
      "\u001b[1;31mKeyboardInterrupt\u001b[0m                         Traceback (most recent call last)",
      "\u001b[1;32m<ipython-input-160-23515b8f0e11>\u001b[0m in \u001b[0;36m<module>\u001b[1;34m\u001b[0m\n\u001b[1;32m----> 1\u001b[1;33m \u001b[0mkfoldRoc\u001b[0m\u001b[1;33m(\u001b[0m\u001b[0mf\u001b[0m\u001b[1;33m[\u001b[0m\u001b[1;34m'fpr'\u001b[0m\u001b[1;33m]\u001b[0m\u001b[1;33m,\u001b[0m \u001b[0mf\u001b[0m\u001b[1;33m[\u001b[0m\u001b[1;34m'tpr'\u001b[0m\u001b[1;33m]\u001b[0m\u001b[1;33m,\u001b[0m \u001b[0mf\u001b[0m\u001b[1;33m[\u001b[0m\u001b[1;34m'auc'\u001b[0m\u001b[1;33m]\u001b[0m\u001b[1;33m,\u001b[0m \u001b[0mlabels\u001b[0m\u001b[1;33m=\u001b[0m\u001b[0mlabels\u001b[0m\u001b[1;33m,\u001b[0m \u001b[0mname\u001b[0m\u001b[1;33m=\u001b[0m\u001b[1;34m'K-Fold_20_Epochs'\u001b[0m\u001b[1;33m,\u001b[0m \u001b[0moutdir\u001b[0m \u001b[1;33m=\u001b[0m \u001b[1;34m'output/'\u001b[0m\u001b[1;33m)\u001b[0m\u001b[1;33m\u001b[0m\u001b[1;33m\u001b[0m\u001b[0m\n\u001b[0m",
      "\u001b[1;32m<ipython-input-159-5b8838556d42>\u001b[0m in \u001b[0;36mkfoldRoc\u001b[1;34m(fpr, tpr, auc, labels, name, outdir)\u001b[0m\n\u001b[0;32m     12\u001b[0m                 \u001b[0mfpr_vals\u001b[0m \u001b[1;33m=\u001b[0m \u001b[0mfpr_list\u001b[0m\u001b[1;33m[\u001b[0m\u001b[0mk\u001b[0m\u001b[1;33m]\u001b[0m\u001b[1;33m[\u001b[0m\u001b[0mi\u001b[0m\u001b[1;33m]\u001b[0m\u001b[1;33m\u001b[0m\u001b[1;33m\u001b[0m\u001b[0m\n\u001b[0;32m     13\u001b[0m                 \u001b[0mtpr_vals\u001b[0m \u001b[1;33m=\u001b[0m \u001b[0mtpr_list\u001b[0m\u001b[1;33m[\u001b[0m\u001b[0mk\u001b[0m\u001b[1;33m]\u001b[0m\u001b[1;33m[\u001b[0m\u001b[0mi\u001b[0m\u001b[1;33m]\u001b[0m\u001b[1;33m\u001b[0m\u001b[1;33m\u001b[0m\u001b[0m\n\u001b[1;32m---> 14\u001b[1;33m             \u001b[0mfpr_avgs\u001b[0m \u001b[1;33m=\u001b[0m \u001b[0mnp\u001b[0m\u001b[1;33m.\u001b[0m\u001b[0mconcatenate\u001b[0m\u001b[1;33m(\u001b[0m\u001b[1;33m[\u001b[0m\u001b[0mfpr_avgs\u001b[0m\u001b[1;33m,\u001b[0m \u001b[1;33m[\u001b[0m\u001b[0mnp\u001b[0m\u001b[1;33m.\u001b[0m\u001b[0mmean\u001b[0m\u001b[1;33m(\u001b[0m\u001b[0mfold_vals\u001b[0m\u001b[1;33m)\u001b[0m\u001b[1;33m]\u001b[0m\u001b[1;33m]\u001b[0m\u001b[1;33m,\u001b[0m \u001b[0maxis\u001b[0m\u001b[1;33m=\u001b[0m\u001b[1;36m0\u001b[0m\u001b[1;33m)\u001b[0m\u001b[1;33m\u001b[0m\u001b[1;33m\u001b[0m\u001b[0m\n\u001b[0m\u001b[0;32m     15\u001b[0m             \u001b[0mtpr_avgs\u001b[0m \u001b[1;33m=\u001b[0m \u001b[0mnp\u001b[0m\u001b[1;33m.\u001b[0m\u001b[0mconcatenate\u001b[0m\u001b[1;33m(\u001b[0m\u001b[1;33m[\u001b[0m\u001b[0mtpr_avgs\u001b[0m\u001b[1;33m,\u001b[0m \u001b[1;33m[\u001b[0m\u001b[0mnp\u001b[0m\u001b[1;33m.\u001b[0m\u001b[0mmean\u001b[0m\u001b[1;33m(\u001b[0m\u001b[0mfold_vals\u001b[0m\u001b[1;33m)\u001b[0m\u001b[1;33m]\u001b[0m\u001b[1;33m]\u001b[0m\u001b[1;33m,\u001b[0m \u001b[0maxis\u001b[0m\u001b[1;33m=\u001b[0m\u001b[1;36m0\u001b[0m\u001b[1;33m)\u001b[0m\u001b[1;33m\u001b[0m\u001b[1;33m\u001b[0m\u001b[0m\n\u001b[0;32m     16\u001b[0m         \u001b[1;31m#plt.plot(tpr[label][()],fpr[label][()],\u001b[0m\u001b[1;33m\u001b[0m\u001b[1;33m\u001b[0m\u001b[1;33m\u001b[0m\u001b[0m\n",
      "\u001b[1;32m<__array_function__ internals>\u001b[0m in \u001b[0;36mconcatenate\u001b[1;34m(*args, **kwargs)\u001b[0m\n",
      "\u001b[1;31mKeyboardInterrupt\u001b[0m: "
     ]
    },
    {
     "data": {
      "image/png": "[encoded data removed]",
      "text/plain": [
       "<Figure size 432x288 with 1 Axes>"
      ]
     },
     "metadata": {
      "needs_background": "light"
     },
     "output_type": "display_data"
    }
   ],
   "source": [
    "kfoldRoc(f['fpr'], f['tpr'], f['auc'], labels=labels, name='K-Fold_20_Epochs', outdir = 'output/')"
   ]
  },
  {
   "cell_type": "code",
   "execution_count": 172,
   "metadata": {},
   "outputs": [],
   "source": [
    "f = h5.File('roc_vals.h5', 'r')"
   ]
  },
  {
   "cell_type": "code",
   "execution_count": 173,
   "metadata": {},
   "outputs": [],
   "source": [
    "g = h5.File('roc_vals.h5', 'r')"
   ]
  },
  {
   "cell_type": "code",
   "execution_count": 174,
   "metadata": {},
   "outputs": [
    {
     "ename": "OSError",
     "evalue": "Unable to create file (unable to truncate a file which is already open)",
     "output_type": "error",
     "traceback": [
      "\u001b[1;31m---------------------------------------------------------------------------\u001b[0m",
      "\u001b[1;31mOSError\u001b[0m                                   Traceback (most recent call last)",
      "\u001b[1;32m<ipython-input-174-49383ce4f22d>\u001b[0m in \u001b[0;36m<module>\u001b[1;34m\u001b[0m\n\u001b[1;32m----> 1\u001b[1;33m \u001b[0mh\u001b[0m \u001b[1;33m=\u001b[0m \u001b[0mh5\u001b[0m\u001b[1;33m.\u001b[0m\u001b[0mFile\u001b[0m\u001b[1;33m(\u001b[0m\u001b[1;34m'roc_vals.h5'\u001b[0m\u001b[1;33m,\u001b[0m \u001b[1;34m'w'\u001b[0m\u001b[1;33m)\u001b[0m\u001b[1;33m\u001b[0m\u001b[1;33m\u001b[0m\u001b[0m\n\u001b[0m",
      "\u001b[1;32m~\\Anaconda3\\lib\\site-packages\\h5py\\_hl\\files.py\u001b[0m in \u001b[0;36m__init__\u001b[1;34m(self, name, mode, driver, libver, userblock_size, swmr, rdcc_nslots, rdcc_nbytes, rdcc_w0, track_order, **kwds)\u001b[0m\n\u001b[0;32m    406\u001b[0m                 fid = make_fid(name, mode, userblock_size,\n\u001b[0;32m    407\u001b[0m                                \u001b[0mfapl\u001b[0m\u001b[1;33m,\u001b[0m \u001b[0mfcpl\u001b[0m\u001b[1;33m=\u001b[0m\u001b[0mmake_fcpl\u001b[0m\u001b[1;33m(\u001b[0m\u001b[0mtrack_order\u001b[0m\u001b[1;33m=\u001b[0m\u001b[0mtrack_order\u001b[0m\u001b[1;33m)\u001b[0m\u001b[1;33m,\u001b[0m\u001b[1;33m\u001b[0m\u001b[1;33m\u001b[0m\u001b[0m\n\u001b[1;32m--> 408\u001b[1;33m                                swmr=swmr)\n\u001b[0m\u001b[0;32m    409\u001b[0m \u001b[1;33m\u001b[0m\u001b[0m\n\u001b[0;32m    410\u001b[0m             \u001b[1;32mif\u001b[0m \u001b[0misinstance\u001b[0m\u001b[1;33m(\u001b[0m\u001b[0mlibver\u001b[0m\u001b[1;33m,\u001b[0m \u001b[0mtuple\u001b[0m\u001b[1;33m)\u001b[0m\u001b[1;33m:\u001b[0m\u001b[1;33m\u001b[0m\u001b[1;33m\u001b[0m\u001b[0m\n",
      "\u001b[1;32m~\\Anaconda3\\lib\\site-packages\\h5py\\_hl\\files.py\u001b[0m in \u001b[0;36mmake_fid\u001b[1;34m(name, mode, userblock_size, fapl, fcpl, swmr)\u001b[0m\n\u001b[0;32m    177\u001b[0m         \u001b[0mfid\u001b[0m \u001b[1;33m=\u001b[0m \u001b[0mh5f\u001b[0m\u001b[1;33m.\u001b[0m\u001b[0mcreate\u001b[0m\u001b[1;33m(\u001b[0m\u001b[0mname\u001b[0m\u001b[1;33m,\u001b[0m \u001b[0mh5f\u001b[0m\u001b[1;33m.\u001b[0m\u001b[0mACC_EXCL\u001b[0m\u001b[1;33m,\u001b[0m \u001b[0mfapl\u001b[0m\u001b[1;33m=\u001b[0m\u001b[0mfapl\u001b[0m\u001b[1;33m,\u001b[0m \u001b[0mfcpl\u001b[0m\u001b[1;33m=\u001b[0m\u001b[0mfcpl\u001b[0m\u001b[1;33m)\u001b[0m\u001b[1;33m\u001b[0m\u001b[1;33m\u001b[0m\u001b[0m\n\u001b[0;32m    178\u001b[0m     \u001b[1;32melif\u001b[0m \u001b[0mmode\u001b[0m \u001b[1;33m==\u001b[0m \u001b[1;34m'w'\u001b[0m\u001b[1;33m:\u001b[0m\u001b[1;33m\u001b[0m\u001b[1;33m\u001b[0m\u001b[0m\n\u001b[1;32m--> 179\u001b[1;33m         \u001b[0mfid\u001b[0m \u001b[1;33m=\u001b[0m \u001b[0mh5f\u001b[0m\u001b[1;33m.\u001b[0m\u001b[0mcreate\u001b[0m\u001b[1;33m(\u001b[0m\u001b[0mname\u001b[0m\u001b[1;33m,\u001b[0m \u001b[0mh5f\u001b[0m\u001b[1;33m.\u001b[0m\u001b[0mACC_TRUNC\u001b[0m\u001b[1;33m,\u001b[0m \u001b[0mfapl\u001b[0m\u001b[1;33m=\u001b[0m\u001b[0mfapl\u001b[0m\u001b[1;33m,\u001b[0m \u001b[0mfcpl\u001b[0m\u001b[1;33m=\u001b[0m\u001b[0mfcpl\u001b[0m\u001b[1;33m)\u001b[0m\u001b[1;33m\u001b[0m\u001b[1;33m\u001b[0m\u001b[0m\n\u001b[0m\u001b[0;32m    180\u001b[0m     \u001b[1;32melif\u001b[0m \u001b[0mmode\u001b[0m \u001b[1;33m==\u001b[0m \u001b[1;34m'a'\u001b[0m\u001b[1;33m:\u001b[0m\u001b[1;33m\u001b[0m\u001b[1;33m\u001b[0m\u001b[0m\n\u001b[0;32m    181\u001b[0m         \u001b[1;31m# Open in append mode (read/write).\u001b[0m\u001b[1;33m\u001b[0m\u001b[1;33m\u001b[0m\u001b[1;33m\u001b[0m\u001b[0m\n",
      "\u001b[1;32mh5py\\_objects.pyx\u001b[0m in \u001b[0;36mh5py._objects.with_phil.wrapper\u001b[1;34m()\u001b[0m\n",
      "\u001b[1;32mh5py\\_objects.pyx\u001b[0m in \u001b[0;36mh5py._objects.with_phil.wrapper\u001b[1;34m()\u001b[0m\n",
      "\u001b[1;32mh5py\\h5f.pyx\u001b[0m in \u001b[0;36mh5py.h5f.create\u001b[1;34m()\u001b[0m\n",
      "\u001b[1;31mOSError\u001b[0m: Unable to create file (unable to truncate a file which is already open)"
     ]
    }
   ],
   "source": [
    "h = h5.File('roc_vals.h5', 'w')"
   ]
  },
  {
   "cell_type": "code",
   "execution_count": 51,
   "metadata": {},
   "outputs": [],
   "source": [
    "f.close()"
   ]
  },
  {
   "cell_type": "code",
   "execution_count": null,
   "metadata": {},
   "outputs": [],
   "source": []
  },
  {
   "cell_type": "code",
   "execution_count": null,
   "metadata": {},
   "outputs": [],
   "source": [
    "#df = pd.DataFrame()\n",
    "#fpr = {}\n",
    "#tpr = {}\n",
    "#auc1 = {}\n",
    "#y_pred = model.predict(data_x[test])\n",
    "#for i, label in enumerate(labels):\n",
    "#    fpr[f'{label}_{fold_no}'], tpr[f'{label}_{fold_no}'], threshold = roc_curve(data_y[test][:,i], y_pred[:,i])\n",
    "#    auc1[f'{label}_{fold_no}'] = auc(fpr[f'{label}_{fold_no}'], tpr[f'{label}_{fold_no}'])"
   ]
  },
  {
   "cell_type": "code",
   "execution_count": null,
   "metadata": {},
   "outputs": [],
   "source": [
    "#fpr_dict = {}"
   ]
  },
  {
   "cell_type": "code",
   "execution_count": null,
   "metadata": {
    "scrolled": false
   },
   "outputs": [],
   "source": [
    "#for i,label in enumerate(labels):\n",
    "#    print(f'{label}_{k+1}')\n",
    "#    fpr_dict[label] = np.array([])\n",
    "#    for k in range(fold_no):\n",
    "#        print(k)\n",
    "#        fpr_dict[label] = np.concatenate([fpr_dict[label], fpr[label+f'_{k+1}']], axis=0)"
   ]
  },
  {
   "cell_type": "code",
   "execution_count": null,
   "metadata": {},
   "outputs": [],
   "source": []
  }
 ],
 "metadata": {
  "kernelspec": {
   "display_name": "Python 3.6.10 64-bit ('MDNtraining_TF': conda)",
   "language": "python",
   "name": "python361064bitmdntrainingtfconda41395b29b3f64ff7b5d12b9937ed94c7"
  },
  "language_info": {
   "codemirror_mode": {
    "name": "ipython",
    "version": 3
   },
   "file_extension": ".py",
   "mimetype": "text/x-python",
   "name": "python",
   "nbconvert_exporter": "python",
   "pygments_lexer": "ipython3",
   "version": "3.6.10-final"
  }
 },
 "nbformat": 4,
 "nbformat_minor": 4
}