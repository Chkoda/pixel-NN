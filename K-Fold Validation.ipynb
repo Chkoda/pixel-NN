{
 "cells": [
  {
   "cell_type": "code",
   "execution_count": 1,
   "metadata": {},
   "outputs": [],
   "source": [
    "import logging\n",
    "import os\n",
    "import sys\n",
    "os.chdir('C:/Users/alexc/OneDrive/Projects/pixel-NN-master')\n",
    "sys.path.append('scripts')\n",
    "sys.path.append('share')\n",
    "sys.path.append('python')\n",
    "from collections import namedtuple\n",
    "import numpy as np\n",
    "import pandas as pd\n",
    "import h5py as h5\n",
    "import matplotlib.pyplot as plt\n",
    "logging.getLogger('matplotlib.font_manager').disabled = True\n",
    "import tensorflow\n",
    "import tensorflow.keras as keras\n",
    "from sklearn.model_selection import KFold\n",
    "from sklearn.metrics import roc_curve, auc"
   ]
  },
  {
   "cell_type": "code",
   "execution_count": 2,
   "metadata": {},
   "outputs": [],
   "source": [
    "logging.basicConfig(level=1, format='[%(asctime)s %(levelname)s] %(message)s')\n",
    "Option = namedtuple(\"MyStruct\", \"input model name folds epochs\")\n",
    "                    #structure learning_rate regularizer epochs\")"
   ]
  },
  {
   "cell_type": "code",
   "execution_count": 3,
   "metadata": {},
   "outputs": [],
   "source": [
    "from run_training import _build_model, _find_py_file"
   ]
  },
  {
   "cell_type": "markdown",
   "metadata": {},
   "source": [
    "# K-Fold Validation\n",
    "## Load and Split Data"
   ]
  },
  {
   "cell_type": "code",
   "execution_count": 4,
   "metadata": {},
   "outputs": [],
   "source": [
    "args = Option(\n",
    "    input='training1.h5',\n",
    "    model='share/reference_number.py',\n",
    "    name='NumberNetworkKFOLD',\n",
    "    folds=10,\n",
    "    epochs=20,\n",
    "    #learning_rate=0.0001,\n",
    "    #regularizer=0.0001,\n",
    ")\n",
    "path = _find_py_file(args.model)"
   ]
  },
  {
   "cell_type": "code",
   "execution_count": 5,
   "metadata": {
    "tags": []
   },
   "outputs": [
    {
     "output_type": "stream",
     "name": "stdout",
     "text": "Loading data from training1.h5\n"
    }
   ],
   "source": [
    "logging.info(f'Loading data from {args.input}')\n",
    "data = h5.File(args.input, 'r')\n",
    "data_x = data['input'][()]\n",
    "data_y = data['target'][()]\n",
    "labels = ['1particle', '2particle', '3particle']"
   ]
  },
  {
   "cell_type": "code",
   "execution_count": 6,
   "metadata": {
    "tags": []
   },
   "outputs": [
    {
     "output_type": "stream",
     "name": "stderr",
     "text": "[2020-07-07 22:37:16,853 INFO] Building model from share/reference_number.py\n"
    }
   ],
   "source": [
    "logging.info('Building model from %s', path)\n",
    "model, compile_args, fit_args, params = _build_model(path, data_x, data_y)"
   ]
  },
  {
   "cell_type": "code",
   "execution_count": 7,
   "metadata": {
    "scrolled": false,
    "tags": []
   },
   "outputs": [],
   "source": [
    "#model.summary()"
   ]
  },
  {
   "cell_type": "code",
   "execution_count": 8,
   "metadata": {},
   "outputs": [],
   "source": [
    "#keras.utils.plot_model(model)"
   ]
  },
  {
   "cell_type": "code",
   "execution_count": 9,
   "metadata": {},
   "outputs": [],
   "source": [
    "#FOR ITERATIVE TESTING QUICKER\n",
    "data_x = data_x[:5000]\n",
    "data_y = data_y[:5000]"
   ]
  },
  {
   "cell_type": "code",
   "execution_count": 10,
   "metadata": {},
   "outputs": [],
   "source": [
    "models = []\n",
    "#histories = []\n",
    "#preds = []\n",
    "#reals = []\n",
    "fpr = {}\n",
    "tpr = {}\n",
    "auc1 = {}\n",
    "acc_per_fold = []\n",
    "loss_per_fold = []\n",
    "\n",
    "#K-Fold Split Indices\n",
    "kfold = KFold(n_splits=args.folds)\n",
    "splits = kfold.split(data_x,data_y)\n",
    "\n",
    "#dont forget to shuffle\n",
    "data = np.concatenate([data_x, data_y], axis=1)\n",
    "rng = np.random.default_rng(seed=42)\n",
    "rng.shuffle(data)\n",
    "data_x = data[:, 0:data_x.shape[1]]\n",
    "data_y = data[:, data_x.shape[1]:data.shape[1]]\n",
    "\n",
    "#\n",
    "# To Do: Barrel and Endcap Layer Seperation\n",
    "#"
   ]
  },
  {
   "cell_type": "markdown",
   "metadata": {},
   "source": [
    "## Training and Validation"
   ]
  },
  {
   "cell_type": "code",
   "execution_count": 11,
   "metadata": {
    "scrolled": false,
    "tags": [
     "outputPrepend"
    ]
   },
   "outputs": [
    {
     "output_type": "stream",
     "name": "stdout",
     "text": "0.00166, saving model to NumberNetworkKFOLD7.h5\n75/75 [==============================] - 0s 1ms/step - loss: 0.0017 - accuracy: 1.0000\nEpoch 13/20\n54/75 [====================>.........] - ETA: 0s - loss: 0.0015 - accuracy: 1.0000\nEpoch 00013: loss improved from 0.00166 to 0.00151, saving model to NumberNetworkKFOLD7.h5\n75/75 [==============================] - 0s 1ms/step - loss: 0.0015 - accuracy: 1.0000\nEpoch 14/20\n51/75 [===================>..........] - ETA: 0s - loss: 0.0014 - accuracy: 1.0000\nEpoch 00014: loss improved from 0.00151 to 0.00139, saving model to NumberNetworkKFOLD7.h5\n75/75 [==============================] - 0s 1ms/step - loss: 0.0014 - accuracy: 1.0000\nEpoch 15/20\n54/75 [====================>.........] - ETA: 0s - loss: 0.0013 - accuracy: 1.0000\nEpoch 00015: loss improved from 0.00139 to 0.00129, saving model to NumberNetworkKFOLD7.h5\n75/75 [==============================] - 0s 1ms/step - loss: 0.0013 - accuracy: 1.0000\nEpoch 16/20\n52/75 [===================>..........] - ETA: 0s - loss: 0.0012 - accuracy: 1.0000\nEpoch 00016: loss improved from 0.00129 to 0.00120, saving model to NumberNetworkKFOLD7.h5\n75/75 [==============================] - 0s 1ms/step - loss: 0.0012 - accuracy: 1.0000\nEpoch 17/20\n50/75 [===================>..........] - ETA: 0s - loss: 0.0011 - accuracy: 1.0000\nEpoch 00017: loss improved from 0.00120 to 0.00112, saving model to NumberNetworkKFOLD7.h5\n75/75 [==============================] - 0s 1ms/step - loss: 0.0011 - accuracy: 1.0000\nEpoch 18/20\n50/75 [===================>..........] - ETA: 0s - loss: 0.0011 - accuracy: 1.0000\nEpoch 00018: loss improved from 0.00112 to 0.00105, saving model to NumberNetworkKFOLD7.h5\n75/75 [==============================] - 0s 1ms/step - loss: 0.0011 - accuracy: 1.0000\nEpoch 19/20\n53/75 [====================>.........] - ETA: 0s - loss: 9.9801e-04 - accuracy: 1.0000\nEpoch 00019: loss improved from 0.00105 to 0.00099, saving model to NumberNetworkKFOLD7.h5\n75/75 [==============================] - 0s 1ms/step - loss: 9.8967e-04 - accuracy: 1.0000\nEpoch 20/20\n48/75 [==================>...........] - ETA: 0s - loss: 9.4452e-04 - accuracy: 1.0000\nEpoch 00020: loss improved from 0.00099 to 0.00094, saving model to NumberNetworkKFOLD7.h5\n75/75 [==============================] - 0s 1ms/step - loss: 9.3537e-04 - accuracy: 1.0000\nValidating on fold 7 ...\n16/16 [==============================] - 0s 875us/step - loss: 9.0603e-04 - accuracy: 1.0000\nScore for fold 7: loss of 0.0009060270385816693; accuracy of 100.0%\nCalculating inference for fold 7 ...\nBuilding model for fold 8 from share/reference_number.py...\nCompiling for fold 8 ...\nTraining for fold 8 ...\nEpoch 1/20\n50/75 [===================>..........] - ETA: 0s - loss: 0.2651 - accuracy: 0.9393\nEpoch 00001: loss improved from inf to 0.18798, saving model to NumberNetworkKFOLD8.h5\n75/75 [==============================] - 0s 1ms/step - loss: 0.1880 - accuracy: 0.9596\nEpoch 2/20\n35/75 [=============>................] - ETA: 0s - loss: 0.0202 - accuracy: 1.0000\nEpoch 00002: loss improved from 0.18798 to 0.01650, saving model to NumberNetworkKFOLD8.h5\n75/75 [==============================] - 0s 2ms/step - loss: 0.0165 - accuracy: 1.0000\nEpoch 3/20\n52/75 [===================>..........] - ETA: 0s - loss: 0.0092 - accuracy: 1.0000\nEpoch 00003: loss improved from 0.01650 to 0.00860, saving model to NumberNetworkKFOLD8.h5\n75/75 [==============================] - 0s 1ms/step - loss: 0.0086 - accuracy: 1.0000\nEpoch 4/20\n52/75 [===================>..........] - ETA: 0s - loss: 0.0060 - accuracy: 1.0000\nEpoch 00004: loss improved from 0.00860 to 0.00576, saving model to NumberNetworkKFOLD8.h5\n75/75 [==============================] - 0s 1ms/step - loss: 0.0058 - accuracy: 1.0000\nEpoch 5/20\n55/75 [=====================>........] - ETA: 0s - loss: 0.0045 - accuracy: 1.0000\nEpoch 00005: loss improved from 0.00576 to 0.00431, saving model to NumberNetworkKFOLD8.h5\n75/75 [==============================] - 0s 1ms/step - loss: 0.0043 - accuracy: 1.0000\nEpoch 6/20\n44/75 [================>.............] - ETA: 0s - loss: 0.0036 - accuracy: 1.0000\nEpoch 00006: loss improved from 0.00431 to 0.00343, saving model to NumberNetworkKFOLD8.h5\n75/75 [==============================] - 0s 1ms/step - loss: 0.0034 - accuracy: 1.0000\nEpoch 7/20\n46/75 [=================>............] - ETA: 0s - loss: 0.0029 - accuracy: 1.0000\nEpoch 00007: loss improved from 0.00343 to 0.00284, saving model to NumberNetworkKFOLD8.h5\n75/75 [==============================] - 0s 1ms/step - loss: 0.0028 - accuracy: 1.0000\nEpoch 8/20\n51/75 [===================>..........] - ETA: 0s - loss: 0.0025 - accuracy: 1.0000\nEpoch 00008: loss improved from 0.00284 to 0.00242, saving model to NumberNetworkKFOLD8.h5\n75/75 [==============================] - 0s 1ms/step - loss: 0.0024 - accuracy: 1.0000\nEpoch 9/20\n54/75 [====================>.........] - ETA: 0s - loss: 0.0022 - accuracy: 1.0000\nEpoch 00009: loss improved from 0.00242 to 0.00211, saving model to NumberNetworkKFOLD8.h5\n75/75 [==============================] - 0s 1ms/step - loss: 0.0021 - accuracy: 1.0000\nEpoch 10/20\n52/75 [===================>..........] - ETA: 0s - loss: 0.0019 - accuracy: 1.0000\nEpoch 00010: loss improved from 0.00211 to 0.00187, saving model to NumberNetworkKFOLD8.h5\n75/75 [==============================] - 0s 1ms/step - loss: 0.0019 - accuracy: 1.0000\nEpoch 11/20\n51/75 [===================>..........] - ETA: 0s - loss: 0.0017 - accuracy: 1.0000\nEpoch 00011: loss improved from 0.00187 to 0.00167, saving model to NumberNetworkKFOLD8.h5\n75/75 [==============================] - 0s 1ms/step - loss: 0.0017 - accuracy: 1.0000\nEpoch 12/20\n47/75 [=================>............] - ETA: 0s - loss: 0.0015 - accuracy: 1.0000\nEpoch 00012: loss improved from 0.00167 to 0.00151, saving model to NumberNetworkKFOLD8.h5\n75/75 [==============================] - 0s 1ms/step - loss: 0.0015 - accuracy: 1.0000\nEpoch 13/20\n51/75 [===================>..........] - ETA: 0s - loss: 0.0014 - accuracy: 1.0000\nEpoch 00013: loss improved from 0.00151 to 0.00138, saving model to NumberNetworkKFOLD8.h5\n75/75 [==============================] - 0s 1ms/step - loss: 0.0014 - accuracy: 1.0000\nEpoch 14/20\n54/75 [====================>.........] - ETA: 0s - loss: 0.0013 - accuracy: 1.0000\nEpoch 00014: loss improved from 0.00138 to 0.00127, saving model to NumberNetworkKFOLD8.h5\n75/75 [==============================] - 0s 1ms/step - loss: 0.0013 - accuracy: 1.0000\nEpoch 15/20\n73/75 [============================>.] - ETA: 0s - loss: 0.0012 - accuracy: 1.0000\nEpoch 00015: loss improved from 0.00127 to 0.00118, saving model to NumberNetworkKFOLD8.h5\n75/75 [==============================] - 0s 2ms/step - loss: 0.0012 - accuracy: 1.0000\nEpoch 16/20\n50/75 [===================>..........] - ETA: 0s - loss: 0.0011 - accuracy: 1.0000\nEpoch 00016: loss improved from 0.00118 to 0.00109, saving model to NumberNetworkKFOLD8.h5\n75/75 [==============================] - 0s 1ms/step - loss: 0.0011 - accuracy: 1.0000\nEpoch 17/20\n50/75 [===================>..........] - ETA: 0s - loss: 0.0010 - accuracy: 1.0000\nEpoch 00017: loss improved from 0.00109 to 0.00102, saving model to NumberNetworkKFOLD8.h5\n75/75 [==============================] - 0s 1ms/step - loss: 0.0010 - accuracy: 1.0000\nEpoch 18/20\n49/75 [==================>...........] - ETA: 0s - loss: 9.6804e-04 - accuracy: 1.0000\nEpoch 00018: loss improved from 0.00102 to 0.00096, saving model to NumberNetworkKFOLD8.h5\n75/75 [==============================] - 0s 1ms/step - loss: 9.5956e-04 - accuracy: 1.0000\nEpoch 19/20\n56/75 [=====================>........] - ETA: 0s - loss: 9.1027e-04 - accuracy: 1.0000\nEpoch 00019: loss improved from 0.00096 to 0.00090, saving model to NumberNetworkKFOLD8.h5\n75/75 [==============================] - 0s 1ms/step - loss: 9.0384e-04 - accuracy: 1.0000\nEpoch 20/20\n49/75 [==================>...........] - ETA: 0s - loss: 8.5972e-04 - accuracy: 1.0000\nEpoch 00020: loss improved from 0.00090 to 0.00085, saving model to NumberNetworkKFOLD8.h5\n75/75 [==============================] - 0s 1ms/step - loss: 8.5413e-04 - accuracy: 1.0000\nValidating on fold 8 ...\n16/16 [==============================] - 0s 875us/step - loss: 8.3977e-04 - accuracy: 1.0000\nScore for fold 8: loss of 0.0008397745550610125; accuracy of 100.0%\nCalculating inference for fold 8 ...\nBuilding model for fold 9 from share/reference_number.py...\nCompiling for fold 9 ...\nTraining for fold 9 ...\nEpoch 1/20\n52/75 [===================>..........] - ETA: 0s - loss: 0.2301 - accuracy: 0.9843\nEpoch 00001: loss improved from inf to 0.16905, saving model to NumberNetworkKFOLD9.h5\n75/75 [==============================] - 0s 1ms/step - loss: 0.1691 - accuracy: 0.9891\nEpoch 2/20\n49/75 [==================>...........] - ETA: 0s - loss: 0.0180 - accuracy: 1.0000\nEpoch 00002: loss improved from 0.16905 to 0.01594, saving model to NumberNetworkKFOLD9.h5\n75/75 [==============================] - 0s 1ms/step - loss: 0.0159 - accuracy: 1.0000\nEpoch 3/20\n48/75 [==================>...........] - ETA: 0s - loss: 0.0091 - accuracy: 1.0000\nEpoch 00003: loss improved from 0.01594 to 0.00844, saving model to NumberNetworkKFOLD9.h5\n75/75 [==============================] - 0s 2ms/step - loss: 0.0084 - accuracy: 1.0000\nEpoch 4/20\n48/75 [==================>...........] - ETA: 0s - loss: 0.0060 - accuracy: 1.0000\nEpoch 00004: loss improved from 0.00844 to 0.00570, saving model to NumberNetworkKFOLD9.h5\n75/75 [==============================] - 0s 1ms/step - loss: 0.0057 - accuracy: 1.0000\nEpoch 5/20\n49/75 [==================>...........] - ETA: 0s - loss: 0.0045 - accuracy: 1.0000\nEpoch 00005: loss improved from 0.00570 to 0.00429, saving model to NumberNetworkKFOLD9.h5\n75/75 [==============================] - 0s 1ms/step - loss: 0.0043 - accuracy: 1.0000\nEpoch 6/20\n48/75 [==================>...........] - ETA: 0s - loss: 0.0035 - accuracy: 1.0000\nEpoch 00006: loss improved from 0.00429 to 0.00343, saving model to NumberNetworkKFOLD9.h5\n75/75 [==============================] - 0s 1ms/step - loss: 0.0034 - accuracy: 1.0000\nEpoch 7/20\n50/75 [===================>..........] - ETA: 0s - loss: 0.0029 - accuracy: 1.0000\nEpoch 00007: loss improved from 0.00343 to 0.00285, saving model to NumberNetworkKFOLD9.h5\n75/75 [==============================] - 0s 1ms/step - loss: 0.0028 - accuracy: 1.0000\nEpoch 8/20\n57/75 [=====================>........] - ETA: 0s - loss: 0.0025 - accuracy: 1.0000\nEpoch 00008: loss improved from 0.00285 to 0.00243, saving model to NumberNetworkKFOLD9.h5\n75/75 [==============================] - 0s 1ms/step - loss: 0.0024 - accuracy: 1.0000\nEpoch 9/20\n52/75 [===================>..........] - ETA: 0s - loss: 0.0022 - accuracy: 1.0000\nEpoch 00009: loss improved from 0.00243 to 0.00212, saving model to NumberNetworkKFOLD9.h5\n75/75 [==============================] - 0s 1ms/step - loss: 0.0021 - accuracy: 1.0000\nEpoch 10/20\n54/75 [====================>.........] - ETA: 0s - loss: 0.0019 - accuracy: 1.0000\nEpoch 00010: loss improved from 0.00212 to 0.00188, saving model to NumberNetworkKFOLD9.h5\n75/75 [==============================] - 0s 1ms/step - loss: 0.0019 - accuracy: 1.0000\nEpoch 11/20\n55/75 [=====================>........] - ETA: 0s - loss: 0.0017 - accuracy: 1.0000\nEpoch 00011: loss improved from 0.00188 to 0.00169, saving model to NumberNetworkKFOLD9.h5\n75/75 [==============================] - 0s 1ms/step - loss: 0.0017 - accuracy: 1.0000\nEpoch 12/20\n40/75 [===============>..............] - ETA: 0s - loss: 0.0016 - accuracy: 1.0000\nEpoch 00012: loss improved from 0.00169 to 0.00153, saving model to NumberNetworkKFOLD9.h5\n75/75 [==============================] - 0s 2ms/step - loss: 0.0015 - accuracy: 1.0000\nEpoch 13/20\n45/75 [=================>............] - ETA: 0s - loss: 0.0014 - accuracy: 1.0000\nEpoch 00013: loss improved from 0.00153 to 0.00140, saving model to NumberNetworkKFOLD9.h5\n75/75 [==============================] - 0s 2ms/step - loss: 0.0014 - accuracy: 1.0000\nEpoch 14/20\n51/75 [===================>..........] - ETA: 0s - loss: 0.0013 - accuracy: 1.0000\nEpoch 00014: loss improved from 0.00140 to 0.00129, saving model to NumberNetworkKFOLD9.h5\n75/75 [==============================] - 0s 1ms/step - loss: 0.0013 - accuracy: 1.0000\nEpoch 15/20\n51/75 [===================>..........] - ETA: 0s - loss: 0.0012 - accuracy: 1.0000\nEpoch 00015: loss improved from 0.00129 to 0.00119, saving model to NumberNetworkKFOLD9.h5\n75/75 [==============================] - 0s 1ms/step - loss: 0.0012 - accuracy: 1.0000\nEpoch 16/20\n50/75 [===================>..........] - ETA: 0s - loss: 0.0011 - accuracy: 1.0000\nEpoch 00016: loss improved from 0.00119 to 0.00111, saving model to NumberNetworkKFOLD9.h5\n75/75 [==============================] - 0s 1ms/step - loss: 0.0011 - accuracy: 1.0000\nEpoch 17/20\n55/75 [=====================>........] - ETA: 0s - loss: 0.0010 - accuracy: 1.0000\nEpoch 00017: loss improved from 0.00111 to 0.00104, saving model to NumberNetworkKFOLD9.h5\n75/75 [==============================] - 0s 1ms/step - loss: 0.0010 - accuracy: 1.0000\nEpoch 18/20\n51/75 [===================>..........] - ETA: 0s - loss: 9.8411e-04 - accuracy: 1.0000\nEpoch 00018: loss improved from 0.00104 to 0.00097, saving model to NumberNetworkKFOLD9.h5\n75/75 [==============================] - 0s 1ms/step - loss: 9.7500e-04 - accuracy: 1.0000\nEpoch 19/20\n52/75 [===================>..........] - ETA: 0s - loss: 9.2672e-04 - accuracy: 1.0000\nEpoch 00019: loss improved from 0.00097 to 0.00092, saving model to NumberNetworkKFOLD9.h5\n75/75 [==============================] - 0s 1ms/step - loss: 9.1897e-04 - accuracy: 1.0000\nEpoch 20/20\n51/75 [===================>..........] - ETA: 0s - loss: 8.7799e-04 - accuracy: 1.0000\nEpoch 00020: loss improved from 0.00092 to 0.00087, saving model to NumberNetworkKFOLD9.h5\n75/75 [==============================] - 0s 1ms/step - loss: 8.6894e-04 - accuracy: 1.0000\nValidating on fold 9 ...\n16/16 [==============================] - 0s 813us/step - loss: 8.5056e-04 - accuracy: 1.0000\nScore for fold 9: loss of 0.0008505593286827207; accuracy of 100.0%\nCalculating inference for fold 9 ...\nBuilding model for fold 10 from share/reference_number.py...\nCompiling for fold 10 ...\nTraining for fold 10 ...\nEpoch 1/20\n38/75 [==============>...............] - ETA: 0s - loss: 0.3336 - accuracy: 0.9996\nEpoch 00001: loss improved from inf to 0.19237, saving model to NumberNetworkKFOLD10.h5\n75/75 [==============================] - 0s 1ms/step - loss: 0.1924 - accuracy: 0.9998\nEpoch 2/20\n32/75 [===========>..................] - ETA: 0s - loss: 0.0236 - accuracy: 1.0000\nEpoch 00002: loss improved from 0.19237 to 0.01877, saving model to NumberNetworkKFOLD10.h5\n75/75 [==============================] - 0s 2ms/step - loss: 0.0188 - accuracy: 1.0000\nEpoch 3/20\n55/75 [=====================>........] - ETA: 0s - loss: 0.0101 - accuracy: 1.0000\nEpoch 00003: loss improved from 0.01877 to 0.00957, saving model to NumberNetworkKFOLD10.h5\n75/75 [==============================] - 0s 1ms/step - loss: 0.0096 - accuracy: 1.0000\nEpoch 4/20\n51/75 [===================>..........] - ETA: 0s - loss: 0.0067 - accuracy: 1.0000\nEpoch 00004: loss improved from 0.00957 to 0.00635, saving model to NumberNetworkKFOLD10.h5\n75/75 [==============================] - 0s 1ms/step - loss: 0.0063 - accuracy: 1.0000\nEpoch 5/20\n51/75 [===================>..........] - ETA: 0s - loss: 0.0049 - accuracy: 1.0000\nEpoch 00005: loss improved from 0.00635 to 0.00472, saving model to NumberNetworkKFOLD10.h5\n75/75 [==============================] - 0s 1ms/step - loss: 0.0047 - accuracy: 1.0000\nEpoch 6/20\n55/75 [=====================>........] - ETA: 0s - loss: 0.0038 - accuracy: 1.0000\nEpoch 00006: loss improved from 0.00472 to 0.00373, saving model to NumberNetworkKFOLD10.h5\n75/75 [==============================] - 0s 1ms/step - loss: 0.0037 - accuracy: 1.0000\nEpoch 7/20\n49/75 [==================>...........] - ETA: 0s - loss: 0.0032 - accuracy: 1.0000\nEpoch 00007: loss improved from 0.00373 to 0.00308, saving model to NumberNetworkKFOLD10.h5\n75/75 [==============================] - 0s 2ms/step - loss: 0.0031 - accuracy: 1.0000\nEpoch 8/20\n47/75 [=================>............] - ETA: 0s - loss: 0.0027 - accuracy: 1.0000\nEpoch 00008: loss improved from 0.00308 to 0.00262, saving model to NumberNetworkKFOLD10.h5\n75/75 [==============================] - 0s 1ms/step - loss: 0.0026 - accuracy: 1.0000\nEpoch 9/20\n53/75 [====================>.........] - ETA: 0s - loss: 0.0023 - accuracy: 1.0000\nEpoch 00009: loss improved from 0.00262 to 0.00227, saving model to NumberNetworkKFOLD10.h5\n75/75 [==============================] - 0s 1ms/step - loss: 0.0023 - accuracy: 1.0000\nEpoch 10/20\n52/75 [===================>..........] - ETA: 0s - loss: 0.0020 - accuracy: 1.0000\nEpoch 00010: loss improved from 0.00227 to 0.00201, saving model to NumberNetworkKFOLD10.h5\n75/75 [==============================] - 0s 1ms/step - loss: 0.0020 - accuracy: 1.0000\nEpoch 11/20\n51/75 [===================>..........] - ETA: 0s - loss: 0.0018 - accuracy: 1.0000\nEpoch 00011: loss improved from 0.00201 to 0.00179, saving model to NumberNetworkKFOLD10.h5\n75/75 [==============================] - 0s 1ms/step - loss: 0.0018 - accuracy: 1.0000\nEpoch 12/20\n50/75 [===================>..........] - ETA: 0s - loss: 0.0016 - accuracy: 1.0000\nEpoch 00012: loss improved from 0.00179 to 0.00162, saving model to NumberNetworkKFOLD10.h5\n75/75 [==============================] - 0s 1ms/step - loss: 0.0016 - accuracy: 1.0000\nEpoch 13/20\n53/75 [====================>.........] - ETA: 0s - loss: 0.0015 - accuracy: 1.0000\nEpoch 00013: loss improved from 0.00162 to 0.00148, saving model to NumberNetworkKFOLD10.h5\n75/75 [==============================] - 0s 1ms/step - loss: 0.0015 - accuracy: 1.0000\nEpoch 14/20\n50/75 [===================>..........] - ETA: 0s - loss: 0.0014 - accuracy: 1.0000\nEpoch 00014: loss improved from 0.00148 to 0.00136, saving model to NumberNetworkKFOLD10.h5\n75/75 [==============================] - 0s 1ms/step - loss: 0.0014 - accuracy: 1.0000\nEpoch 15/20\n52/75 [===================>..........] - ETA: 0s - loss: 0.0013 - accuracy: 1.0000\nEpoch 00015: loss improved from 0.00136 to 0.00125, saving model to NumberNetworkKFOLD10.h5\n75/75 [==============================] - 0s 1ms/step - loss: 0.0013 - accuracy: 1.0000\nEpoch 16/20\n51/75 [===================>..........] - ETA: 0s - loss: 0.0012 - accuracy: 1.0000\nEpoch 00016: loss improved from 0.00125 to 0.00117, saving model to NumberNetworkKFOLD10.h5\n75/75 [==============================] - 0s 1ms/step - loss: 0.0012 - accuracy: 1.0000\nEpoch 17/20\n52/75 [===================>..........] - ETA: 0s - loss: 0.0011 - accuracy: 1.0000\nEpoch 00017: loss improved from 0.00117 to 0.00109, saving model to NumberNetworkKFOLD10.h5\n75/75 [==============================] - 0s 1ms/step - loss: 0.0011 - accuracy: 1.0000\nEpoch 18/20\n49/75 [==================>...........] - ETA: 0s - loss: 0.0010 - accuracy: 1.0000\nEpoch 00018: loss improved from 0.00109 to 0.00102, saving model to NumberNetworkKFOLD10.h5\n75/75 [==============================] - 0s 1ms/step - loss: 0.0010 - accuracy: 1.0000\nEpoch 19/20\n51/75 [===================>..........] - ETA: 0s - loss: 9.7032e-04 - accuracy: 1.0000\nEpoch 00019: loss improved from 0.00102 to 0.00096, saving model to NumberNetworkKFOLD10.h5\n75/75 [==============================] - 0s 1ms/step - loss: 9.5991e-04 - accuracy: 1.0000\nEpoch 20/20\n49/75 [==================>...........] - ETA: 0s - loss: 9.1674e-04 - accuracy: 1.0000\nEpoch 00020: loss improved from 0.00096 to 0.00091, saving model to NumberNetworkKFOLD10.h5\n75/75 [==============================] - 0s 1ms/step - loss: 9.0628e-04 - accuracy: 1.0000\nValidating on fold 10 ...\n16/16 [==============================] - 0s 813us/step - loss: 8.7716e-04 - accuracy: 1.0000\nScore for fold 10: loss of 0.0008771602879278362; accuracy of 100.0%\nCalculating inference for fold 10 ...\nDone training!\n"
    }
   ],
   "source": [
    "fold_no = 0\n",
    "with h5.File(f'output/{args.name}.h5', 'w'):\n",
    "    logging.info(f'output/{args.name}.h5 created/emptied')\n",
    "\n",
    "for train, test in splits:\n",
    "    fold_no += 1\n",
    "    logging.info(f'Building model for fold {fold_no} from {path}...')\n",
    "    model, compile_args, fit_args, params = _build_model(path, data_x, data_y)\n",
    "    compile_args['metrics']=['accuracy']\n",
    "    fit_args['epochs'] = args.epochs\n",
    "    fit_args.pop('validation_split')\n",
    "    fit_args['callbacks'] = [keras.callbacks.TerminateOnNaN(),\n",
    "                             keras.callbacks.ModelCheckpoint(args.name + str(fold_no) + '.h5', monitor='loss', save_best_only=True,verbose=1),\n",
    "                             keras.callbacks.CSVLogger('output/'+args.name+str(fold_no)+'.csv')]\n",
    "    logging.info(f'Compiling for fold {fold_no} ...')\n",
    "    model.compile(**compile_args)\n",
    "\n",
    "    logging.info(f'Training for fold {fold_no} ...')\n",
    "    history = model.fit(data_x[train], data_y[train], **fit_args)\n",
    "    \n",
    "    logging.info(f'Validating on fold {fold_no} ...')\n",
    "    scores = model.evaluate(data_x[test], data_y[test])\n",
    "    \n",
    "    logging.info(f'Score for fold {fold_no}: {model.metrics_names[0]} of {scores[0]}; {model.metrics_names[1]} of {scores[1] * 100}%')\n",
    "    acc_per_fold.append(scores[1]*100)\n",
    "    loss_per_fold.append(scores[0])\n",
    "    \n",
    "    logging.info(f'Calculating inference for fold {fold_no} ...')\n",
    "    y_pred = model.predict(data_x[test])\n",
    "    #preds.append(y_pred)\n",
    "    #reals.append(data_y[test])\n",
    "    \n",
    "    for i, label in enumerate(labels):\n",
    "        #print(f'{label}_{k+1}')\n",
    "        #thisfpr, thistpr, threshold = roc_curve(data_y[test][:,i], y_pred[:,i])\n",
    "        #fpr[label] = np.concatenate([fpr[label], thisfpr], axis=0)\n",
    "        #tpr[label] = np.concatenate([tpr[label], thistpr], axis=0)\n",
    "        fpr[f'{label}_{fold_no}'], tpr[f'{label}_{fold_no}'], threshold = roc_curve(data_y[test][:,i], y_pred[:,i])\n",
    "        auc1[f'{label}_{fold_no}'] = auc(fpr[f'{label}_{fold_no}'], tpr[f'{label}_{fold_no}'])\n",
    "        \n",
    "    logging.info(f'Writing fit history to output/{args.name}.h5')\n",
    "    with h5.File(f'output/{args.name}.h5', 'a') as hfile:\n",
    "        for key, val in history.history.items():\n",
    "            hfile.create_dataset(key+'_'+str(fold_no), data=np.array(val))\n",
    "        for label in labels:\n",
    "            f.create_dataset(f'{label}_{fold_no}_fpr', data=fpr[f'{label}_{fold_no}'])\n",
    "            f.create_dataset(f'{label}_{fold_no}_tpr', data=tpr[f'{label}_{fold_no}'])\n",
    "            f.create_dataset(f'{label}_{fold_no}_auc', data=auc1[f'{label}_{fold_no}'])\n",
    "    models.append(model)\n",
    "\n",
    "logging.info('Done training!')\n",
    "\n",
    "'''\n",
    "fpr_dict = {}\n",
    "tpr_dict = {}\n",
    "for i,label in enumerate(labels):\n",
    "    #print(f'{label}_{k+1}')\n",
    "    fpr_dict[label] = np.array([])\n",
    "    tpr_dict[label] = np.array([])\n",
    "    for k in range(fold_no):\n",
    "        #print(k)\n",
    "        fpr_dict[label] = np.concatenate([fpr_dict[label], fpr[label+f'_{k+1}']], axis=0)\n",
    "        tpr_dict[label] = np.concatenate([tpr_dict[label], tpr[label+f'_{k+1}']], axis=0)\n",
    "'''"
   ]
  },
  {
   "cell_type": "markdown",
   "metadata": {},
   "source": [
    "## Save Training and Validation Data"
   ]
  },
  {
   "cell_type": "code",
   "execution_count": 12,
   "metadata": {
    "scrolled": false,
    "tags": []
   },
   "outputs": [
    {
     "output_type": "execute_result",
     "data": {
      "text/plain": "\"\\ngrp = f.create_group('fpr')\\ngrp.create_dataset('1particle', data=fpr_dict['1particle'])\\ngrp.create_dataset('2particle', data=fpr_dict['2particle'])\\ngrp.create_dataset('3particle', data=fpr_dict['3particle'])\\ngrp2 = f.create_group('tpr')\\ngrp2.create_dataset('1particle', data=tpr['1particle'])\\ngrp2.create_dataset('2particle', data=tpr['2particle'])\\ngrp2.create_dataset('3particle', data=tpr['3particle'])\\ngrp3 = f.create_group('auc')\\ngrp3.create_dataset('1particle', data=auc1['1particle'])\\ngrp3.create_dataset('2particle', data=auc1['2particle'])\\ngrp3.create_dataset('3particle', data=auc1['3particle'])\\n\""
     },
     "metadata": {},
     "execution_count": 12
    }
   ],
   "source": [
    "with h5.File(f'output/{args.name}.h5', 'a') as f:\n",
    "    for label in labels:\n",
    "        for i in range(fold_no-1):\n",
    "            f.create_dataset(f'{label}_{i}_fpr', data=fpr[f'{label}_{i+1}'])\n",
    "            f.create_dataset(f'{label}_{i}_tpr', data=tpr[f'{label}_{i+1}'])\n",
    "            f.create_dataset(f'{label}_{i}_auc', data=auc1[f'{label}_{i+1}'])\n",
    "\n",
    "\n",
    "#for label in labels:\n",
    "#    grp = f.create_group(label)\n",
    "#    grp.create_dataset('fpr', data=fpr[label])\n",
    "#    grp.create_dataset('tpr', data=tpr[label])\n",
    "#    grp.create_dataset('auc', data=auc1[label])\n",
    "\n",
    "'''\n",
    "grp = f.create_group('fpr')\n",
    "grp.create_dataset('1particle', data=fpr_dict['1particle'])\n",
    "grp.create_dataset('2particle', data=fpr_dict['2particle'])\n",
    "grp.create_dataset('3particle', data=fpr_dict['3particle'])\n",
    "grp2 = f.create_group('tpr')\n",
    "grp2.create_dataset('1particle', data=tpr['1particle'])\n",
    "grp2.create_dataset('2particle', data=tpr['2particle'])\n",
    "grp2.create_dataset('3particle', data=tpr['3particle'])\n",
    "grp3 = f.create_group('auc')\n",
    "grp3.create_dataset('1particle', data=auc1['1particle'])\n",
    "grp3.create_dataset('2particle', data=auc1['2particle'])\n",
    "grp3.create_dataset('3particle', data=auc1['3particle'])\n",
    "'''"
   ]
  },
  {
   "cell_type": "code",
   "execution_count": 28,
   "metadata": {
    "tags": []
   },
   "outputs": [
    {
     "output_type": "stream",
     "name": "stdout",
     "text": "<KeysViewHDF5 ['1particle_0_auc', '1particle_0_fpr', '1particle_0_tpr', '1particle_1_auc', '1particle_1_fpr', '1particle_1_tpr', '1particle_2_auc', '1particle_2_fpr', '1particle_2_tpr', '1particle_3_auc', '1particle_3_fpr', '1particle_3_tpr', '1particle_4_auc', '1particle_4_fpr', '1particle_4_tpr', '1particle_5_auc', '1particle_5_fpr', '1particle_5_tpr', '1particle_6_auc', '1particle_6_fpr', '1particle_6_tpr', '1particle_7_auc', '1particle_7_fpr', '1particle_7_tpr', '1particle_8_auc', '1particle_8_fpr', '1particle_8_tpr', '2particle_0_auc', '2particle_0_fpr', '2particle_0_tpr', '2particle_1_auc', '2particle_1_fpr', '2particle_1_tpr', '2particle_2_auc', '2particle_2_fpr', '2particle_2_tpr', '2particle_3_auc', '2particle_3_fpr', '2particle_3_tpr', '2particle_4_auc', '2particle_4_fpr', '2particle_4_tpr', '2particle_5_auc', '2particle_5_fpr', '2particle_5_tpr', '2particle_6_auc', '2particle_6_fpr', '2particle_6_tpr', '2particle_7_auc', '2particle_7_fpr', '2particle_7_tpr', '2particle_8_auc', '2particle_8_fpr', '2particle_8_tpr', '3particle_0_auc', '3particle_0_fpr', '3particle_0_tpr', '3particle_1_auc', '3particle_1_fpr', '3particle_1_tpr', '3particle_2_auc', '3particle_2_fpr', '3particle_2_tpr', '3particle_3_auc', '3particle_3_fpr', '3particle_3_tpr', '3particle_4_auc', '3particle_4_fpr', '3particle_4_tpr', '3particle_5_auc', '3particle_5_fpr', '3particle_5_tpr', '3particle_6_auc', '3particle_6_fpr', '3particle_6_tpr', '3particle_7_auc', '3particle_7_fpr', '3particle_7_tpr', '3particle_8_auc', '3particle_8_fpr', '3particle_8_tpr', 'accuracy1', 'accuracy10', 'accuracy2', 'accuracy3', 'accuracy4', 'accuracy5', 'accuracy6', 'accuracy7', 'accuracy8', 'accuracy9', 'loss1', 'loss10', 'loss2', 'loss3', 'loss4', 'loss5', 'loss6', 'loss7', 'loss8', 'loss9']>\n"
    }
   ],
   "source": [
    "with h5.File('output/NumberNetworkKFOLD.h5', 'r') as f:\n",
    "    print(f.keys())"
   ]
  },
  {
   "cell_type": "code",
   "execution_count": null,
   "metadata": {},
   "outputs": [],
   "source": []
  },
  {
   "cell_type": "markdown",
   "metadata": {},
   "source": [
    "## Plotting and Evaluation"
   ]
  },
  {
   "cell_type": "markdown",
   "metadata": {},
   "source": [
    "# ROC Curves"
   ]
  },
  {
   "cell_type": "code",
   "execution_count": null,
   "metadata": {},
   "outputs": [],
   "source": [
    "f = h5.File(f'output/{args.name}.h5')"
   ]
  },
  {
   "cell_type": "code",
   "execution_count": 87,
   "metadata": {},
   "outputs": [],
   "source": [
    "def chunks(lst, n):\n",
    "    \"\"\"Yield successive n-sized chunks from lst.\"\"\"\n",
    "    for i in range(0, len(lst), n):\n",
    "        yield lst[i:i + n]"
   ]
  },
  {
   "cell_type": "code",
   "execution_count": 26,
   "metadata": {},
   "outputs": [],
   "source": [
    "def kfoldRoc(infile, labels):\n",
    "    #fpr, tpr, auc, labels, name='', outdir='output/'\n",
    "    fpr_list = []\n",
    "    tpr_list = []\n",
    "    auc_list = []\n",
    "    with h5.File(infile, 'r') as hfile:\n",
    "        for label in labels:\n",
    "            for i in range(fold_no):\n",
    "                fpr_list.append(hfile[f'{label}_{i+1}_fpr'][()])\n",
    "                tpr_list.append(hfile[f'{label}_{i+1}_tpr'][()])\n",
    "                auc_list.append(hfile[f'{label}_{i+1}_auc'][()])\n",
    "        print(len(fpr_list))\n",
    "\n",
    "    plt.figure()\n",
    "    for label in labels:\n",
    "        fpr_avgs = np.array([])\n",
    "        tpr_avgs = np.array([])\n",
    "        for i in range(len(fpr_list[0])): # revise to go through every sample, \n",
    "            fpr_vals = np.array([]) #one row of each kfold fpr\n",
    "            tpr_vals = np.array([])\n",
    "            for k in range(fold_no-1):\n",
    "                fpr_vals = fpr_list[k][i]\n",
    "                tpr_vals = tpr_list[k][i]\n",
    "            fpr_avgs = np.concatenate([fpr_avgs, [np.mean(fold_vals)]], axis=0)\n",
    "            tpr_avgs = np.concatenate([tpr_avgs, [np.mean(fold_vals)]], axis=0)\n",
    "        #plt.plot(fpr[label][()],tpr[label][()],\n",
    "        plt.plot(fpr_avgs, tpr_avgs,\n",
    "                 label=f'{label} (AUC = {np.mean(auc1[label][()]):.2f} (+- {np.std(auc1[label][()]):.4f})')\n",
    "    plt.plot([0, 1], [0, 1], lw=1, color='navy', linestyle='--')\n",
    "    plt.semilogx()\n",
    "    plt.ylabel(\"Signal Efficiency\")\n",
    "    plt.xlabel(\"Background Efficiency\")\n",
    "    plt.xlim([-0.05, 1.05])\n",
    "    plt.ylim(0.001,1.05)\n",
    "    plt.grid(True)\n",
    "    plt.legend(loc='lower right')\n",
    "    plt.figtext(0.25, 0.90,f'{name}',fontweight='bold', wrap=True, horizontalalignment='right', fontsize=10)\n",
    "    #plt.figtext(0.35, 0.90,'preliminary', style='italic', wrap=True, horizontalalignment='center', fontsize=14) \n",
    "    plt.savefig(f'{outdir}{name}_ROC.pdf')\n",
    "    plt.close()"
   ]
  },
  {
   "cell_type": "code",
   "execution_count": 27,
   "metadata": {
    "tags": []
   },
   "outputs": [
    {
     "output_type": "error",
     "ename": "KeyError",
     "evalue": "\"Unable to open object (object '1particle_9_fpr' doesn't exist)\"",
     "traceback": [
      "\u001b[1;31m---------------------------------------------------------------------------\u001b[0m",
      "\u001b[1;31mKeyError\u001b[0m                                  Traceback (most recent call last)",
      "\u001b[1;32m<ipython-input-27-18aeb45a0aed>\u001b[0m in \u001b[0;36m<module>\u001b[1;34m\u001b[0m\n\u001b[1;32m----> 1\u001b[1;33m \u001b[0mkfoldRoc\u001b[0m\u001b[1;33m(\u001b[0m\u001b[1;34mf'output/{args.name}.h5'\u001b[0m\u001b[1;33m,\u001b[0m \u001b[0mlabels\u001b[0m\u001b[1;33m)\u001b[0m\u001b[1;33m\u001b[0m\u001b[1;33m\u001b[0m\u001b[0m\n\u001b[0m",
      "\u001b[1;32m<ipython-input-26-ed4b72e72457>\u001b[0m in \u001b[0;36mkfoldRoc\u001b[1;34m(infile, labels)\u001b[0m\n\u001b[0;32m      7\u001b[0m         \u001b[1;32mfor\u001b[0m \u001b[0mlabel\u001b[0m \u001b[1;32min\u001b[0m \u001b[0mlabels\u001b[0m\u001b[1;33m:\u001b[0m\u001b[1;33m\u001b[0m\u001b[1;33m\u001b[0m\u001b[0m\n\u001b[0;32m      8\u001b[0m             \u001b[1;32mfor\u001b[0m \u001b[0mi\u001b[0m \u001b[1;32min\u001b[0m \u001b[0mrange\u001b[0m\u001b[1;33m(\u001b[0m\u001b[0mfold_no\u001b[0m\u001b[1;33m)\u001b[0m\u001b[1;33m:\u001b[0m\u001b[1;33m\u001b[0m\u001b[1;33m\u001b[0m\u001b[0m\n\u001b[1;32m----> 9\u001b[1;33m                 \u001b[0mfpr_list\u001b[0m\u001b[1;33m.\u001b[0m\u001b[0mappend\u001b[0m\u001b[1;33m(\u001b[0m\u001b[0mhfile\u001b[0m\u001b[1;33m[\u001b[0m\u001b[1;34mf'{label}_{i+1}_fpr'\u001b[0m\u001b[1;33m]\u001b[0m\u001b[1;33m[\u001b[0m\u001b[1;33m(\u001b[0m\u001b[1;33m)\u001b[0m\u001b[1;33m]\u001b[0m\u001b[1;33m)\u001b[0m\u001b[1;33m\u001b[0m\u001b[1;33m\u001b[0m\u001b[0m\n\u001b[0m\u001b[0;32m     10\u001b[0m                 \u001b[0mtpr_list\u001b[0m\u001b[1;33m.\u001b[0m\u001b[0mappend\u001b[0m\u001b[1;33m(\u001b[0m\u001b[0mhfile\u001b[0m\u001b[1;33m[\u001b[0m\u001b[1;34mf'{label}_{i+1}_tpr'\u001b[0m\u001b[1;33m]\u001b[0m\u001b[1;33m[\u001b[0m\u001b[1;33m(\u001b[0m\u001b[1;33m)\u001b[0m\u001b[1;33m]\u001b[0m\u001b[1;33m)\u001b[0m\u001b[1;33m\u001b[0m\u001b[1;33m\u001b[0m\u001b[0m\n\u001b[0;32m     11\u001b[0m                 \u001b[0mauc_list\u001b[0m\u001b[1;33m.\u001b[0m\u001b[0mappend\u001b[0m\u001b[1;33m(\u001b[0m\u001b[0mhfile\u001b[0m\u001b[1;33m[\u001b[0m\u001b[1;34mf'{label}_{i+1}_auc'\u001b[0m\u001b[1;33m]\u001b[0m\u001b[1;33m[\u001b[0m\u001b[1;33m(\u001b[0m\u001b[1;33m)\u001b[0m\u001b[1;33m]\u001b[0m\u001b[1;33m)\u001b[0m\u001b[1;33m\u001b[0m\u001b[1;33m\u001b[0m\u001b[0m\n",
      "\u001b[1;32mh5py\\_objects.pyx\u001b[0m in \u001b[0;36mh5py._objects.with_phil.wrapper\u001b[1;34m()\u001b[0m\n",
      "\u001b[1;32mh5py\\_objects.pyx\u001b[0m in \u001b[0;36mh5py._objects.with_phil.wrapper\u001b[1;34m()\u001b[0m\n",
      "\u001b[1;32m~\\Anaconda3\\envs\\EPE_ML_TF2\\lib\\site-packages\\h5py\\_hl\\group.py\u001b[0m in \u001b[0;36m__getitem__\u001b[1;34m(self, name)\u001b[0m\n\u001b[0;32m    262\u001b[0m                 \u001b[1;32mraise\u001b[0m \u001b[0mValueError\u001b[0m\u001b[1;33m(\u001b[0m\u001b[1;34m\"Invalid HDF5 object reference\"\u001b[0m\u001b[1;33m)\u001b[0m\u001b[1;33m\u001b[0m\u001b[1;33m\u001b[0m\u001b[0m\n\u001b[0;32m    263\u001b[0m         \u001b[1;32melse\u001b[0m\u001b[1;33m:\u001b[0m\u001b[1;33m\u001b[0m\u001b[1;33m\u001b[0m\u001b[0m\n\u001b[1;32m--> 264\u001b[1;33m             \u001b[0moid\u001b[0m \u001b[1;33m=\u001b[0m \u001b[0mh5o\u001b[0m\u001b[1;33m.\u001b[0m\u001b[0mopen\u001b[0m\u001b[1;33m(\u001b[0m\u001b[0mself\u001b[0m\u001b[1;33m.\u001b[0m\u001b[0mid\u001b[0m\u001b[1;33m,\u001b[0m \u001b[0mself\u001b[0m\u001b[1;33m.\u001b[0m\u001b[0m_e\u001b[0m\u001b[1;33m(\u001b[0m\u001b[0mname\u001b[0m\u001b[1;33m)\u001b[0m\u001b[1;33m,\u001b[0m \u001b[0mlapl\u001b[0m\u001b[1;33m=\u001b[0m\u001b[0mself\u001b[0m\u001b[1;33m.\u001b[0m\u001b[0m_lapl\u001b[0m\u001b[1;33m)\u001b[0m\u001b[1;33m\u001b[0m\u001b[1;33m\u001b[0m\u001b[0m\n\u001b[0m\u001b[0;32m    265\u001b[0m \u001b[1;33m\u001b[0m\u001b[0m\n\u001b[0;32m    266\u001b[0m         \u001b[0motype\u001b[0m \u001b[1;33m=\u001b[0m \u001b[0mh5i\u001b[0m\u001b[1;33m.\u001b[0m\u001b[0mget_type\u001b[0m\u001b[1;33m(\u001b[0m\u001b[0moid\u001b[0m\u001b[1;33m)\u001b[0m\u001b[1;33m\u001b[0m\u001b[1;33m\u001b[0m\u001b[0m\n",
      "\u001b[1;32mh5py\\_objects.pyx\u001b[0m in \u001b[0;36mh5py._objects.with_phil.wrapper\u001b[1;34m()\u001b[0m\n",
      "\u001b[1;32mh5py\\_objects.pyx\u001b[0m in \u001b[0;36mh5py._objects.with_phil.wrapper\u001b[1;34m()\u001b[0m\n",
      "\u001b[1;32mh5py\\h5o.pyx\u001b[0m in \u001b[0;36mh5py.h5o.open\u001b[1;34m()\u001b[0m\n",
      "\u001b[1;31mKeyError\u001b[0m: \"Unable to open object (object '1particle_9_fpr' doesn't exist)\""
     ]
    }
   ],
   "source": [
    "kfoldRoc(f'output/{args.name}.h5', labels)"
   ]
  },
  {
   "cell_type": "code",
   "execution_count": 21,
   "metadata": {
    "tags": []
   },
   "outputs": [
    {
     "output_type": "stream",
     "name": "stdout",
     "text": "---Average scores---\nScore per fold\nFold 1 - Loss: 0.0009 - Accuracy: 100.00%\nFold 2 - Loss: 0.0009 - Accuracy: 100.00%\nFold 3 - Loss: 0.0009 - Accuracy: 100.00%\nFold 4 - Loss: 0.0009 - Accuracy: 100.00%\nFold 5 - Loss: 0.0009 - Accuracy: 100.00%\nFold 6 - Loss: 0.0008 - Accuracy: 100.00%\nFold 7 - Loss: 0.0008 - Accuracy: 100.00%\nFold 8 - Loss: 0.0008 - Accuracy: 100.00%\nFold 9 - Loss: 0.0009 - Accuracy: 100.00%\nFold 10 - Loss: 0.0009 - Accuracy: 100.00%\n--------------------\nAverage scores for all folds:\nAccuracy: 100.00 (+- 0.0000)\nLoss: 0.0009 (+- 0.0000)\n---Average AUC------\nFold 1 - 1particle - AUC: nan\nFold 2 - 1particle - AUC: nan\nFold 3 - 1particle - AUC: nan\nFold 4 - 1particle - AUC: nan\nFold 5 - 1particle - AUC: nan\nFold 6 - 1particle - AUC: nan\nFold 7 - 1particle - AUC: nan\nFold 8 - 1particle - AUC: nan\nFold 1 - 2particle - AUC: nan\nFold 2 - 2particle - AUC: nan\nFold 3 - 2particle - AUC: nan\nFold 4 - 2particle - AUC: nan\nFold 5 - 2particle - AUC: nan\nFold 6 - 2particle - AUC: nan\nFold 7 - 2particle - AUC: nan\nFold 8 - 2particle - AUC: nan\nFold 1 - 3particle - AUC: nan\nFold 2 - 3particle - AUC: nan\nFold 3 - 3particle - AUC: nan\nFold 4 - 3particle - AUC: nan\nFold 5 - 3particle - AUC: nan\nFold 6 - 3particle - AUC: nan\nFold 7 - 3particle - AUC: nan\nFold 8 - 3particle - AUC: nan\n--------------------\nAverage AUC for all folds:\n1particle - AUC: nan (+- nan)\n2particle - AUC: nan (+- nan)\n3particle - AUC: nan (+- nan)\n"
    }
   ],
   "source": [
    "print('---Average scores---')\n",
    "print('Score per fold')\n",
    "for i in range(0,len(acc_per_fold)):\n",
    "    print(f'Fold {i+1} - Loss: {loss_per_fold[i]:.4f} - Accuracy: {acc_per_fold[i]:.2f}%')\n",
    "print('--------------------')\n",
    "print('Average scores for all folds:')\n",
    "print(f'Accuracy: {np.mean(acc_per_fold):.2f} (+- {np.std(acc_per_fold):.4f})')\n",
    "print(f'Loss: {np.mean(loss_per_fold):.4f} (+- {np.std(loss_per_fold):.4f})')\n",
    "print('---Average AUC------')\n",
    "for label in labels:\n",
    "    for i in range(fold_no-1):\n",
    "        print(f'Fold {i+1} - {label} - AUC: {auc1[label][i]*100:.2f}')\n",
    "        \n",
    "print('--------------------')\n",
    "print('Average AUC for all folds:')\n",
    "for label in labels:\n",
    "    print(f'{label} - AUC: {np.mean(auc1[label]):.2f} (+- {np.std(auc1[label]):.4f})')"
   ]
  },
  {
   "cell_type": "code",
   "execution_count": 125,
   "metadata": {},
   "outputs": [],
   "source": [
    "fpr_avgs = np.array([])\n",
    "for i in range(len(fpr_list[0])):\n",
    "    fold_vals = np.array([])\n",
    "    for k in range(fold_no-1):\n",
    "        fold_vals = fpr_list[k][i]\n",
    "    fpr_avgs = np.concatenate([fpr_avgs, [np.mean(fold_vals)]], axis=0)"
   ]
  },
  {
   "cell_type": "code",
   "execution_count": 10,
   "metadata": {},
   "outputs": [],
   "source": [
    "f = h5.File('roc_vals.h5', 'r')"
   ]
  },
  {
   "cell_type": "code",
   "execution_count": 11,
   "metadata": {},
   "outputs": [
    {
     "output_type": "execute_result",
     "data": {
      "text/plain": "<KeysViewHDF5 ['auc', 'fpr', 'tpr']>"
     },
     "metadata": {},
     "execution_count": 11
    }
   ],
   "source": [
    "f.keys()"
   ]
  },
  {
   "cell_type": "code",
   "execution_count": 59,
   "metadata": {
    "scrolled": true
   },
   "outputs": [
    {
     "data": {
      "text/plain": [
       "<KeysViewHDF5 ['1particle', '2particle', '3particle']>"
      ]
     },
     "execution_count": 59,
     "metadata": {},
     "output_type": "execute_result"
    }
   ],
   "source": [
    "f['auc'].keys()"
   ]
  },
  {
   "cell_type": "code",
   "execution_count": 86,
   "metadata": {
    "scrolled": true
   },
   "outputs": [
    {
     "data": {
      "text/plain": [
       "(2206934,)"
      ]
     },
     "execution_count": 86,
     "metadata": {},
     "output_type": "execute_result"
    }
   ],
   "source": [
    "f['fpr']['1particle'][()].shape"
   ]
  },
  {
   "cell_type": "code",
   "execution_count": 121,
   "metadata": {},
   "outputs": [],
   "source": [
    "fpr_list = list(chunks(f['fpr']['1particle'][()], int(f['fpr']['1particle'][()].shape[0]/10))) \n",
    "#should have saved fpr for each fold"
   ]
  },
  {
   "cell_type": "code",
   "execution_count": 123,
   "metadata": {},
   "outputs": [
    {
     "data": {
      "text/plain": [
       "0.007662695786454886"
      ]
     },
     "execution_count": 123,
     "metadata": {},
     "output_type": "execute_result"
    }
   ],
   "source": [
    "fpr_list[0][220000]"
   ]
  },
  {
   "cell_type": "code",
   "execution_count": 124,
   "metadata": {},
   "outputs": [
    {
     "data": {
      "text/plain": [
       "11"
      ]
     },
     "execution_count": 124,
     "metadata": {},
     "output_type": "execute_result"
    }
   ],
   "source": [
    "len(fpr_list)"
   ]
  },
  {
   "cell_type": "code",
   "execution_count": 131,
   "metadata": {},
   "outputs": [],
   "source": [
    "tpr_list = list(chunks(f['tpr']['1particle'][()], int(f['tpr']['1particle'][()].shape[0]/10)))"
   ]
  },
  {
   "cell_type": "code",
   "execution_count": 132,
   "metadata": {},
   "outputs": [],
   "source": [
    "tpr_avgs = np.array([])\n",
    "for i in range(len(tpr_list[0])):\n",
    "    fold_vals = np.array([])\n",
    "    for k in range(fold_no-1):\n",
    "        fold_vals = tpr_list[k][i]\n",
    "    tpr_avgs = np.concatenate([tpr_avgs, [np.mean(fold_vals)]], axis=0)"
   ]
  },
  {
   "cell_type": "code",
   "execution_count": 146,
   "metadata": {},
   "outputs": [
    {
     "name": "stderr",
     "output_type": "stream",
     "text": [
      "C:\\Users\\alexc\\AppData\\Roaming\\Python\\Python37\\site-packages\\ipykernel_launcher.py:4: UserWarning: Attempted to set non-positive left xlim on a log-scaled axis.\n",
      "Invalid limit will be ignored.\n",
      "  after removing the cwd from sys.path.\n",
      "[2020-07-06 11:01:05,825 DEBUG] vmin 2.379756798279619e-06 vmax 1.05\n",
      "[2020-07-06 11:01:05,825 DEBUG] ticklocs array([1.e-07, 1.e-06, 1.e-05, 1.e-04, 1.e-03, 1.e-02, 1.e-01, 1.e+00,\n",
      "       1.e+01, 1.e+02])\n",
      "[2020-07-06 11:01:05,837 DEBUG] vmin 2.379756798279619e-06 vmax 1.05\n",
      "[2020-07-06 11:01:05,838 DEBUG] ticklocs array([1.e-07, 1.e-06, 1.e-05, 1.e-04, 1.e-03, 1.e-02, 1.e-01, 1.e+00,\n",
      "       1.e+01, 1.e+02])\n",
      "[2020-07-06 11:01:05,841 DEBUG] vmin 2.379756798279619e-06 vmax 1.05\n",
      "[2020-07-06 11:01:05,842 DEBUG] ticklocs array([1.e-07, 1.e-06, 1.e-05, 1.e-04, 1.e-03, 1.e-02, 1.e-01, 1.e+00,\n",
      "       1.e+01, 1.e+02])\n",
      "[2020-07-06 11:01:05,844 DEBUG] vmin 2.379756798279619e-06 vmax 1.05\n",
      "[2020-07-06 11:01:05,845 DEBUG] ticklocs array([2.e-07, 3.e-07, 4.e-07, 5.e-07, 6.e-07, 7.e-07, 8.e-07, 9.e-07,\n",
      "       2.e-06, 3.e-06, 4.e-06, 5.e-06, 6.e-06, 7.e-06, 8.e-06, 9.e-06,\n",
      "       2.e-05, 3.e-05, 4.e-05, 5.e-05, 6.e-05, 7.e-05, 8.e-05, 9.e-05,\n",
      "       2.e-04, 3.e-04, 4.e-04, 5.e-04, 6.e-04, 7.e-04, 8.e-04, 9.e-04,\n",
      "       2.e-03, 3.e-03, 4.e-03, 5.e-03, 6.e-03, 7.e-03, 8.e-03, 9.e-03,\n",
      "       2.e-02, 3.e-02, 4.e-02, 5.e-02, 6.e-02, 7.e-02, 8.e-02, 9.e-02,\n",
      "       2.e-01, 3.e-01, 4.e-01, 5.e-01, 6.e-01, 7.e-01, 8.e-01, 9.e-01,\n",
      "       2.e+00, 3.e+00, 4.e+00, 5.e+00, 6.e+00, 7.e+00, 8.e+00, 9.e+00,\n",
      "       2.e+01, 3.e+01, 4.e+01, 5.e+01, 6.e+01, 7.e+01, 8.e+01, 9.e+01,\n",
      "       2.e+02, 3.e+02, 4.e+02, 5.e+02, 6.e+02, 7.e+02, 8.e+02, 9.e+02])\n",
      "[2020-07-06 11:01:05,956 DEBUG] vmin 2.379756798279619e-06 vmax 1.05\n",
      "[2020-07-06 11:01:05,957 DEBUG] ticklocs array([1.e-07, 1.e-06, 1.e-05, 1.e-04, 1.e-03, 1.e-02, 1.e-01, 1.e+00,\n",
      "       1.e+01, 1.e+02])\n",
      "[2020-07-06 11:01:05,958 DEBUG] vmin 2.379756798279619e-06 vmax 1.05\n",
      "[2020-07-06 11:01:05,959 DEBUG] ticklocs array([1.e-07, 1.e-06, 1.e-05, 1.e-04, 1.e-03, 1.e-02, 1.e-01, 1.e+00,\n",
      "       1.e+01, 1.e+02])\n",
      "[2020-07-06 11:01:05,961 DEBUG] vmin 2.379756798279619e-06 vmax 1.05\n",
      "[2020-07-06 11:01:05,961 DEBUG] ticklocs array([2.e-07, 3.e-07, 4.e-07, 5.e-07, 6.e-07, 7.e-07, 8.e-07, 9.e-07,\n",
      "       2.e-06, 3.e-06, 4.e-06, 5.e-06, 6.e-06, 7.e-06, 8.e-06, 9.e-06,\n",
      "       2.e-05, 3.e-05, 4.e-05, 5.e-05, 6.e-05, 7.e-05, 8.e-05, 9.e-05,\n",
      "       2.e-04, 3.e-04, 4.e-04, 5.e-04, 6.e-04, 7.e-04, 8.e-04, 9.e-04,\n",
      "       2.e-03, 3.e-03, 4.e-03, 5.e-03, 6.e-03, 7.e-03, 8.e-03, 9.e-03,\n",
      "       2.e-02, 3.e-02, 4.e-02, 5.e-02, 6.e-02, 7.e-02, 8.e-02, 9.e-02,\n",
      "       2.e-01, 3.e-01, 4.e-01, 5.e-01, 6.e-01, 7.e-01, 8.e-01, 9.e-01,\n",
      "       2.e+00, 3.e+00, 4.e+00, 5.e+00, 6.e+00, 7.e+00, 8.e+00, 9.e+00,\n",
      "       2.e+01, 3.e+01, 4.e+01, 5.e+01, 6.e+01, 7.e+01, 8.e+01, 9.e+01,\n",
      "       2.e+02, 3.e+02, 4.e+02, 5.e+02, 6.e+02, 7.e+02, 8.e+02, 9.e+02])\n",
      "[2020-07-06 11:01:06,014 DEBUG] vmin 2.379756798279619e-06 vmax 1.05\n",
      "[2020-07-06 11:01:06,015 DEBUG] ticklocs array([1.e-07, 1.e-06, 1.e-05, 1.e-04, 1.e-03, 1.e-02, 1.e-01, 1.e+00,\n",
      "       1.e+01, 1.e+02])\n",
      "[2020-07-06 11:01:06,017 DEBUG] vmin 2.379756798279619e-06 vmax 1.05\n",
      "[2020-07-06 11:01:06,018 DEBUG] ticklocs array([1.e-07, 1.e-06, 1.e-05, 1.e-04, 1.e-03, 1.e-02, 1.e-01, 1.e+00,\n",
      "       1.e+01, 1.e+02])\n",
      "[2020-07-06 11:01:06,019 DEBUG] vmin 2.379756798279619e-06 vmax 1.05\n",
      "[2020-07-06 11:01:06,020 DEBUG] ticklocs array([2.e-07, 3.e-07, 4.e-07, 5.e-07, 6.e-07, 7.e-07, 8.e-07, 9.e-07,\n",
      "       2.e-06, 3.e-06, 4.e-06, 5.e-06, 6.e-06, 7.e-06, 8.e-06, 9.e-06,\n",
      "       2.e-05, 3.e-05, 4.e-05, 5.e-05, 6.e-05, 7.e-05, 8.e-05, 9.e-05,\n",
      "       2.e-04, 3.e-04, 4.e-04, 5.e-04, 6.e-04, 7.e-04, 8.e-04, 9.e-04,\n",
      "       2.e-03, 3.e-03, 4.e-03, 5.e-03, 6.e-03, 7.e-03, 8.e-03, 9.e-03,\n",
      "       2.e-02, 3.e-02, 4.e-02, 5.e-02, 6.e-02, 7.e-02, 8.e-02, 9.e-02,\n",
      "       2.e-01, 3.e-01, 4.e-01, 5.e-01, 6.e-01, 7.e-01, 8.e-01, 9.e-01,\n",
      "       2.e+00, 3.e+00, 4.e+00, 5.e+00, 6.e+00, 7.e+00, 8.e+00, 9.e+00,\n",
      "       2.e+01, 3.e+01, 4.e+01, 5.e+01, 6.e+01, 7.e+01, 8.e+01, 9.e+01,\n",
      "       2.e+02, 3.e+02, 4.e+02, 5.e+02, 6.e+02, 7.e+02, 8.e+02, 9.e+02])\n",
      "[2020-07-06 11:01:06,030 DEBUG] vmin 2.379756798279619e-06 vmax 1.05\n",
      "[2020-07-06 11:01:06,030 DEBUG] ticklocs array([1.e-07, 1.e-06, 1.e-05, 1.e-04, 1.e-03, 1.e-02, 1.e-01, 1.e+00,\n",
      "       1.e+01, 1.e+02])\n",
      "[2020-07-06 11:01:06,032 DEBUG] vmin 2.379756798279619e-06 vmax 1.05\n",
      "[2020-07-06 11:01:06,032 DEBUG] ticklocs array([1.e-07, 1.e-06, 1.e-05, 1.e-04, 1.e-03, 1.e-02, 1.e-01, 1.e+00,\n",
      "       1.e+01, 1.e+02])\n",
      "[2020-07-06 11:01:06,034 DEBUG] vmin 2.379756798279619e-06 vmax 1.05\n",
      "[2020-07-06 11:01:06,035 DEBUG] ticklocs array([2.e-07, 3.e-07, 4.e-07, 5.e-07, 6.e-07, 7.e-07, 8.e-07, 9.e-07,\n",
      "       2.e-06, 3.e-06, 4.e-06, 5.e-06, 6.e-06, 7.e-06, 8.e-06, 9.e-06,\n",
      "       2.e-05, 3.e-05, 4.e-05, 5.e-05, 6.e-05, 7.e-05, 8.e-05, 9.e-05,\n",
      "       2.e-04, 3.e-04, 4.e-04, 5.e-04, 6.e-04, 7.e-04, 8.e-04, 9.e-04,\n",
      "       2.e-03, 3.e-03, 4.e-03, 5.e-03, 6.e-03, 7.e-03, 8.e-03, 9.e-03,\n",
      "       2.e-02, 3.e-02, 4.e-02, 5.e-02, 6.e-02, 7.e-02, 8.e-02, 9.e-02,\n",
      "       2.e-01, 3.e-01, 4.e-01, 5.e-01, 6.e-01, 7.e-01, 8.e-01, 9.e-01,\n",
      "       2.e+00, 3.e+00, 4.e+00, 5.e+00, 6.e+00, 7.e+00, 8.e+00, 9.e+00,\n",
      "       2.e+01, 3.e+01, 4.e+01, 5.e+01, 6.e+01, 7.e+01, 8.e+01, 9.e+01,\n",
      "       2.e+02, 3.e+02, 4.e+02, 5.e+02, 6.e+02, 7.e+02, 8.e+02, 9.e+02])\n",
      "[2020-07-06 11:01:06,072 DEBUG] vmin 2.379756798279619e-06 vmax 1.05\n",
      "[2020-07-06 11:01:06,073 DEBUG] ticklocs array([1.e-07, 1.e-06, 1.e-05, 1.e-04, 1.e-03, 1.e-02, 1.e-01, 1.e+00,\n",
      "       1.e+01, 1.e+02])\n",
      "[2020-07-06 11:01:06,076 DEBUG] vmin 2.379756798279619e-06 vmax 1.05\n",
      "[2020-07-06 11:01:06,076 DEBUG] ticklocs array([1.e-07, 1.e-06, 1.e-05, 1.e-04, 1.e-03, 1.e-02, 1.e-01, 1.e+00,\n",
      "       1.e+01, 1.e+02])\n",
      "[2020-07-06 11:01:06,077 DEBUG] vmin 2.379756798279619e-06 vmax 1.05\n",
      "[2020-07-06 11:01:06,078 DEBUG] ticklocs array([2.e-07, 3.e-07, 4.e-07, 5.e-07, 6.e-07, 7.e-07, 8.e-07, 9.e-07,\n",
      "       2.e-06, 3.e-06, 4.e-06, 5.e-06, 6.e-06, 7.e-06, 8.e-06, 9.e-06,\n",
      "       2.e-05, 3.e-05, 4.e-05, 5.e-05, 6.e-05, 7.e-05, 8.e-05, 9.e-05,\n",
      "       2.e-04, 3.e-04, 4.e-04, 5.e-04, 6.e-04, 7.e-04, 8.e-04, 9.e-04,\n",
      "       2.e-03, 3.e-03, 4.e-03, 5.e-03, 6.e-03, 7.e-03, 8.e-03, 9.e-03,\n",
      "       2.e-02, 3.e-02, 4.e-02, 5.e-02, 6.e-02, 7.e-02, 8.e-02, 9.e-02,\n",
      "       2.e-01, 3.e-01, 4.e-01, 5.e-01, 6.e-01, 7.e-01, 8.e-01, 9.e-01,\n",
      "       2.e+00, 3.e+00, 4.e+00, 5.e+00, 6.e+00, 7.e+00, 8.e+00, 9.e+00,\n",
      "       2.e+01, 3.e+01, 4.e+01, 5.e+01, 6.e+01, 7.e+01, 8.e+01, 9.e+01,\n",
      "       2.e+02, 3.e+02, 4.e+02, 5.e+02, 6.e+02, 7.e+02, 8.e+02, 9.e+02])\n",
      "[2020-07-06 11:01:06,088 DEBUG] vmin 2.379756798279619e-06 vmax 1.05\n",
      "[2020-07-06 11:01:06,088 DEBUG] ticklocs array([1.e-07, 1.e-06, 1.e-05, 1.e-04, 1.e-03, 1.e-02, 1.e-01, 1.e+00,\n",
      "       1.e+01, 1.e+02])\n",
      "[2020-07-06 11:01:06,090 DEBUG] vmin 2.379756798279619e-06 vmax 1.05\n",
      "[2020-07-06 11:01:06,091 DEBUG] ticklocs array([1.e-07, 1.e-06, 1.e-05, 1.e-04, 1.e-03, 1.e-02, 1.e-01, 1.e+00,\n",
      "       1.e+01, 1.e+02])\n",
      "[2020-07-06 11:01:06,092 DEBUG] vmin 2.379756798279619e-06 vmax 1.05\n",
      "[2020-07-06 11:01:06,093 DEBUG] ticklocs array([2.e-07, 3.e-07, 4.e-07, 5.e-07, 6.e-07, 7.e-07, 8.e-07, 9.e-07,\n",
      "       2.e-06, 3.e-06, 4.e-06, 5.e-06, 6.e-06, 7.e-06, 8.e-06, 9.e-06,\n",
      "       2.e-05, 3.e-05, 4.e-05, 5.e-05, 6.e-05, 7.e-05, 8.e-05, 9.e-05,\n",
      "       2.e-04, 3.e-04, 4.e-04, 5.e-04, 6.e-04, 7.e-04, 8.e-04, 9.e-04,\n",
      "       2.e-03, 3.e-03, 4.e-03, 5.e-03, 6.e-03, 7.e-03, 8.e-03, 9.e-03,\n",
      "       2.e-02, 3.e-02, 4.e-02, 5.e-02, 6.e-02, 7.e-02, 8.e-02, 9.e-02,\n",
      "       2.e-01, 3.e-01, 4.e-01, 5.e-01, 6.e-01, 7.e-01, 8.e-01, 9.e-01,\n",
      "       2.e+00, 3.e+00, 4.e+00, 5.e+00, 6.e+00, 7.e+00, 8.e+00, 9.e+00,\n",
      "       2.e+01, 3.e+01, 4.e+01, 5.e+01, 6.e+01, 7.e+01, 8.e+01, 9.e+01,\n",
      "       2.e+02, 3.e+02, 4.e+02, 5.e+02, 6.e+02, 7.e+02, 8.e+02, 9.e+02])\n",
      "[2020-07-06 11:01:06,130 DEBUG] vmin 2.379756798279619e-06 vmax 1.05\n",
      "[2020-07-06 11:01:06,131 DEBUG] ticklocs array([1.e-07, 1.e-06, 1.e-05, 1.e-04, 1.e-03, 1.e-02, 1.e-01, 1.e+00,\n",
      "       1.e+01, 1.e+02])\n",
      "[2020-07-06 11:01:06,134 DEBUG] vmin 2.379756798279619e-06 vmax 1.05\n",
      "[2020-07-06 11:01:06,134 DEBUG] ticklocs array([1.e-07, 1.e-06, 1.e-05, 1.e-04, 1.e-03, 1.e-02, 1.e-01, 1.e+00,\n",
      "       1.e+01, 1.e+02])\n"
     ]
    },
    {
     "name": "stderr",
     "output_type": "stream",
     "text": [
      "[2020-07-06 11:01:06,136 DEBUG] vmin 2.379756798279619e-06 vmax 1.05\n",
      "[2020-07-06 11:01:06,137 DEBUG] ticklocs array([2.e-07, 3.e-07, 4.e-07, 5.e-07, 6.e-07, 7.e-07, 8.e-07, 9.e-07,\n",
      "       2.e-06, 3.e-06, 4.e-06, 5.e-06, 6.e-06, 7.e-06, 8.e-06, 9.e-06,\n",
      "       2.e-05, 3.e-05, 4.e-05, 5.e-05, 6.e-05, 7.e-05, 8.e-05, 9.e-05,\n",
      "       2.e-04, 3.e-04, 4.e-04, 5.e-04, 6.e-04, 7.e-04, 8.e-04, 9.e-04,\n",
      "       2.e-03, 3.e-03, 4.e-03, 5.e-03, 6.e-03, 7.e-03, 8.e-03, 9.e-03,\n",
      "       2.e-02, 3.e-02, 4.e-02, 5.e-02, 6.e-02, 7.e-02, 8.e-02, 9.e-02,\n",
      "       2.e-01, 3.e-01, 4.e-01, 5.e-01, 6.e-01, 7.e-01, 8.e-01, 9.e-01,\n",
      "       2.e+00, 3.e+00, 4.e+00, 5.e+00, 6.e+00, 7.e+00, 8.e+00, 9.e+00,\n",
      "       2.e+01, 3.e+01, 4.e+01, 5.e+01, 6.e+01, 7.e+01, 8.e+01, 9.e+01,\n",
      "       2.e+02, 3.e+02, 4.e+02, 5.e+02, 6.e+02, 7.e+02, 8.e+02, 9.e+02])\n",
      "[2020-07-06 11:01:06,146 DEBUG] vmin 2.379756798279619e-06 vmax 1.05\n",
      "[2020-07-06 11:01:06,147 DEBUG] ticklocs array([1.e-07, 1.e-06, 1.e-05, 1.e-04, 1.e-03, 1.e-02, 1.e-01, 1.e+00,\n",
      "       1.e+01, 1.e+02])\n",
      "[2020-07-06 11:01:06,149 DEBUG] vmin 2.379756798279619e-06 vmax 1.05\n",
      "[2020-07-06 11:01:06,149 DEBUG] ticklocs array([1.e-07, 1.e-06, 1.e-05, 1.e-04, 1.e-03, 1.e-02, 1.e-01, 1.e+00,\n",
      "       1.e+01, 1.e+02])\n",
      "[2020-07-06 11:01:06,151 DEBUG] vmin 2.379756798279619e-06 vmax 1.05\n",
      "[2020-07-06 11:01:06,151 DEBUG] ticklocs array([2.e-07, 3.e-07, 4.e-07, 5.e-07, 6.e-07, 7.e-07, 8.e-07, 9.e-07,\n",
      "       2.e-06, 3.e-06, 4.e-06, 5.e-06, 6.e-06, 7.e-06, 8.e-06, 9.e-06,\n",
      "       2.e-05, 3.e-05, 4.e-05, 5.e-05, 6.e-05, 7.e-05, 8.e-05, 9.e-05,\n",
      "       2.e-04, 3.e-04, 4.e-04, 5.e-04, 6.e-04, 7.e-04, 8.e-04, 9.e-04,\n",
      "       2.e-03, 3.e-03, 4.e-03, 5.e-03, 6.e-03, 7.e-03, 8.e-03, 9.e-03,\n",
      "       2.e-02, 3.e-02, 4.e-02, 5.e-02, 6.e-02, 7.e-02, 8.e-02, 9.e-02,\n",
      "       2.e-01, 3.e-01, 4.e-01, 5.e-01, 6.e-01, 7.e-01, 8.e-01, 9.e-01,\n",
      "       2.e+00, 3.e+00, 4.e+00, 5.e+00, 6.e+00, 7.e+00, 8.e+00, 9.e+00,\n",
      "       2.e+01, 3.e+01, 4.e+01, 5.e+01, 6.e+01, 7.e+01, 8.e+01, 9.e+01,\n",
      "       2.e+02, 3.e+02, 4.e+02, 5.e+02, 6.e+02, 7.e+02, 8.e+02, 9.e+02])\n",
      "[2020-07-06 11:01:06,178 DEBUG] vmin 2.379756798279619e-06 vmax 1.05\n",
      "[2020-07-06 11:01:06,179 DEBUG] ticklocs array([1.e-07, 1.e-06, 1.e-05, 1.e-04, 1.e-03, 1.e-02, 1.e-01, 1.e+00,\n",
      "       1.e+01, 1.e+02])\n",
      "[2020-07-06 11:01:06,181 DEBUG] vmin 2.379756798279619e-06 vmax 1.05\n",
      "[2020-07-06 11:01:06,181 DEBUG] ticklocs array([1.e-07, 1.e-06, 1.e-05, 1.e-04, 1.e-03, 1.e-02, 1.e-01, 1.e+00,\n",
      "       1.e+01, 1.e+02])\n",
      "[2020-07-06 11:01:06,184 DEBUG] vmin 2.379756798279619e-06 vmax 1.05\n",
      "[2020-07-06 11:01:06,185 DEBUG] ticklocs array([2.e-07, 3.e-07, 4.e-07, 5.e-07, 6.e-07, 7.e-07, 8.e-07, 9.e-07,\n",
      "       2.e-06, 3.e-06, 4.e-06, 5.e-06, 6.e-06, 7.e-06, 8.e-06, 9.e-06,\n",
      "       2.e-05, 3.e-05, 4.e-05, 5.e-05, 6.e-05, 7.e-05, 8.e-05, 9.e-05,\n",
      "       2.e-04, 3.e-04, 4.e-04, 5.e-04, 6.e-04, 7.e-04, 8.e-04, 9.e-04,\n",
      "       2.e-03, 3.e-03, 4.e-03, 5.e-03, 6.e-03, 7.e-03, 8.e-03, 9.e-03,\n",
      "       2.e-02, 3.e-02, 4.e-02, 5.e-02, 6.e-02, 7.e-02, 8.e-02, 9.e-02,\n",
      "       2.e-01, 3.e-01, 4.e-01, 5.e-01, 6.e-01, 7.e-01, 8.e-01, 9.e-01,\n",
      "       2.e+00, 3.e+00, 4.e+00, 5.e+00, 6.e+00, 7.e+00, 8.e+00, 9.e+00,\n",
      "       2.e+01, 3.e+01, 4.e+01, 5.e+01, 6.e+01, 7.e+01, 8.e+01, 9.e+01,\n",
      "       2.e+02, 3.e+02, 4.e+02, 5.e+02, 6.e+02, 7.e+02, 8.e+02, 9.e+02])\n",
      "[2020-07-06 11:01:06,194 DEBUG] vmin 2.379756798279619e-06 vmax 1.05\n",
      "[2020-07-06 11:01:06,195 DEBUG] ticklocs array([1.e-07, 1.e-06, 1.e-05, 1.e-04, 1.e-03, 1.e-02, 1.e-01, 1.e+00,\n",
      "       1.e+01, 1.e+02])\n",
      "[2020-07-06 11:01:06,197 DEBUG] vmin 2.379756798279619e-06 vmax 1.05\n",
      "[2020-07-06 11:01:06,198 DEBUG] ticklocs array([1.e-07, 1.e-06, 1.e-05, 1.e-04, 1.e-03, 1.e-02, 1.e-01, 1.e+00,\n",
      "       1.e+01, 1.e+02])\n",
      "[2020-07-06 11:01:06,199 DEBUG] vmin 2.379756798279619e-06 vmax 1.05\n",
      "[2020-07-06 11:01:06,200 DEBUG] ticklocs array([2.e-07, 3.e-07, 4.e-07, 5.e-07, 6.e-07, 7.e-07, 8.e-07, 9.e-07,\n",
      "       2.e-06, 3.e-06, 4.e-06, 5.e-06, 6.e-06, 7.e-06, 8.e-06, 9.e-06,\n",
      "       2.e-05, 3.e-05, 4.e-05, 5.e-05, 6.e-05, 7.e-05, 8.e-05, 9.e-05,\n",
      "       2.e-04, 3.e-04, 4.e-04, 5.e-04, 6.e-04, 7.e-04, 8.e-04, 9.e-04,\n",
      "       2.e-03, 3.e-03, 4.e-03, 5.e-03, 6.e-03, 7.e-03, 8.e-03, 9.e-03,\n",
      "       2.e-02, 3.e-02, 4.e-02, 5.e-02, 6.e-02, 7.e-02, 8.e-02, 9.e-02,\n",
      "       2.e-01, 3.e-01, 4.e-01, 5.e-01, 6.e-01, 7.e-01, 8.e-01, 9.e-01,\n",
      "       2.e+00, 3.e+00, 4.e+00, 5.e+00, 6.e+00, 7.e+00, 8.e+00, 9.e+00,\n",
      "       2.e+01, 3.e+01, 4.e+01, 5.e+01, 6.e+01, 7.e+01, 8.e+01, 9.e+01,\n",
      "       2.e+02, 3.e+02, 4.e+02, 5.e+02, 6.e+02, 7.e+02, 8.e+02, 9.e+02])\n",
      "[2020-07-06 11:01:06,238 DEBUG] vmin 2.379756798279619e-06 vmax 1.05\n",
      "[2020-07-06 11:01:06,239 DEBUG] ticklocs array([1.e-07, 1.e-06, 1.e-05, 1.e-04, 1.e-03, 1.e-02, 1.e-01, 1.e+00,\n",
      "       1.e+01, 1.e+02])\n",
      "[2020-07-06 11:01:06,241 DEBUG] vmin 2.379756798279619e-06 vmax 1.05\n",
      "[2020-07-06 11:01:06,242 DEBUG] ticklocs array([1.e-07, 1.e-06, 1.e-05, 1.e-04, 1.e-03, 1.e-02, 1.e-01, 1.e+00,\n",
      "       1.e+01, 1.e+02])\n",
      "[2020-07-06 11:01:06,243 DEBUG] vmin 2.379756798279619e-06 vmax 1.05\n",
      "[2020-07-06 11:01:06,244 DEBUG] ticklocs array([2.e-07, 3.e-07, 4.e-07, 5.e-07, 6.e-07, 7.e-07, 8.e-07, 9.e-07,\n",
      "       2.e-06, 3.e-06, 4.e-06, 5.e-06, 6.e-06, 7.e-06, 8.e-06, 9.e-06,\n",
      "       2.e-05, 3.e-05, 4.e-05, 5.e-05, 6.e-05, 7.e-05, 8.e-05, 9.e-05,\n",
      "       2.e-04, 3.e-04, 4.e-04, 5.e-04, 6.e-04, 7.e-04, 8.e-04, 9.e-04,\n",
      "       2.e-03, 3.e-03, 4.e-03, 5.e-03, 6.e-03, 7.e-03, 8.e-03, 9.e-03,\n",
      "       2.e-02, 3.e-02, 4.e-02, 5.e-02, 6.e-02, 7.e-02, 8.e-02, 9.e-02,\n",
      "       2.e-01, 3.e-01, 4.e-01, 5.e-01, 6.e-01, 7.e-01, 8.e-01, 9.e-01,\n",
      "       2.e+00, 3.e+00, 4.e+00, 5.e+00, 6.e+00, 7.e+00, 8.e+00, 9.e+00,\n",
      "       2.e+01, 3.e+01, 4.e+01, 5.e+01, 6.e+01, 7.e+01, 8.e+01, 9.e+01,\n",
      "       2.e+02, 3.e+02, 4.e+02, 5.e+02, 6.e+02, 7.e+02, 8.e+02, 9.e+02])\n",
      "[2020-07-06 11:01:06,253 DEBUG] vmin 2.379756798279619e-06 vmax 1.05\n",
      "[2020-07-06 11:01:06,254 DEBUG] ticklocs array([1.e-07, 1.e-06, 1.e-05, 1.e-04, 1.e-03, 1.e-02, 1.e-01, 1.e+00,\n",
      "       1.e+01, 1.e+02])\n",
      "[2020-07-06 11:01:06,256 DEBUG] vmin 2.379756798279619e-06 vmax 1.05\n",
      "[2020-07-06 11:01:06,257 DEBUG] ticklocs array([1.e-07, 1.e-06, 1.e-05, 1.e-04, 1.e-03, 1.e-02, 1.e-01, 1.e+00,\n",
      "       1.e+01, 1.e+02])\n",
      "[2020-07-06 11:01:06,258 DEBUG] vmin 2.379756798279619e-06 vmax 1.05\n",
      "[2020-07-06 11:01:06,259 DEBUG] ticklocs array([2.e-07, 3.e-07, 4.e-07, 5.e-07, 6.e-07, 7.e-07, 8.e-07, 9.e-07,\n",
      "       2.e-06, 3.e-06, 4.e-06, 5.e-06, 6.e-06, 7.e-06, 8.e-06, 9.e-06,\n",
      "       2.e-05, 3.e-05, 4.e-05, 5.e-05, 6.e-05, 7.e-05, 8.e-05, 9.e-05,\n",
      "       2.e-04, 3.e-04, 4.e-04, 5.e-04, 6.e-04, 7.e-04, 8.e-04, 9.e-04,\n",
      "       2.e-03, 3.e-03, 4.e-03, 5.e-03, 6.e-03, 7.e-03, 8.e-03, 9.e-03,\n",
      "       2.e-02, 3.e-02, 4.e-02, 5.e-02, 6.e-02, 7.e-02, 8.e-02, 9.e-02,\n",
      "       2.e-01, 3.e-01, 4.e-01, 5.e-01, 6.e-01, 7.e-01, 8.e-01, 9.e-01,\n",
      "       2.e+00, 3.e+00, 4.e+00, 5.e+00, 6.e+00, 7.e+00, 8.e+00, 9.e+00,\n",
      "       2.e+01, 3.e+01, 4.e+01, 5.e+01, 6.e+01, 7.e+01, 8.e+01, 9.e+01,\n",
      "       2.e+02, 3.e+02, 4.e+02, 5.e+02, 6.e+02, 7.e+02, 8.e+02, 9.e+02])\n",
      "[2020-07-06 11:01:06,290 DEBUG] vmin 2.379756798279619e-06 vmax 1.05\n",
      "[2020-07-06 11:01:06,290 DEBUG] ticklocs array([1.e-07, 1.e-06, 1.e-05, 1.e-04, 1.e-03, 1.e-02, 1.e-01, 1.e+00,\n",
      "       1.e+01, 1.e+02])\n",
      "[2020-07-06 11:01:06,292 DEBUG] vmin 2.379756798279619e-06 vmax 1.05\n",
      "[2020-07-06 11:01:06,293 DEBUG] ticklocs array([1.e-07, 1.e-06, 1.e-05, 1.e-04, 1.e-03, 1.e-02, 1.e-01, 1.e+00,\n",
      "       1.e+01, 1.e+02])\n",
      "[2020-07-06 11:01:06,294 DEBUG] vmin 2.379756798279619e-06 vmax 1.05\n",
      "[2020-07-06 11:01:06,294 DEBUG] ticklocs array([2.e-07, 3.e-07, 4.e-07, 5.e-07, 6.e-07, 7.e-07, 8.e-07, 9.e-07,\n",
      "       2.e-06, 3.e-06, 4.e-06, 5.e-06, 6.e-06, 7.e-06, 8.e-06, 9.e-06,\n",
      "       2.e-05, 3.e-05, 4.e-05, 5.e-05, 6.e-05, 7.e-05, 8.e-05, 9.e-05,\n",
      "       2.e-04, 3.e-04, 4.e-04, 5.e-04, 6.e-04, 7.e-04, 8.e-04, 9.e-04,\n",
      "       2.e-03, 3.e-03, 4.e-03, 5.e-03, 6.e-03, 7.e-03, 8.e-03, 9.e-03,\n",
      "       2.e-02, 3.e-02, 4.e-02, 5.e-02, 6.e-02, 7.e-02, 8.e-02, 9.e-02,\n",
      "       2.e-01, 3.e-01, 4.e-01, 5.e-01, 6.e-01, 7.e-01, 8.e-01, 9.e-01,\n",
      "       2.e+00, 3.e+00, 4.e+00, 5.e+00, 6.e+00, 7.e+00, 8.e+00, 9.e+00,\n",
      "       2.e+01, 3.e+01, 4.e+01, 5.e+01, 6.e+01, 7.e+01, 8.e+01, 9.e+01,\n",
      "       2.e+02, 3.e+02, 4.e+02, 5.e+02, 6.e+02, 7.e+02, 8.e+02, 9.e+02])\n"
     ]
    },
    {
     "name": "stderr",
     "output_type": "stream",
     "text": [
      "[2020-07-06 11:01:06,359 DEBUG] vmin 2.379756798279619e-06 vmax 1.05\n",
      "[2020-07-06 11:01:06,359 DEBUG] ticklocs array([1.e-07, 1.e-06, 1.e-05, 1.e-04, 1.e-03, 1.e-02, 1.e-01, 1.e+00,\n",
      "       1.e+01, 1.e+02])\n",
      "[2020-07-06 11:01:06,361 DEBUG] vmin 2.379756798279619e-06 vmax 1.05\n",
      "[2020-07-06 11:01:06,362 DEBUG] ticklocs array([1.e-07, 1.e-06, 1.e-05, 1.e-04, 1.e-03, 1.e-02, 1.e-01, 1.e+00,\n",
      "       1.e+01, 1.e+02])\n",
      "[2020-07-06 11:01:06,363 DEBUG] vmin 2.379756798279619e-06 vmax 1.05\n",
      "[2020-07-06 11:01:06,364 DEBUG] ticklocs array([2.e-07, 3.e-07, 4.e-07, 5.e-07, 6.e-07, 7.e-07, 8.e-07, 9.e-07,\n",
      "       2.e-06, 3.e-06, 4.e-06, 5.e-06, 6.e-06, 7.e-06, 8.e-06, 9.e-06,\n",
      "       2.e-05, 3.e-05, 4.e-05, 5.e-05, 6.e-05, 7.e-05, 8.e-05, 9.e-05,\n",
      "       2.e-04, 3.e-04, 4.e-04, 5.e-04, 6.e-04, 7.e-04, 8.e-04, 9.e-04,\n",
      "       2.e-03, 3.e-03, 4.e-03, 5.e-03, 6.e-03, 7.e-03, 8.e-03, 9.e-03,\n",
      "       2.e-02, 3.e-02, 4.e-02, 5.e-02, 6.e-02, 7.e-02, 8.e-02, 9.e-02,\n",
      "       2.e-01, 3.e-01, 4.e-01, 5.e-01, 6.e-01, 7.e-01, 8.e-01, 9.e-01,\n",
      "       2.e+00, 3.e+00, 4.e+00, 5.e+00, 6.e+00, 7.e+00, 8.e+00, 9.e+00,\n",
      "       2.e+01, 3.e+01, 4.e+01, 5.e+01, 6.e+01, 7.e+01, 8.e+01, 9.e+01,\n",
      "       2.e+02, 3.e+02, 4.e+02, 5.e+02, 6.e+02, 7.e+02, 8.e+02, 9.e+02])\n"
     ]
    },
    {
     "data": {
      "image/png": "[encoded data removed]",
      "text/plain": [
       "<Figure size 432x288 with 1 Axes>"
      ]
     },
     "metadata": {
      "needs_background": "light"
     },
     "output_type": "display_data"
    }
   ],
   "source": [
    "plt.figure()\n",
    "plt.plot(fpr_avgs, tpr_avgs)\n",
    "plt.semilogx()\n",
    "plt.xlim([-0.05, 1.05])\n",
    "plt.ylim(0.001,1.05)\n",
    "plt.show()\n",
    "plt.close()"
   ]
  },
  {
   "cell_type": "code",
   "execution_count": 160,
   "metadata": {
    "scrolled": false
   },
   "outputs": [
    {
     "ename": "KeyboardInterrupt",
     "evalue": "",
     "output_type": "error",
     "traceback": [
      "\u001b[1;31m---------------------------------------------------------------------------\u001b[0m",
      "\u001b[1;31mKeyboardInterrupt\u001b[0m                         Traceback (most recent call last)",
      "\u001b[1;32m<ipython-input-160-23515b8f0e11>\u001b[0m in \u001b[0;36m<module>\u001b[1;34m\u001b[0m\n\u001b[1;32m----> 1\u001b[1;33m \u001b[0mkfoldRoc\u001b[0m\u001b[1;33m(\u001b[0m\u001b[0mf\u001b[0m\u001b[1;33m[\u001b[0m\u001b[1;34m'fpr'\u001b[0m\u001b[1;33m]\u001b[0m\u001b[1;33m,\u001b[0m \u001b[0mf\u001b[0m\u001b[1;33m[\u001b[0m\u001b[1;34m'tpr'\u001b[0m\u001b[1;33m]\u001b[0m\u001b[1;33m,\u001b[0m \u001b[0mf\u001b[0m\u001b[1;33m[\u001b[0m\u001b[1;34m'auc'\u001b[0m\u001b[1;33m]\u001b[0m\u001b[1;33m,\u001b[0m \u001b[0mlabels\u001b[0m\u001b[1;33m=\u001b[0m\u001b[0mlabels\u001b[0m\u001b[1;33m,\u001b[0m \u001b[0mname\u001b[0m\u001b[1;33m=\u001b[0m\u001b[1;34m'K-Fold_20_Epochs'\u001b[0m\u001b[1;33m,\u001b[0m \u001b[0moutdir\u001b[0m \u001b[1;33m=\u001b[0m \u001b[1;34m'output/'\u001b[0m\u001b[1;33m)\u001b[0m\u001b[1;33m\u001b[0m\u001b[1;33m\u001b[0m\u001b[0m\n\u001b[0m",
      "\u001b[1;32m<ipython-input-159-5b8838556d42>\u001b[0m in \u001b[0;36mkfoldRoc\u001b[1;34m(fpr, tpr, auc, labels, name, outdir)\u001b[0m\n\u001b[0;32m     12\u001b[0m                 \u001b[0mfpr_vals\u001b[0m \u001b[1;33m=\u001b[0m \u001b[0mfpr_list\u001b[0m\u001b[1;33m[\u001b[0m\u001b[0mk\u001b[0m\u001b[1;33m]\u001b[0m\u001b[1;33m[\u001b[0m\u001b[0mi\u001b[0m\u001b[1;33m]\u001b[0m\u001b[1;33m\u001b[0m\u001b[1;33m\u001b[0m\u001b[0m\n\u001b[0;32m     13\u001b[0m                 \u001b[0mtpr_vals\u001b[0m \u001b[1;33m=\u001b[0m \u001b[0mtpr_list\u001b[0m\u001b[1;33m[\u001b[0m\u001b[0mk\u001b[0m\u001b[1;33m]\u001b[0m\u001b[1;33m[\u001b[0m\u001b[0mi\u001b[0m\u001b[1;33m]\u001b[0m\u001b[1;33m\u001b[0m\u001b[1;33m\u001b[0m\u001b[0m\n\u001b[1;32m---> 14\u001b[1;33m             \u001b[0mfpr_avgs\u001b[0m \u001b[1;33m=\u001b[0m \u001b[0mnp\u001b[0m\u001b[1;33m.\u001b[0m\u001b[0mconcatenate\u001b[0m\u001b[1;33m(\u001b[0m\u001b[1;33m[\u001b[0m\u001b[0mfpr_avgs\u001b[0m\u001b[1;33m,\u001b[0m \u001b[1;33m[\u001b[0m\u001b[0mnp\u001b[0m\u001b[1;33m.\u001b[0m\u001b[0mmean\u001b[0m\u001b[1;33m(\u001b[0m\u001b[0mfold_vals\u001b[0m\u001b[1;33m)\u001b[0m\u001b[1;33m]\u001b[0m\u001b[1;33m]\u001b[0m\u001b[1;33m,\u001b[0m \u001b[0maxis\u001b[0m\u001b[1;33m=\u001b[0m\u001b[1;36m0\u001b[0m\u001b[1;33m)\u001b[0m\u001b[1;33m\u001b[0m\u001b[1;33m\u001b[0m\u001b[0m\n\u001b[0m\u001b[0;32m     15\u001b[0m             \u001b[0mtpr_avgs\u001b[0m \u001b[1;33m=\u001b[0m \u001b[0mnp\u001b[0m\u001b[1;33m.\u001b[0m\u001b[0mconcatenate\u001b[0m\u001b[1;33m(\u001b[0m\u001b[1;33m[\u001b[0m\u001b[0mtpr_avgs\u001b[0m\u001b[1;33m,\u001b[0m \u001b[1;33m[\u001b[0m\u001b[0mnp\u001b[0m\u001b[1;33m.\u001b[0m\u001b[0mmean\u001b[0m\u001b[1;33m(\u001b[0m\u001b[0mfold_vals\u001b[0m\u001b[1;33m)\u001b[0m\u001b[1;33m]\u001b[0m\u001b[1;33m]\u001b[0m\u001b[1;33m,\u001b[0m \u001b[0maxis\u001b[0m\u001b[1;33m=\u001b[0m\u001b[1;36m0\u001b[0m\u001b[1;33m)\u001b[0m\u001b[1;33m\u001b[0m\u001b[1;33m\u001b[0m\u001b[0m\n\u001b[0;32m     16\u001b[0m         \u001b[1;31m#plt.plot(tpr[label][()],fpr[label][()],\u001b[0m\u001b[1;33m\u001b[0m\u001b[1;33m\u001b[0m\u001b[1;33m\u001b[0m\u001b[0m\n",
      "\u001b[1;32m<__array_function__ internals>\u001b[0m in \u001b[0;36mconcatenate\u001b[1;34m(*args, **kwargs)\u001b[0m\n",
      "\u001b[1;31mKeyboardInterrupt\u001b[0m: "
     ]
    },
    {
     "data": {
      "image/png": "[encoded data removed]",
      "text/plain": [
       "<Figure size 432x288 with 1 Axes>"
      ]
     },
     "metadata": {
      "needs_background": "light"
     },
     "output_type": "display_data"
    }
   ],
   "source": [
    "kfoldRoc(f['fpr'], f['tpr'], f['auc'], labels=labels, name='K-Fold_20_Epochs', outdir = 'output/')"
   ]
  },
  {
   "cell_type": "code",
   "execution_count": 172,
   "metadata": {},
   "outputs": [],
   "source": [
    "f = h5.File('roc_vals.h5', 'r')"
   ]
  },
  {
   "cell_type": "code",
   "execution_count": 173,
   "metadata": {},
   "outputs": [],
   "source": [
    "g = h5.File('roc_vals.h5', 'r')"
   ]
  },
  {
   "cell_type": "code",
   "execution_count": 174,
   "metadata": {},
   "outputs": [
    {
     "ename": "OSError",
     "evalue": "Unable to create file (unable to truncate a file which is already open)",
     "output_type": "error",
     "traceback": [
      "\u001b[1;31m---------------------------------------------------------------------------\u001b[0m",
      "\u001b[1;31mOSError\u001b[0m                                   Traceback (most recent call last)",
      "\u001b[1;32m<ipython-input-174-49383ce4f22d>\u001b[0m in \u001b[0;36m<module>\u001b[1;34m\u001b[0m\n\u001b[1;32m----> 1\u001b[1;33m \u001b[0mh\u001b[0m \u001b[1;33m=\u001b[0m \u001b[0mh5\u001b[0m\u001b[1;33m.\u001b[0m\u001b[0mFile\u001b[0m\u001b[1;33m(\u001b[0m\u001b[1;34m'roc_vals.h5'\u001b[0m\u001b[1;33m,\u001b[0m \u001b[1;34m'w'\u001b[0m\u001b[1;33m)\u001b[0m\u001b[1;33m\u001b[0m\u001b[1;33m\u001b[0m\u001b[0m\n\u001b[0m",
      "\u001b[1;32m~\\Anaconda3\\lib\\site-packages\\h5py\\_hl\\files.py\u001b[0m in \u001b[0;36m__init__\u001b[1;34m(self, name, mode, driver, libver, userblock_size, swmr, rdcc_nslots, rdcc_nbytes, rdcc_w0, track_order, **kwds)\u001b[0m\n\u001b[0;32m    406\u001b[0m                 fid = make_fid(name, mode, userblock_size,\n\u001b[0;32m    407\u001b[0m                                \u001b[0mfapl\u001b[0m\u001b[1;33m,\u001b[0m \u001b[0mfcpl\u001b[0m\u001b[1;33m=\u001b[0m\u001b[0mmake_fcpl\u001b[0m\u001b[1;33m(\u001b[0m\u001b[0mtrack_order\u001b[0m\u001b[1;33m=\u001b[0m\u001b[0mtrack_order\u001b[0m\u001b[1;33m)\u001b[0m\u001b[1;33m,\u001b[0m\u001b[1;33m\u001b[0m\u001b[1;33m\u001b[0m\u001b[0m\n\u001b[1;32m--> 408\u001b[1;33m                                swmr=swmr)\n\u001b[0m\u001b[0;32m    409\u001b[0m \u001b[1;33m\u001b[0m\u001b[0m\n\u001b[0;32m    410\u001b[0m             \u001b[1;32mif\u001b[0m \u001b[0misinstance\u001b[0m\u001b[1;33m(\u001b[0m\u001b[0mlibver\u001b[0m\u001b[1;33m,\u001b[0m \u001b[0mtuple\u001b[0m\u001b[1;33m)\u001b[0m\u001b[1;33m:\u001b[0m\u001b[1;33m\u001b[0m\u001b[1;33m\u001b[0m\u001b[0m\n",
      "\u001b[1;32m~\\Anaconda3\\lib\\site-packages\\h5py\\_hl\\files.py\u001b[0m in \u001b[0;36mmake_fid\u001b[1;34m(name, mode, userblock_size, fapl, fcpl, swmr)\u001b[0m\n\u001b[0;32m    177\u001b[0m         \u001b[0mfid\u001b[0m \u001b[1;33m=\u001b[0m \u001b[0mh5f\u001b[0m\u001b[1;33m.\u001b[0m\u001b[0mcreate\u001b[0m\u001b[1;33m(\u001b[0m\u001b[0mname\u001b[0m\u001b[1;33m,\u001b[0m \u001b[0mh5f\u001b[0m\u001b[1;33m.\u001b[0m\u001b[0mACC_EXCL\u001b[0m\u001b[1;33m,\u001b[0m \u001b[0mfapl\u001b[0m\u001b[1;33m=\u001b[0m\u001b[0mfapl\u001b[0m\u001b[1;33m,\u001b[0m \u001b[0mfcpl\u001b[0m\u001b[1;33m=\u001b[0m\u001b[0mfcpl\u001b[0m\u001b[1;33m)\u001b[0m\u001b[1;33m\u001b[0m\u001b[1;33m\u001b[0m\u001b[0m\n\u001b[0;32m    178\u001b[0m     \u001b[1;32melif\u001b[0m \u001b[0mmode\u001b[0m \u001b[1;33m==\u001b[0m \u001b[1;34m'w'\u001b[0m\u001b[1;33m:\u001b[0m\u001b[1;33m\u001b[0m\u001b[1;33m\u001b[0m\u001b[0m\n\u001b[1;32m--> 179\u001b[1;33m         \u001b[0mfid\u001b[0m \u001b[1;33m=\u001b[0m \u001b[0mh5f\u001b[0m\u001b[1;33m.\u001b[0m\u001b[0mcreate\u001b[0m\u001b[1;33m(\u001b[0m\u001b[0mname\u001b[0m\u001b[1;33m,\u001b[0m \u001b[0mh5f\u001b[0m\u001b[1;33m.\u001b[0m\u001b[0mACC_TRUNC\u001b[0m\u001b[1;33m,\u001b[0m \u001b[0mfapl\u001b[0m\u001b[1;33m=\u001b[0m\u001b[0mfapl\u001b[0m\u001b[1;33m,\u001b[0m \u001b[0mfcpl\u001b[0m\u001b[1;33m=\u001b[0m\u001b[0mfcpl\u001b[0m\u001b[1;33m)\u001b[0m\u001b[1;33m\u001b[0m\u001b[1;33m\u001b[0m\u001b[0m\n\u001b[0m\u001b[0;32m    180\u001b[0m     \u001b[1;32melif\u001b[0m \u001b[0mmode\u001b[0m \u001b[1;33m==\u001b[0m \u001b[1;34m'a'\u001b[0m\u001b[1;33m:\u001b[0m\u001b[1;33m\u001b[0m\u001b[1;33m\u001b[0m\u001b[0m\n\u001b[0;32m    181\u001b[0m         \u001b[1;31m# Open in append mode (read/write).\u001b[0m\u001b[1;33m\u001b[0m\u001b[1;33m\u001b[0m\u001b[1;33m\u001b[0m\u001b[0m\n",
      "\u001b[1;32mh5py\\_objects.pyx\u001b[0m in \u001b[0;36mh5py._objects.with_phil.wrapper\u001b[1;34m()\u001b[0m\n",
      "\u001b[1;32mh5py\\_objects.pyx\u001b[0m in \u001b[0;36mh5py._objects.with_phil.wrapper\u001b[1;34m()\u001b[0m\n",
      "\u001b[1;32mh5py\\h5f.pyx\u001b[0m in \u001b[0;36mh5py.h5f.create\u001b[1;34m()\u001b[0m\n",
      "\u001b[1;31mOSError\u001b[0m: Unable to create file (unable to truncate a file which is already open)"
     ]
    }
   ],
   "source": [
    "h = h5.File('roc_vals.h5', 'w')"
   ]
  },
  {
   "cell_type": "code",
   "execution_count": 51,
   "metadata": {},
   "outputs": [],
   "source": [
    "f.close()"
   ]
  },
  {
   "cell_type": "code",
   "execution_count": null,
   "metadata": {},
   "outputs": [],
   "source": []
  },
  {
   "cell_type": "code",
   "execution_count": null,
   "metadata": {},
   "outputs": [],
   "source": [
    "#df = pd.DataFrame()\n",
    "#fpr = {}\n",
    "#tpr = {}\n",
    "#auc1 = {}\n",
    "#y_pred = model.predict(data_x[test])\n",
    "#for i, label in enumerate(labels):\n",
    "#    fpr[f'{label}_{fold_no}'], tpr[f'{label}_{fold_no}'], threshold = roc_curve(data_y[test][:,i], y_pred[:,i])\n",
    "#    auc1[f'{label}_{fold_no}'] = auc(fpr[f'{label}_{fold_no}'], tpr[f'{label}_{fold_no}'])"
   ]
  },
  {
   "cell_type": "code",
   "execution_count": null,
   "metadata": {},
   "outputs": [],
   "source": [
    "#fpr_dict = {}"
   ]
  },
  {
   "cell_type": "code",
   "execution_count": null,
   "metadata": {
    "scrolled": false
   },
   "outputs": [],
   "source": [
    "#for i,label in enumerate(labels):\n",
    "#    print(f'{label}_{k+1}')\n",
    "#    fpr_dict[label] = np.array([])\n",
    "#    for k in range(fold_no):\n",
    "#        print(k)\n",
    "#        fpr_dict[label] = np.concatenate([fpr_dict[label], fpr[label+f'_{k+1}']], axis=0)"
   ]
  },
  {
   "cell_type": "code",
   "execution_count": null,
   "metadata": {},
   "outputs": [],
   "source": []
  }
 ],
 "metadata": {
  "kernelspec": {
   "display_name": "Python 3.6.10 64-bit ('EPE_ML_TF2': conda)",
   "language": "python",
   "name": "python361064bitepemltf2conda8b97cfd37faf40f9a7f0d8196617388c"
  },
  "language_info": {
   "codemirror_mode": {
    "name": "ipython",
    "version": 3
   },
   "file_extension": ".py",
   "mimetype": "text/x-python",
   "name": "python",
   "nbconvert_exporter": "python",
   "pygments_lexer": "ipython3",
   "version": "3.6.10-final"
  }
 },
 "nbformat": 4,
 "nbformat_minor": 4
}