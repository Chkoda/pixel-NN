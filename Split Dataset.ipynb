{
 "cells": [
  {
   "cell_type": "code",
   "execution_count": 1,
   "metadata": {},
   "outputs": [],
   "source": [
    "import logging\n",
    "import numpy as np\n",
    "import pandas as pd\n",
    "import h5py as h5\n",
    "from collections import namedtuple"
   ]
  },
  {
   "cell_type": "code",
   "execution_count": 2,
   "metadata": {},
   "outputs": [],
   "source": [
    "logging.basicConfig(level=1, format='[%(asctime)s %(levelname)s] %(message)s')\n",
    "Option = namedtuple(\"MyStruct\", \"input test_size\")\n",
    "                    # model name folds batch_size epochs\")\n",
    "                    #structure learning_rate regularizer epochs\")\n",
    "args = Option(\n",
    "    input='data/total.h5',\n",
    "    test_size = 0.75\n",
    "    #model='share/reference_number.py',\n",
    "    #name='NumberNetworkKFOLD',\n",
    "    #folds=10,\n",
    "    #batch_size=60,\n",
    "    #epochs=20,\n",
    "    #learning_rate=0.0001,\n",
    "    #regularizer=0.0001,\n",
    ")"
   ]
  },
  {
   "cell_type": "code",
   "execution_count": 3,
   "metadata": {},
   "outputs": [
    {
     "name": "stderr",
     "output_type": "stream",
     "text": [
      "[2020-07-09 02:48:35,302 INFO] Loading data from data/total.h5\n"
     ]
    }
   ],
   "source": [
    "logging.info(f'Loading data from {args.input}')\n",
    "\n",
    "with h5.File(args.input, 'r') as data:\n",
    "    data_x = data['input'][()]\n",
    "    data_y = data['target'][()]\n",
    "\n"
   ]
  },
  {
   "cell_type": "code",
   "execution_count": 4,
   "metadata": {},
   "outputs": [
    {
     "name": "stderr",
     "output_type": "stream",
     "text": [
      "[2020-07-09 02:48:53,024 INFO] Shuffling data/total.h5\n"
     ]
    }
   ],
   "source": [
    "logging.info(f'Shuffling {args.input}')\n",
    "data = np.concatenate([data_x, data_y], axis=1)\n",
    "rng = np.random.default_rng(seed=42)\n",
    "rng.shuffle(data)\n",
    "\n",
    "data_x = data[:, 0:data_x.shape[1]]\n",
    "data_y = data[:, data_x.shape[1]:data.shape[1]]"
   ]
  },
  {
   "cell_type": "code",
   "execution_count": 12,
   "metadata": {},
   "outputs": [
    {
     "data": {
      "text/plain": [
       "16248284"
      ]
     },
     "execution_count": 12,
     "metadata": {},
     "output_type": "execute_result"
    }
   ],
   "source": [
    "data_x.shape[0]"
   ]
  },
  {
   "cell_type": "code",
   "execution_count": 1,
   "metadata": {},
   "outputs": [
    {
     "ename": "NameError",
     "evalue": "name 'data_x' is not defined",
     "output_type": "error",
     "traceback": [
      "\u001b[1;31m---------------------------------------------------------------------------\u001b[0m",
      "\u001b[1;31mNameError\u001b[0m                                 Traceback (most recent call last)",
      "\u001b[1;32m<ipython-input-1-6c961674def5>\u001b[0m in \u001b[0;36m<module>\u001b[1;34m\u001b[0m\n\u001b[1;32m----> 1\u001b[1;33m \u001b[0mtrain_split\u001b[0m \u001b[1;33m=\u001b[0m \u001b[0mrange\u001b[0m\u001b[1;33m(\u001b[0m\u001b[0mint\u001b[0m\u001b[1;33m(\u001b[0m\u001b[0mdata_x\u001b[0m\u001b[1;33m.\u001b[0m\u001b[0mshape\u001b[0m\u001b[1;33m[\u001b[0m\u001b[1;36m0\u001b[0m\u001b[1;33m]\u001b[0m\u001b[1;33m*\u001b[0m\u001b[0margs\u001b[0m\u001b[1;33m.\u001b[0m\u001b[0mtest_size\u001b[0m\u001b[1;33m)\u001b[0m\u001b[1;33m)\u001b[0m\u001b[1;33m\u001b[0m\u001b[1;33m\u001b[0m\u001b[0m\n\u001b[0m\u001b[0;32m      2\u001b[0m \u001b[0mtrain_split\u001b[0m\u001b[1;33m\u001b[0m\u001b[1;33m\u001b[0m\u001b[0m\n",
      "\u001b[1;31mNameError\u001b[0m: name 'data_x' is not defined"
     ]
    }
   ],
   "source": [
    "train_split = range(int(data_x.shape[0]*args.test_size))\n",
    "train_split"
   ]
  },
  {
   "cell_type": "code",
   "execution_count": 26,
   "metadata": {},
   "outputs": [
    {
     "data": {
      "text/plain": [
       "range(14623455, 16248284)"
      ]
     },
     "execution_count": 26,
     "metadata": {},
     "output_type": "execute_result"
    }
   ],
   "source": [
    "test_split = range(int(data_x.shape[0]*args.test_size), data_x.shape[0])\n",
    "test_split"
   ]
  },
  {
   "cell_type": "code",
   "execution_count": 23,
   "metadata": {},
   "outputs": [
    {
     "data": {
      "text/plain": [
       "(14623455, 60)"
      ]
     },
     "execution_count": 23,
     "metadata": {},
     "output_type": "execute_result"
    }
   ],
   "source": [
    "data_x[train_split].shape"
   ]
  },
  {
   "cell_type": "code",
   "execution_count": 24,
   "metadata": {},
   "outputs": [
    {
     "data": {
      "text/plain": [
       "(1624829, 60)"
      ]
     },
     "execution_count": 24,
     "metadata": {},
     "output_type": "execute_result"
    }
   ],
   "source": [
    "data_x[test_split].shape"
   ]
  },
  {
   "cell_type": "code",
   "execution_count": 27,
   "metadata": {},
   "outputs": [],
   "source": [
    "with h5.File('data/train.h5', 'w') as hfile:\n",
    "    hfile.create_dataset('input', data=data_x[train_split])\n",
    "    hfile.create_dataset('target', data=data_y[train_split])\n",
    "\n",
    "with h5.File('data/test.h5', 'w') as hfile:\n",
    "    hfile.create_dataset('input', data=data_x[test_split])\n",
    "    hfile.create_dataset('target', data=data_y[test_split])"
   ]
  },
  {
   "cell_type": "code",
   "execution_count": null,
   "metadata": {},
   "outputs": [],
   "source": []
  }
 ],
 "metadata": {
  "kernelspec": {
   "display_name": "Python 3.6.10 64-bit ('EPE_ML_TF2': conda)",
   "language": "python",
   "name": "python361064bitepemltf2conda8b97cfd37faf40f9a7f0d8196617388c"
  },
  "language_info": {
   "codemirror_mode": {
    "name": "ipython",
    "version": 3
   },
   "file_extension": ".py",
   "mimetype": "text/x-python",
   "name": "python",
   "nbconvert_exporter": "python",
   "pygments_lexer": "ipython3",
   "version": "3.6.10"
  }
 },
 "nbformat": 4,
 "nbformat_minor": 4
}
