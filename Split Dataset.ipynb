{
 "cells": [
  {
   "cell_type": "code",
   "execution_count": 1,
   "metadata": {},
   "outputs": [],
   "source": [
    "import logging\n",
    "import numpy as np\n",
    "import pandas as pd\n",
    "import h5py as h5\n",
    "from collections import namedtuple"
   ]
  },
  {
   "cell_type": "code",
   "execution_count": 2,
   "metadata": {},
   "outputs": [
    {
     "output_type": "execute_result",
     "data": {
      "text/plain": "'\\nlogging.basicConfig(level=1, format=\\'[%(asctime)s %(levelname)s] %(message)s\\')\\nOption = namedtuple(\"MyStruct\", \"input train_size\")\\n                    # model name folds batch_size epochs\")\\n                    #structure learning_rate regularizer epochs\")\\nargs = Option(\\n    #input=,\\n    #train_size = 0.75\\n    #model=\\'share/reference_number.py\\',\\n    #name=\\'NumberNetworkKFOLD\\',\\n    #folds=10,\\n    #batch_size=60,\\n    #epochs=20,\\n    #learning_rate=0.0001,\\n    #regularizer=0.0001,\\n)\\n'"
     },
     "metadata": {},
     "execution_count": 2
    }
   ],
   "source": [
    "'''\n",
    "logging.basicConfig(level=1, format='[%(asctime)s %(levelname)s] %(message)s')\n",
    "Option = namedtuple(\"MyStruct\", \"input train_size\")\n",
    "                    # model name folds batch_size epochs\")\n",
    "                    #structure learning_rate regularizer epochs\")\n",
    "args = Option(\n",
    "    #input=,\n",
    "    #train_size = 0.75\n",
    "    #model='share/reference_number.py',\n",
    "    #name='NumberNetworkKFOLD',\n",
    "    #folds=10,\n",
    "    #batch_size=60,\n",
    "    #epochs=20,\n",
    "    #learning_rate=0.0001,\n",
    "    #regularizer=0.0001,\n",
    ")\n",
    "'''"
   ]
  },
  {
   "cell_type": "markdown",
   "metadata": {},
   "source": [
    "# Load Data\n",
    "\n",
    "Load from one file"
   ]
  },
  {
   "cell_type": "code",
   "execution_count": 9,
   "metadata": {
    "tags": []
   },
   "outputs": [],
   "source": [
    "infile = 'jz7w_endcap.h5'\n",
    "\n",
    "logging.info(f'Loading data from data/{infile}')\n",
    "\n",
    "with h5.File('data/'+infile, 'r') as data:\n",
    "    data_x = data['input'][()]\n",
    "    data_y = data['target'][()]"
   ]
  },
  {
   "cell_type": "markdown",
   "metadata": {},
   "source": [
    "Load from endcap, barrel, ibl files"
   ]
  },
  {
   "cell_type": "code",
   "execution_count": 2,
   "metadata": {},
   "outputs": [],
   "source": [
    "layerFiles = ['jz7w_ibl', 'jz7w_barrel', 'jz7w_endcap']\n",
    "for i, layerFile in enumerate(layerFiles):\n",
    "    rng = np.random.default_rng(seed=42)\n",
    "    logging.info('Shuffling {}.h5')\n",
    "    with h5.File('data/{}.h5'.format(layerFile), 'r') as data:\n",
    "        data_x = data['input'][()]\n",
    "        data_y = data['target'][()]\n",
    "\n",
    "    s = np.arange(data_x.shape[0])\n",
    "    rng.shuffle(s)\n",
    "    data_x = data_x[s]\n",
    "    data_y = data_y[s]\n",
    "\n",
    "    logging.info('Saving {}_shuffled.h5')\n",
    "    with h5.File('data/{}_shuffled.h5'.format(layerFile), 'w') as hfile:\n",
    "        hfile.create_dataset('input', data=data_x.astype(np.float32), compression='gzip')\n",
    "        hfile.create_dataset('target', data=data_y.astype(np.float32), compression='gzip')\n",
    "\n",
    "data_x = np.empty((0,data_x.shape[1]))\n",
    "data_y = np.empty((0,data_y.shape[1]))\n",
    "for i, layerFile in enumerate(layerFiles):\n",
    "    logging.info('Loading clusters from {}_shuffled.h5')\n",
    "    with h5.File('data/{}_shuffled.h5'.format(layerFile), 'r') as data:\n",
    "        data_x = np.append(data_x, data['input'][:int(4e6)], axis=0)\n",
    "        data_y = np.append(data_y, data['target'][:int(4e6)], axis=0)\n",
    "\n",
    "infile = 'jz7w_evensplit_train.h5'"
   ]
  },
  {
   "cell_type": "markdown",
   "metadata": {},
   "source": [
    "#### Exploring data structure"
   ]
  },
  {
   "cell_type": "code",
   "execution_count": 10,
   "metadata": {},
   "outputs": [],
   "source": [
    "import matplotlib.pyplot as plt"
   ]
  },
  {
   "cell_type": "code",
   "execution_count": 3,
   "metadata": {},
   "outputs": [],
   "source": [
    "data_y_copy = np.copy(data_y)\n",
    "data_y_copy[:,1] *= 2\n",
    "data_y_copy[:,2] *= 3"
   ]
  },
  {
   "cell_type": "code",
   "execution_count": 4,
   "metadata": {},
   "outputs": [
    {
     "output_type": "execute_result",
     "data": {
      "text/plain": "array([[0., 2., 0.],\n       [0., 0., 3.],\n       [0., 0., 3.],\n       ...,\n       [1., 0., 0.],\n       [1., 0., 0.],\n       [1., 0., 0.]])"
     },
     "metadata": {},
     "execution_count": 4
    }
   ],
   "source": [
    "data_y_copy"
   ]
  },
  {
   "cell_type": "code",
   "execution_count": 5,
   "metadata": {},
   "outputs": [
    {
     "output_type": "execute_result",
     "data": {
      "text/plain": "(12000000, 3)"
     },
     "metadata": {},
     "execution_count": 5
    }
   ],
   "source": [
    "data_y_copy.shape"
   ]
  },
  {
   "cell_type": "code",
   "execution_count": 6,
   "metadata": {},
   "outputs": [],
   "source": [
    "data_y_copy = data_y_copy[:,0] + data_y_copy[:,1] + data_y_copy[:,2]"
   ]
  },
  {
   "cell_type": "code",
   "execution_count": 7,
   "metadata": {},
   "outputs": [
    {
     "output_type": "execute_result",
     "data": {
      "text/plain": "array([2., 3., 3., ..., 1., 1., 1.])"
     },
     "metadata": {},
     "execution_count": 7
    }
   ],
   "source": [
    "data_y_copy"
   ]
  },
  {
   "cell_type": "code",
   "execution_count": 8,
   "metadata": {},
   "outputs": [
    {
     "output_type": "execute_result",
     "data": {
      "text/plain": "(array([4289409, 3246767, 4463824], dtype=int64), array([0. , 1.5, 2.5, 3.5]))"
     },
     "metadata": {},
     "execution_count": 8
    }
   ],
   "source": [
    "hist = np.histogram(data_y_copy, bins=[0,1.5,2.5,3.5])\n",
    "hist"
   ]
  },
  {
   "cell_type": "code",
   "execution_count": 11,
   "metadata": {},
   "outputs": [
    {
     "output_type": "error",
     "ename": "NameError",
     "evalue": "name 'infile' is not defined",
     "traceback": [
      "\u001b[1;31m---------------------------------------------------------------------------\u001b[0m",
      "\u001b[1;31mNameError\u001b[0m                                 Traceback (most recent call last)",
      "\u001b[1;32m<ipython-input-11-3de4277aed18>\u001b[0m in \u001b[0;36m<module>\u001b[1;34m\u001b[0m\n\u001b[0;32m      3\u001b[0m \u001b[0mplt\u001b[0m\u001b[1;33m.\u001b[0m\u001b[0mxlabel\u001b[0m\u001b[1;33m(\u001b[0m\u001b[1;34mf\"True cluster particle multiplicity\"\u001b[0m\u001b[1;33m)\u001b[0m\u001b[1;33m\u001b[0m\u001b[1;33m\u001b[0m\u001b[0m\n\u001b[0;32m      4\u001b[0m \u001b[0mplt\u001b[0m\u001b[1;33m.\u001b[0m\u001b[0mgrid\u001b[0m\u001b[1;33m(\u001b[0m\u001b[1;32mTrue\u001b[0m\u001b[1;33m)\u001b[0m\u001b[1;33m\u001b[0m\u001b[1;33m\u001b[0m\u001b[0m\n\u001b[1;32m----> 5\u001b[1;33m \u001b[0mplt\u001b[0m\u001b[1;33m.\u001b[0m\u001b[0mtitle\u001b[0m\u001b[1;33m(\u001b[0m\u001b[1;34mf'{infile} label distribution'\u001b[0m\u001b[1;33m)\u001b[0m\u001b[1;33m\u001b[0m\u001b[1;33m\u001b[0m\u001b[0m\n\u001b[0m\u001b[0;32m      6\u001b[0m \u001b[0mplt\u001b[0m\u001b[1;33m.\u001b[0m\u001b[0msavefig\u001b[0m\u001b[1;33m(\u001b[0m\u001b[1;34mf'output/{infile}_label_distribution.png'\u001b[0m\u001b[1;33m)\u001b[0m\u001b[1;33m\u001b[0m\u001b[1;33m\u001b[0m\u001b[0m\n\u001b[0;32m      7\u001b[0m \u001b[0mplt\u001b[0m\u001b[1;33m.\u001b[0m\u001b[0mshow\u001b[0m\u001b[1;33m(\u001b[0m\u001b[1;33m)\u001b[0m\u001b[1;33m\u001b[0m\u001b[1;33m\u001b[0m\u001b[0m\n",
      "\u001b[1;31mNameError\u001b[0m: name 'infile' is not defined"
     ]
    }
   ],
   "source": [
    "plt.bar(hist[1][1:], hist[0])\n",
    "plt.ylabel(f\"Clusters\")\n",
    "plt.xlabel(f\"True cluster particle multiplicity\")\n",
    "plt.grid(True)\n",
    "plt.title(f'{infile} label distribution')\n",
    "plt.savefig(f'output/{infile}_label_distribution.png')\n",
    "plt.show()\n",
    "plt.close()"
   ]
  },
  {
   "cell_type": "markdown",
   "metadata": {},
   "source": [
    "# Shuffle Data"
   ]
  },
  {
   "cell_type": "code",
   "execution_count": 20,
   "metadata": {
    "tags": []
   },
   "outputs": [],
   "source": [
    "logging.info('Shuffling')\n",
    "rng = np.random.default_rng(seed=42)\n",
    "s = np.arange(data_x.shape[0])\n",
    "rng.shuffle(s)\n",
    "\n",
    "data_x = data_x[s]\n",
    "data_y = data_y[s]"
   ]
  },
  {
   "cell_type": "code",
   "execution_count": 21,
   "metadata": {},
   "outputs": [],
   "source": [
    "outfile = 'data/jz7w_evensplit_shuffled.h5'\n",
    "\n",
    "with h5.File(outfile, 'w') as hfile:\n",
    "    hfile.create_dataset('input', data=data_x.astype(np.float32), compression='gzip')\n",
    "    hfile.create_dataset('target', data=data_y.astype(np.float32), compression='gzip')"
   ]
  },
  {
   "cell_type": "code",
   "execution_count": 22,
   "metadata": {},
   "outputs": [
    {
     "output_type": "execute_result",
     "data": {
      "text/plain": "range(0, 12000000)"
     },
     "metadata": {},
     "execution_count": 22
    }
   ],
   "source": [
    "train_split = range(int(12e6))\n",
    "train_split"
   ]
  },
  {
   "cell_type": "code",
   "execution_count": 23,
   "metadata": {},
   "outputs": [
    {
     "output_type": "execute_result",
     "data": {
      "text/plain": "range(12000000, 15000000)"
     },
     "metadata": {},
     "execution_count": 23
    }
   ],
   "source": [
    "test_split = range(int(12e6), data_x.shape[0])\n",
    "test_split"
   ]
  },
  {
   "cell_type": "markdown",
   "metadata": {},
   "source": [
    "# Create Train and Test splits"
   ]
  },
  {
   "cell_type": "code",
   "execution_count": 24,
   "metadata": {},
   "outputs": [],
   "source": [
    "outtrain = 'jz7w_evensplit_train.h5'\n",
    "outtest = 'jz7w_evensplit_test.h5'\n",
    "\n",
    "with h5.File('data/'+outtrain, 'w') as hfile:\n",
    "    hfile.create_dataset('input', data=data_x[train_split].astype(np.float32), compression='gzip')\n",
    "    hfile.create_dataset('target', data=data_y[train_split].astype(np.float32), compression='gzip')\n",
    "\n",
    "with h5.File('data/'+outtest, 'w') as hfile:\n",
    "    hfile.create_dataset('input', data=data_x[test_split].astype(np.float32), compression='gzip')\n",
    "    hfile.create_dataset('target', data=data_y[test_split].astype(np.float32), compression='gzip')"
   ]
  },
  {
   "cell_type": "markdown",
   "metadata": {},
   "source": [
    "# Create 10 Splits"
   ]
  },
  {
   "cell_type": "code",
   "execution_count": 20,
   "metadata": {},
   "outputs": [],
   "source": [
    "for i in range(10):\n",
    "    with h5.File(f'data/split{i+1}.h5', 'w') as hfile:\n",
    "        hfile.create_dataset('input', data=data_x[int(data_x.shape[0]/10)*i:int(data_x.shape[0]/10)*(i+1)].astype(np.float32), compression='gzip')\n",
    "        hfile.create_dataset('target', data=data_y[int(data_x.shape[0]/10)*i:int(data_x.shape[0]/10)*(i+1)].astype(np.float32), compression='gzip')\n"
   ]
  }
 ],
 "metadata": {
  "kernelspec": {
   "display_name": "Python 3.6.10 64-bit ('EPE_ML_TF2': conda)",
   "language": "python",
   "name": "python361064bitepemltf2conda8b97cfd37faf40f9a7f0d8196617388c"
  },
  "language_info": {
   "codemirror_mode": {
    "name": "ipython",
    "version": 3
   },
   "file_extension": ".py",
   "mimetype": "text/x-python",
   "name": "python",
   "nbconvert_exporter": "python",
   "pygments_lexer": "ipython3",
   "version": "3.6.10-final"
  }
 },
 "nbformat": 4,
 "nbformat_minor": 4
}