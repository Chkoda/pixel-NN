{
 "cells": [
  {
   "cell_type": "code",
   "execution_count": 1,
   "metadata": {},
   "outputs": [],
   "source": [
    "import logging\n",
    "import numpy as np\n",
    "import pandas as pd\n",
    "import h5py as h5\n",
    "from collections import namedtuple"
   ]
  },
  {
   "cell_type": "code",
   "execution_count": 3,
   "metadata": {},
   "outputs": [],
   "source": [
    "logging.basicConfig(level=1, format='[%(asctime)s %(levelname)s] %(message)s')\n",
    "Option = namedtuple(\"MyStruct\", \"input train_size\")\n",
    "                    # model name folds batch_size epochs\")\n",
    "                    #structure learning_rate regularizer epochs\")\n",
    "args = Option(\n",
    "    input='data/total.h5',\n",
    "    train_size = 0.75\n",
    "    #model='share/reference_number.py',\n",
    "    #name='NumberNetworkKFOLD',\n",
    "    #folds=10,\n",
    "    #batch_size=60,\n",
    "    #epochs=20,\n",
    "    #learning_rate=0.0001,\n",
    "    #regularizer=0.0001,\n",
    ")"
   ]
  },
  {
   "cell_type": "markdown",
   "metadata": {},
   "source": [
    "# Load Data"
   ]
  },
  {
   "cell_type": "code",
   "execution_count": 4,
   "metadata": {
    "tags": []
   },
   "outputs": [
    {
     "output_type": "stream",
     "name": "stderr",
     "text": "[2020-07-17 17:49:46,623 INFO] Loading data from data/total.h5\n"
    }
   ],
   "source": [
    "logging.info(f'Loading data from {args.input}')\n",
    "\n",
    "with h5.File(args.input, 'r') as data:\n",
    "    data_x = data['input'][()]\n",
    "    data_y = data['target'][()]\n",
    "\n"
   ]
  },
  {
   "cell_type": "markdown",
   "metadata": {},
   "source": [
    "# Shuffle Data"
   ]
  },
  {
   "cell_type": "code",
   "execution_count": 5,
   "metadata": {
    "tags": []
   },
   "outputs": [
    {
     "output_type": "stream",
     "name": "stderr",
     "text": "[2020-07-17 17:50:18,658 INFO] Shuffling data/total.h5\n"
    }
   ],
   "source": [
    "logging.info(f'Shuffling {args.input}')\n",
    "rng = np.random.default_rng(seed=42)\n",
    "s = np.arange(data_x.shape[0])\n",
    "rng.shuffle(s)\n",
    "\n",
    "data_x = data_x[s]\n",
    "data_y = data_y[s]\n",
    "\n",
    "with h5.File(f'data/total_shuffled.h5', 'w') as hfile:\n",
    "    hfile.create_dataset('input', data=data_x.astype(np.float32), compression='gzip')\n",
    "    hfile.create_dataset('target', data=data_y.astype(np.float32), compression='gzip')"
   ]
  },
  {
   "cell_type": "code",
   "execution_count": 11,
   "metadata": {},
   "outputs": [
    {
     "output_type": "execute_result",
     "data": {
      "text/plain": "range(0, 12750000)"
     },
     "metadata": {},
     "execution_count": 11
    }
   ],
   "source": [
    "train_split = range(int(data_x.shape[0]*args.train_size))\n",
    "train_split"
   ]
  },
  {
   "cell_type": "code",
   "execution_count": 12,
   "metadata": {},
   "outputs": [
    {
     "output_type": "execute_result",
     "data": {
      "text/plain": "range(12750000, 17000000)"
     },
     "metadata": {},
     "execution_count": 12
    }
   ],
   "source": [
    "test_split = range(int(data_x.shape[0]*args.train_size), data_x.shape[0])\n",
    "test_split"
   ]
  },
  {
   "cell_type": "code",
   "execution_count": 13,
   "metadata": {},
   "outputs": [
    {
     "output_type": "execute_result",
     "data": {
      "text/plain": "(12750000, 60)"
     },
     "metadata": {},
     "execution_count": 13
    }
   ],
   "source": [
    "data_x[train_split].shape"
   ]
  },
  {
   "cell_type": "code",
   "execution_count": 14,
   "metadata": {},
   "outputs": [
    {
     "output_type": "execute_result",
     "data": {
      "text/plain": "(4250000, 60)"
     },
     "metadata": {},
     "execution_count": 14
    }
   ],
   "source": [
    "data_x[test_split].shape"
   ]
  },
  {
   "cell_type": "markdown",
   "metadata": {},
   "source": [
    "# Create Train and Test splits"
   ]
  },
  {
   "cell_type": "code",
   "execution_count": 15,
   "metadata": {},
   "outputs": [],
   "source": [
    "with h5.File(f'data/train.h5', 'w') as hfile:\n",
    "    hfile.create_dataset('input', data=data_x[train_split].astype(np.float32), compression='gzip')\n",
    "    hfile.create_dataset('target', data=data_y[train_split].astype(np.float32), compression='gzip')\n",
    "\n",
    "with h5.File('data/test.h5', 'w') as hfile:\n",
    "    hfile.create_dataset('input', data=data_x[test_split].astype(np.float32), compression='gzip')\n",
    "    hfile.create_dataset('target', data=data_y[test_split].astype(np.float32), compression='gzip')"
   ]
  },
  {
   "cell_type": "markdown",
   "metadata": {},
   "source": [
    "# Create 10 Splits"
   ]
  },
  {
   "cell_type": "code",
   "execution_count": 20,
   "metadata": {},
   "outputs": [],
   "source": [
    "for i in range(10):\n",
    "    with h5.File(f'data/split{i+1}.h5', 'w') as hfile:\n",
    "        hfile.create_dataset('input', data=data_x[int(data_x.shape[0]/10)*i:int(data_x.shape[0]/10)*(i+1)].astype(np.float32), compression='gzip')\n",
    "        hfile.create_dataset('target', data=data_y[int(data_x.shape[0]/10)*i:int(data_x.shape[0]/10)*(i+1)].astype(np.float32), compression='gzip')\n"
   ]
  }
 ],
 "metadata": {
  "kernelspec": {
   "display_name": "Python 3.6.10 64-bit ('MDNtraining_TF': conda)",
   "language": "python",
   "name": "python361064bitmdntrainingtfconda41395b29b3f64ff7b5d12b9937ed94c7"
  },
  "language_info": {
   "codemirror_mode": {
    "name": "ipython",
    "version": 3
   },
   "file_extension": ".py",
   "mimetype": "text/x-python",
   "name": "python",
   "nbconvert_exporter": "python",
   "pygments_lexer": "ipython3",
   "version": "3.6.10-final"
  }
 },
 "nbformat": 4,
 "nbformat_minor": 4
}