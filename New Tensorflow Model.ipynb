{
 "cells": [
  {
   "cell_type": "code",
   "execution_count": 1,
   "metadata": {},
   "outputs": [],
   "source": [
    "import numpy as np\n",
    "import h5py as h5\n",
    "import logging\n",
    "from collections import namedtuple\n",
    "import matplotlib.pyplot as plt\n",
    "from sklearn.model_selection import KFold\n",
    "from sklearn.metrics import roc_curve, auc\n",
    "\n",
    "import tensorflow as tf\n",
    "from tensorflow import keras\n",
    "from tensorflow.keras.layers import Input, Dense\n",
    "from tensorflow.keras.regularizers import l2\n",
    "from tensorflow.keras.models import Model\n",
    "from tensorflow.keras.optimizers import SGD, Adam\n",
    "from tensorflow.keras.initializers import GlorotNormal\n",
    "from tensorflow import random_normal_initializer\n",
    "\n",
    "def _config(layer, config):\n",
    "    base_config = super(layer.__class__, layer).get_config()\n",
    "    conf_dict = dict(base_config.items()).copy()\n",
    "    conf_dict.update(dict(config.items()))\n",
    "    return conf_dict\n",
    "\n",
    "class OffsetAndScale(keras.layers.Layer):\n",
    "    \"\"\" (x + offset) * scale \"\"\"\n",
    "\n",
    "    def __init__(self, offset, scale, **kwargs):\n",
    "        self.offset = offset\n",
    "        self.scale = scale\n",
    "\n",
    "        if isinstance(self.scale, dict) and self.scale['type'] == 'ndarray':\n",
    "            self.scale = np.array(self.scale['value']).astype('float32')\n",
    "\n",
    "        if isinstance(self.offset, dict) and self.offset['type'] == 'ndarray':\n",
    "            self.offset = np.array(self.offset['value']).astype('float32')\n",
    "\n",
    "        super(OffsetAndScale, self).__init__(**kwargs)\n",
    "\n",
    "    def call(self, x):\n",
    "        return (x + self.offset) * self.scale\n",
    "\n",
    "    def get_config(self):\n",
    "        return _config(self, {\n",
    "            'offset': self.offset,\n",
    "            'scale': self.scale\n",
    "        })"
   ]
  },
  {
   "cell_type": "code",
   "execution_count": 14,
   "metadata": {},
   "outputs": [],
   "source": [
    "Option = namedtuple(\"MyStruct\", \"data_input model_output structure learning_rate regularizer batch_size epochs \\\n",
    "                    momentum patience\")\n",
    "                    # folds batch_size epochs\")\n",
    "                    #structure learning_rate regularizer epochs\")\n",
    "args = Option(\n",
    "    data_input='data/training.h5',\n",
    "    model_output='output/tf_model',\n",
    "    structure=[20, 20, 20, 20, 20],\n",
    "    learning_rate=0.004,\n",
    "    regularizer=1e-6,\n",
    "    batch_size=60,\n",
    "    epochs=20,\n",
    "    #folds=10,\n",
    "    momentum=0.2,\n",
    "    patience=5,\n",
    ")"
   ]
  },
  {
   "cell_type": "code",
   "execution_count": 3,
   "metadata": {},
   "outputs": [
    {
     "name": "stdout",
     "output_type": "stream",
     "text": [
      "(12000001, 60)\n"
     ]
    }
   ],
   "source": [
    "logging.info(f'Loading data from {args.data_input}')\n",
    "\n",
    "with h5.File(args.data_input, 'r') as data:\n",
    "    data_x = data['input'][()]\n",
    "    data_y = data['target'][()]\n",
    "    #data_x = data['input'][:5000]\n",
    "    #data_y = data['target'][:5000]\n",
    "\n",
    "    \n",
    "labels = ['1particle', '2particle', '3particle']\n",
    "print(data_x.shape)"
   ]
  },
  {
   "cell_type": "code",
   "execution_count": 15,
   "metadata": {},
   "outputs": [],
   "source": [
    "std = np.std(data_x, axis=0, ddof=1)\n",
    "std[np.where(std == 0)] = 1\n",
    "init = random_normal_initializer(seed=42)\n",
    "\n",
    "inputs = Input((data_x.shape[1],))\n",
    "\n",
    "h = OffsetAndScale(offset=-np.mean(data_x, axis=0), scale=1.0/std)(inputs)\n",
    "\n",
    "for l in range(0, len(args.structure)):\n",
    "    h = Dense(args.structure[l], kernel_regularizer=l2(args.regularizer), kernel_initializer=init)(h)\n",
    "    h = tf.keras.activations.relu(h, alpha=0.1)\n",
    "    \n",
    "output_layer = Dense(data_y.shape[1], kernel_regularizer=l2(args.regularizer), kernel_initializer=init)(h)\n",
    "output_layer = tf.keras.activations.softmax(output_layer)\n",
    "\n",
    "model = tf.keras.models.Model(inputs=inputs, outputs=output_layer)"
   ]
  },
  {
   "cell_type": "code",
   "execution_count": 16,
   "metadata": {},
   "outputs": [
    {
     "name": "stdout",
     "output_type": "stream",
     "text": [
      "Model: \"model_1\"\n",
      "_________________________________________________________________\n",
      "Layer (type)                 Output Shape              Param #   \n",
      "=================================================================\n",
      "input_2 (InputLayer)         [(None, 60)]              0         \n",
      "_________________________________________________________________\n",
      "offset_and_scale_1 (OffsetAn (None, 60)                0         \n",
      "_________________________________________________________________\n",
      "dense_5 (Dense)              (None, 20)                1220      \n",
      "_________________________________________________________________\n",
      "tf_op_layer_LeakyRelu_4 (Ten [(None, 20)]              0         \n",
      "_________________________________________________________________\n",
      "dense_6 (Dense)              (None, 20)                420       \n",
      "_________________________________________________________________\n",
      "tf_op_layer_LeakyRelu_5 (Ten [(None, 20)]              0         \n",
      "_________________________________________________________________\n",
      "dense_7 (Dense)              (None, 20)                420       \n",
      "_________________________________________________________________\n",
      "tf_op_layer_LeakyRelu_6 (Ten [(None, 20)]              0         \n",
      "_________________________________________________________________\n",
      "dense_8 (Dense)              (None, 20)                420       \n",
      "_________________________________________________________________\n",
      "tf_op_layer_LeakyRelu_7 (Ten [(None, 20)]              0         \n",
      "_________________________________________________________________\n",
      "dense_9 (Dense)              (None, 20)                420       \n",
      "_________________________________________________________________\n",
      "tf_op_layer_LeakyRelu_8 (Ten [(None, 20)]              0         \n",
      "_________________________________________________________________\n",
      "dense_10 (Dense)             (None, 3)                 63        \n",
      "_________________________________________________________________\n",
      "tf_op_layer_Softmax_1 (Tenso [(None, 3)]               0         \n",
      "=================================================================\n",
      "Total params: 2,963\n",
      "Trainable params: 2,963\n",
      "Non-trainable params: 0\n",
      "_________________________________________________________________\n",
      "None\n"
     ]
    }
   ],
   "source": [
    "print(model.summary())"
   ]
  },
  {
   "cell_type": "code",
   "execution_count": 17,
   "metadata": {},
   "outputs": [
    {
     "data": {
      "image/png": "[encoded data removed]",
      "text/plain": [
       "<IPython.core.display.Image object>"
      ]
     },
     "execution_count": 17,
     "metadata": {},
     "output_type": "execute_result"
    }
   ],
   "source": [
    "keras.utils.plot_model(model)"
   ]
  },
  {
   "cell_type": "code",
   "execution_count": 18,
   "metadata": {},
   "outputs": [],
   "source": [
    "compile_args = {\n",
    "    'optimizer': Adam(learning_rate=args.learning_rate, amsgrad=True),\n",
    "    'loss': 'categorical_crossentropy'\n",
    "}\n",
    "\n",
    "model.compile(**compile_args)\n",
    "\n",
    "fit_args = {\n",
    "    'batch_size': args.batch_size,\n",
    "    'epochs': args.epochs,\n",
    "    'callbacks': [\n",
    "        tf.keras.callbacks.EarlyStopping(monitor='val_loss', patience=args.patience, verbose=1, mode='auto'),\n",
    "        tf.keras.callbacks.ModelCheckpoint(args.model_output+'.h5', save_best_only=True, verbose=2)\n",
    "    ],\n",
    "    'verbose': 1,\n",
    "    'validation_split': 0.1\n",
    "}"
   ]
  },
  {
   "cell_type": "code",
   "execution_count": 19,
   "metadata": {},
   "outputs": [
    {
     "name": "stdout",
     "output_type": "stream",
     "text": [
      "Epoch 1/20\n",
      "179986/180000 [============================>.] - ETA: 0s - loss: 0.4770\n",
      "Epoch 00001: val_loss improved from inf to 0.46555, saving model to output/tf_model.h5\n",
      "180000/180000 [==============================] - 149s 828us/step - loss: 0.4770 - val_loss: 0.4656\n",
      "Epoch 2/20\n",
      "179952/180000 [============================>.] - ETA: 0s - loss: 0.4619\n",
      "Epoch 00002: val_loss improved from 0.46555 to 0.45976, saving model to output/tf_model.h5\n",
      "180000/180000 [==============================] - 150s 833us/step - loss: 0.4619 - val_loss: 0.4598\n",
      "Epoch 3/20\n",
      "179941/180000 [============================>.] - ETA: 0s - loss: 0.4595\n",
      "Epoch 00003: val_loss improved from 0.45976 to 0.45708, saving model to output/tf_model.h5\n",
      "180000/180000 [==============================] - 150s 832us/step - loss: 0.4595 - val_loss: 0.4571\n",
      "Epoch 4/20\n",
      "179953/180000 [============================>.] - ETA: 0s - loss: 0.4581\n",
      "Epoch 00004: val_loss did not improve from 0.45708\n",
      "180000/180000 [==============================] - 148s 822us/step - loss: 0.4581 - val_loss: 0.4615\n",
      "Epoch 5/20\n",
      "179947/180000 [============================>.] - ETA: 0s - loss: 0.4572\n",
      "Epoch 00005: val_loss did not improve from 0.45708\n",
      "180000/180000 [==============================] - 149s 829us/step - loss: 0.4572 - val_loss: 0.4571\n",
      "Epoch 6/20\n",
      "179994/180000 [============================>.] - ETA: 0s - loss: 0.4567\n",
      "Epoch 00006: val_loss improved from 0.45708 to 0.45461, saving model to output/tf_model.h5\n",
      "180000/180000 [==============================] - 149s 827us/step - loss: 0.4567 - val_loss: 0.4546\n",
      "Epoch 7/20\n",
      "179991/180000 [============================>.] - ETA: 0s - loss: 0.4568\n",
      "Epoch 00007: val_loss did not improve from 0.45461\n",
      "180000/180000 [==============================] - 148s 822us/step - loss: 0.4568 - val_loss: 0.4553\n",
      "Epoch 8/20\n",
      "179943/180000 [============================>.] - ETA: 0s - loss: 0.4551\n",
      "Epoch 00008: val_loss improved from 0.45461 to 0.45443, saving model to output/tf_model.h5\n",
      "180000/180000 [==============================] - 150s 836us/step - loss: 0.4551 - val_loss: 0.4544\n",
      "Epoch 9/20\n",
      " 11506/180000 [>.............................] - ETA: 2:07 - loss: 0.4554"
     ]
    },
    {
     "ename": "KeyboardInterrupt",
     "evalue": "",
     "output_type": "error",
     "traceback": [
      "\u001b[1;31m---------------------------------------------------------------------------\u001b[0m",
      "\u001b[1;31mKeyboardInterrupt\u001b[0m                         Traceback (most recent call last)",
      "\u001b[1;32m<ipython-input-19-09b47434fb15>\u001b[0m in \u001b[0;36m<module>\u001b[1;34m\u001b[0m\n\u001b[1;32m----> 1\u001b[1;33m \u001b[0mhistory\u001b[0m \u001b[1;33m=\u001b[0m \u001b[0mmodel\u001b[0m\u001b[1;33m.\u001b[0m\u001b[0mfit\u001b[0m\u001b[1;33m(\u001b[0m\u001b[0mdata_x\u001b[0m\u001b[1;33m,\u001b[0m \u001b[0mdata_y\u001b[0m\u001b[1;33m,\u001b[0m \u001b[1;33m**\u001b[0m\u001b[0mfit_args\u001b[0m\u001b[1;33m)\u001b[0m\u001b[1;33m\u001b[0m\u001b[1;33m\u001b[0m\u001b[0m\n\u001b[0m",
      "\u001b[1;32m~\\Anaconda3\\envs\\EPE_ML_TF2\\lib\\site-packages\\tensorflow\\python\\keras\\engine\\training.py\u001b[0m in \u001b[0;36m_method_wrapper\u001b[1;34m(self, *args, **kwargs)\u001b[0m\n\u001b[0;32m     64\u001b[0m   \u001b[1;32mdef\u001b[0m \u001b[0m_method_wrapper\u001b[0m\u001b[1;33m(\u001b[0m\u001b[0mself\u001b[0m\u001b[1;33m,\u001b[0m \u001b[1;33m*\u001b[0m\u001b[0margs\u001b[0m\u001b[1;33m,\u001b[0m \u001b[1;33m**\u001b[0m\u001b[0mkwargs\u001b[0m\u001b[1;33m)\u001b[0m\u001b[1;33m:\u001b[0m\u001b[1;33m\u001b[0m\u001b[1;33m\u001b[0m\u001b[0m\n\u001b[0;32m     65\u001b[0m     \u001b[1;32mif\u001b[0m \u001b[1;32mnot\u001b[0m \u001b[0mself\u001b[0m\u001b[1;33m.\u001b[0m\u001b[0m_in_multi_worker_mode\u001b[0m\u001b[1;33m(\u001b[0m\u001b[1;33m)\u001b[0m\u001b[1;33m:\u001b[0m  \u001b[1;31m# pylint: disable=protected-access\u001b[0m\u001b[1;33m\u001b[0m\u001b[1;33m\u001b[0m\u001b[0m\n\u001b[1;32m---> 66\u001b[1;33m       \u001b[1;32mreturn\u001b[0m \u001b[0mmethod\u001b[0m\u001b[1;33m(\u001b[0m\u001b[0mself\u001b[0m\u001b[1;33m,\u001b[0m \u001b[1;33m*\u001b[0m\u001b[0margs\u001b[0m\u001b[1;33m,\u001b[0m \u001b[1;33m**\u001b[0m\u001b[0mkwargs\u001b[0m\u001b[1;33m)\u001b[0m\u001b[1;33m\u001b[0m\u001b[1;33m\u001b[0m\u001b[0m\n\u001b[0m\u001b[0;32m     67\u001b[0m \u001b[1;33m\u001b[0m\u001b[0m\n\u001b[0;32m     68\u001b[0m     \u001b[1;31m# Running inside `run_distribute_coordinator` already.\u001b[0m\u001b[1;33m\u001b[0m\u001b[1;33m\u001b[0m\u001b[1;33m\u001b[0m\u001b[0m\n",
      "\u001b[1;32m~\\Anaconda3\\envs\\EPE_ML_TF2\\lib\\site-packages\\tensorflow\\python\\keras\\engine\\training.py\u001b[0m in \u001b[0;36mfit\u001b[1;34m(self, x, y, batch_size, epochs, verbose, callbacks, validation_split, validation_data, shuffle, class_weight, sample_weight, initial_epoch, steps_per_epoch, validation_steps, validation_batch_size, validation_freq, max_queue_size, workers, use_multiprocessing)\u001b[0m\n\u001b[0;32m    846\u001b[0m                 batch_size=batch_size):\n\u001b[0;32m    847\u001b[0m               \u001b[0mcallbacks\u001b[0m\u001b[1;33m.\u001b[0m\u001b[0mon_train_batch_begin\u001b[0m\u001b[1;33m(\u001b[0m\u001b[0mstep\u001b[0m\u001b[1;33m)\u001b[0m\u001b[1;33m\u001b[0m\u001b[1;33m\u001b[0m\u001b[0m\n\u001b[1;32m--> 848\u001b[1;33m               \u001b[0mtmp_logs\u001b[0m \u001b[1;33m=\u001b[0m \u001b[0mtrain_function\u001b[0m\u001b[1;33m(\u001b[0m\u001b[0miterator\u001b[0m\u001b[1;33m)\u001b[0m\u001b[1;33m\u001b[0m\u001b[1;33m\u001b[0m\u001b[0m\n\u001b[0m\u001b[0;32m    849\u001b[0m               \u001b[1;31m# Catch OutOfRangeError for Datasets of unknown size.\u001b[0m\u001b[1;33m\u001b[0m\u001b[1;33m\u001b[0m\u001b[1;33m\u001b[0m\u001b[0m\n\u001b[0;32m    850\u001b[0m               \u001b[1;31m# This blocks until the batch has finished executing.\u001b[0m\u001b[1;33m\u001b[0m\u001b[1;33m\u001b[0m\u001b[1;33m\u001b[0m\u001b[0m\n",
      "\u001b[1;32m~\\Anaconda3\\envs\\EPE_ML_TF2\\lib\\site-packages\\tensorflow\\python\\eager\\def_function.py\u001b[0m in \u001b[0;36m__call__\u001b[1;34m(self, *args, **kwds)\u001b[0m\n\u001b[0;32m    578\u001b[0m         \u001b[0mxla_context\u001b[0m\u001b[1;33m.\u001b[0m\u001b[0mExit\u001b[0m\u001b[1;33m(\u001b[0m\u001b[1;33m)\u001b[0m\u001b[1;33m\u001b[0m\u001b[1;33m\u001b[0m\u001b[0m\n\u001b[0;32m    579\u001b[0m     \u001b[1;32melse\u001b[0m\u001b[1;33m:\u001b[0m\u001b[1;33m\u001b[0m\u001b[1;33m\u001b[0m\u001b[0m\n\u001b[1;32m--> 580\u001b[1;33m       \u001b[0mresult\u001b[0m \u001b[1;33m=\u001b[0m \u001b[0mself\u001b[0m\u001b[1;33m.\u001b[0m\u001b[0m_call\u001b[0m\u001b[1;33m(\u001b[0m\u001b[1;33m*\u001b[0m\u001b[0margs\u001b[0m\u001b[1;33m,\u001b[0m \u001b[1;33m**\u001b[0m\u001b[0mkwds\u001b[0m\u001b[1;33m)\u001b[0m\u001b[1;33m\u001b[0m\u001b[1;33m\u001b[0m\u001b[0m\n\u001b[0m\u001b[0;32m    581\u001b[0m \u001b[1;33m\u001b[0m\u001b[0m\n\u001b[0;32m    582\u001b[0m     \u001b[1;32mif\u001b[0m \u001b[0mtracing_count\u001b[0m \u001b[1;33m==\u001b[0m \u001b[0mself\u001b[0m\u001b[1;33m.\u001b[0m\u001b[0m_get_tracing_count\u001b[0m\u001b[1;33m(\u001b[0m\u001b[1;33m)\u001b[0m\u001b[1;33m:\u001b[0m\u001b[1;33m\u001b[0m\u001b[1;33m\u001b[0m\u001b[0m\n",
      "\u001b[1;32m~\\Anaconda3\\envs\\EPE_ML_TF2\\lib\\site-packages\\tensorflow\\python\\eager\\def_function.py\u001b[0m in \u001b[0;36m_call\u001b[1;34m(self, *args, **kwds)\u001b[0m\n\u001b[0;32m    609\u001b[0m       \u001b[1;31m# In this case we have created variables on the first call, so we run the\u001b[0m\u001b[1;33m\u001b[0m\u001b[1;33m\u001b[0m\u001b[1;33m\u001b[0m\u001b[0m\n\u001b[0;32m    610\u001b[0m       \u001b[1;31m# defunned version which is guaranteed to never create variables.\u001b[0m\u001b[1;33m\u001b[0m\u001b[1;33m\u001b[0m\u001b[1;33m\u001b[0m\u001b[0m\n\u001b[1;32m--> 611\u001b[1;33m       \u001b[1;32mreturn\u001b[0m \u001b[0mself\u001b[0m\u001b[1;33m.\u001b[0m\u001b[0m_stateless_fn\u001b[0m\u001b[1;33m(\u001b[0m\u001b[1;33m*\u001b[0m\u001b[0margs\u001b[0m\u001b[1;33m,\u001b[0m \u001b[1;33m**\u001b[0m\u001b[0mkwds\u001b[0m\u001b[1;33m)\u001b[0m  \u001b[1;31m# pylint: disable=not-callable\u001b[0m\u001b[1;33m\u001b[0m\u001b[1;33m\u001b[0m\u001b[0m\n\u001b[0m\u001b[0;32m    612\u001b[0m     \u001b[1;32melif\u001b[0m \u001b[0mself\u001b[0m\u001b[1;33m.\u001b[0m\u001b[0m_stateful_fn\u001b[0m \u001b[1;32mis\u001b[0m \u001b[1;32mnot\u001b[0m \u001b[1;32mNone\u001b[0m\u001b[1;33m:\u001b[0m\u001b[1;33m\u001b[0m\u001b[1;33m\u001b[0m\u001b[0m\n\u001b[0;32m    613\u001b[0m       \u001b[1;31m# Release the lock early so that multiple threads can perform the call\u001b[0m\u001b[1;33m\u001b[0m\u001b[1;33m\u001b[0m\u001b[1;33m\u001b[0m\u001b[0m\n",
      "\u001b[1;32m~\\Anaconda3\\envs\\EPE_ML_TF2\\lib\\site-packages\\tensorflow\\python\\eager\\function.py\u001b[0m in \u001b[0;36m__call__\u001b[1;34m(self, *args, **kwargs)\u001b[0m\n\u001b[0;32m   2418\u001b[0m     \u001b[1;32mwith\u001b[0m \u001b[0mself\u001b[0m\u001b[1;33m.\u001b[0m\u001b[0m_lock\u001b[0m\u001b[1;33m:\u001b[0m\u001b[1;33m\u001b[0m\u001b[1;33m\u001b[0m\u001b[0m\n\u001b[0;32m   2419\u001b[0m       \u001b[0mgraph_function\u001b[0m\u001b[1;33m,\u001b[0m \u001b[0margs\u001b[0m\u001b[1;33m,\u001b[0m \u001b[0mkwargs\u001b[0m \u001b[1;33m=\u001b[0m \u001b[0mself\u001b[0m\u001b[1;33m.\u001b[0m\u001b[0m_maybe_define_function\u001b[0m\u001b[1;33m(\u001b[0m\u001b[0margs\u001b[0m\u001b[1;33m,\u001b[0m \u001b[0mkwargs\u001b[0m\u001b[1;33m)\u001b[0m\u001b[1;33m\u001b[0m\u001b[1;33m\u001b[0m\u001b[0m\n\u001b[1;32m-> 2420\u001b[1;33m     \u001b[1;32mreturn\u001b[0m \u001b[0mgraph_function\u001b[0m\u001b[1;33m.\u001b[0m\u001b[0m_filtered_call\u001b[0m\u001b[1;33m(\u001b[0m\u001b[0margs\u001b[0m\u001b[1;33m,\u001b[0m \u001b[0mkwargs\u001b[0m\u001b[1;33m)\u001b[0m  \u001b[1;31m# pylint: disable=protected-access\u001b[0m\u001b[1;33m\u001b[0m\u001b[1;33m\u001b[0m\u001b[0m\n\u001b[0m\u001b[0;32m   2421\u001b[0m \u001b[1;33m\u001b[0m\u001b[0m\n\u001b[0;32m   2422\u001b[0m   \u001b[1;33m@\u001b[0m\u001b[0mproperty\u001b[0m\u001b[1;33m\u001b[0m\u001b[1;33m\u001b[0m\u001b[0m\n",
      "\u001b[1;32m~\\Anaconda3\\envs\\EPE_ML_TF2\\lib\\site-packages\\tensorflow\\python\\eager\\function.py\u001b[0m in \u001b[0;36m_filtered_call\u001b[1;34m(self, args, kwargs)\u001b[0m\n\u001b[0;32m   1663\u001b[0m          if isinstance(t, (ops.Tensor,\n\u001b[0;32m   1664\u001b[0m                            resource_variable_ops.BaseResourceVariable))),\n\u001b[1;32m-> 1665\u001b[1;33m         self.captured_inputs)\n\u001b[0m\u001b[0;32m   1666\u001b[0m \u001b[1;33m\u001b[0m\u001b[0m\n\u001b[0;32m   1667\u001b[0m   \u001b[1;32mdef\u001b[0m \u001b[0m_call_flat\u001b[0m\u001b[1;33m(\u001b[0m\u001b[0mself\u001b[0m\u001b[1;33m,\u001b[0m \u001b[0margs\u001b[0m\u001b[1;33m,\u001b[0m \u001b[0mcaptured_inputs\u001b[0m\u001b[1;33m,\u001b[0m \u001b[0mcancellation_manager\u001b[0m\u001b[1;33m=\u001b[0m\u001b[1;32mNone\u001b[0m\u001b[1;33m)\u001b[0m\u001b[1;33m:\u001b[0m\u001b[1;33m\u001b[0m\u001b[1;33m\u001b[0m\u001b[0m\n",
      "\u001b[1;32m~\\Anaconda3\\envs\\EPE_ML_TF2\\lib\\site-packages\\tensorflow\\python\\eager\\function.py\u001b[0m in \u001b[0;36m_call_flat\u001b[1;34m(self, args, captured_inputs, cancellation_manager)\u001b[0m\n\u001b[0;32m   1744\u001b[0m       \u001b[1;31m# No tape is watching; skip to running the function.\u001b[0m\u001b[1;33m\u001b[0m\u001b[1;33m\u001b[0m\u001b[1;33m\u001b[0m\u001b[0m\n\u001b[0;32m   1745\u001b[0m       return self._build_call_outputs(self._inference_function.call(\n\u001b[1;32m-> 1746\u001b[1;33m           ctx, args, cancellation_manager=cancellation_manager))\n\u001b[0m\u001b[0;32m   1747\u001b[0m     forward_backward = self._select_forward_and_backward_functions(\n\u001b[0;32m   1748\u001b[0m         \u001b[0margs\u001b[0m\u001b[1;33m,\u001b[0m\u001b[1;33m\u001b[0m\u001b[1;33m\u001b[0m\u001b[0m\n",
      "\u001b[1;32m~\\Anaconda3\\envs\\EPE_ML_TF2\\lib\\site-packages\\tensorflow\\python\\eager\\function.py\u001b[0m in \u001b[0;36mcall\u001b[1;34m(self, ctx, args, cancellation_manager)\u001b[0m\n\u001b[0;32m    596\u001b[0m               \u001b[0minputs\u001b[0m\u001b[1;33m=\u001b[0m\u001b[0margs\u001b[0m\u001b[1;33m,\u001b[0m\u001b[1;33m\u001b[0m\u001b[1;33m\u001b[0m\u001b[0m\n\u001b[0;32m    597\u001b[0m               \u001b[0mattrs\u001b[0m\u001b[1;33m=\u001b[0m\u001b[0mattrs\u001b[0m\u001b[1;33m,\u001b[0m\u001b[1;33m\u001b[0m\u001b[1;33m\u001b[0m\u001b[0m\n\u001b[1;32m--> 598\u001b[1;33m               ctx=ctx)\n\u001b[0m\u001b[0;32m    599\u001b[0m         \u001b[1;32melse\u001b[0m\u001b[1;33m:\u001b[0m\u001b[1;33m\u001b[0m\u001b[1;33m\u001b[0m\u001b[0m\n\u001b[0;32m    600\u001b[0m           outputs = execute.execute_with_cancellation(\n",
      "\u001b[1;32m~\\Anaconda3\\envs\\EPE_ML_TF2\\lib\\site-packages\\tensorflow\\python\\eager\\execute.py\u001b[0m in \u001b[0;36mquick_execute\u001b[1;34m(op_name, num_outputs, inputs, attrs, ctx, name)\u001b[0m\n\u001b[0;32m     58\u001b[0m     \u001b[0mctx\u001b[0m\u001b[1;33m.\u001b[0m\u001b[0mensure_initialized\u001b[0m\u001b[1;33m(\u001b[0m\u001b[1;33m)\u001b[0m\u001b[1;33m\u001b[0m\u001b[1;33m\u001b[0m\u001b[0m\n\u001b[0;32m     59\u001b[0m     tensors = pywrap_tfe.TFE_Py_Execute(ctx._handle, device_name, op_name,\n\u001b[1;32m---> 60\u001b[1;33m                                         inputs, attrs, num_outputs)\n\u001b[0m\u001b[0;32m     61\u001b[0m   \u001b[1;32mexcept\u001b[0m \u001b[0mcore\u001b[0m\u001b[1;33m.\u001b[0m\u001b[0m_NotOkStatusException\u001b[0m \u001b[1;32mas\u001b[0m \u001b[0me\u001b[0m\u001b[1;33m:\u001b[0m\u001b[1;33m\u001b[0m\u001b[1;33m\u001b[0m\u001b[0m\n\u001b[0;32m     62\u001b[0m     \u001b[1;32mif\u001b[0m \u001b[0mname\u001b[0m \u001b[1;32mis\u001b[0m \u001b[1;32mnot\u001b[0m \u001b[1;32mNone\u001b[0m\u001b[1;33m:\u001b[0m\u001b[1;33m\u001b[0m\u001b[1;33m\u001b[0m\u001b[0m\n",
      "\u001b[1;31mKeyboardInterrupt\u001b[0m: "
     ]
    }
   ],
   "source": [
    "history = model.fit(data_x, data_y, **fit_args)"
   ]
  },
  {
   "cell_type": "code",
   "execution_count": 20,
   "metadata": {},
   "outputs": [],
   "source": [
    "logging.info(f'Loading data from data/test.h5')\n",
    "\n",
    "with h5.File('data/test.h5', 'r') as data:\n",
    "    data_x = data['input'][()]\n",
    "    data_y = data['target'][()]\n",
    "    #data_x = data['input'][:5000]\n",
    "    #data_y = data['target'][:5000]"
   ]
  },
  {
   "cell_type": "code",
   "execution_count": 21,
   "metadata": {},
   "outputs": [],
   "source": [
    "pred = model.predict(data_x)"
   ]
  },
  {
   "cell_type": "code",
   "execution_count": 22,
   "metadata": {},
   "outputs": [],
   "source": [
    "def _do_number(data_x, data_y, pred, thrs):\n",
    "\n",
    "    outdata = np.zeros(\n",
    "        (pred.shape[0],),\n",
    "        dtype=[\n",
    "            ('Output_number', np.dtype(('f4', 3))),\n",
    "            ('Output_number_true', 'i4'),\n",
    "            ('Output_number_estimated', 'i4'),\n",
    "            ('NN_layer', 'i4'),\n",
    "            ('NN_barrelEC', 'i4'),\n",
    "            ('globalEta', 'f4'),\n",
    "            ('globalPhi', 'f4'),\n",
    "            ('cluster_size', 'i4'),\n",
    "            ('cluster_size_X', 'i4'),\n",
    "            ('cluster_size_Y', 'i4'),\n",
    "        ]\n",
    "    )\n",
    "\n",
    "    outdata['Output_number'] = pred / np.sum(pred, axis=1, keepdims=True)\n",
    "    outdata['Output_number_true'] = 1 * data_y[:,0] + \\\n",
    "                                    2 * data_y[:,1] + \\\n",
    "                                    3 * data_y[:,2]\n",
    "\n",
    "    outdata['Output_number_estimated'][\n",
    "        np.where(np.logical_and(pred[:,1] < thrs[0], pred[:,2] < thrs[1]))\n",
    "    ] = 1\n",
    "    outdata['Output_number_estimated'][\n",
    "        np.where(np.logical_and(pred[:,1] >= thrs[0], pred[:,2] < thrs[1]))\n",
    "    ] = 2\n",
    "    outdata['Output_number_estimated'][\n",
    "        np.where(pred[:,2] >= thrs[1])\n",
    "    ] = 3\n",
    "\n",
    "    auxfields = [\n",
    "        'NN_layer',\n",
    "        'NN_barrelEC',\n",
    "        'globalEta',\n",
    "        'globalPhi',\n",
    "        'cluster_size',\n",
    "        'cluster_size_X',\n",
    "        'cluster_size_Y'\n",
    "    ]\n",
    "\n",
    "    outdata['NN_layer'] = data_x[:, 56]\n",
    "    outdata['NN_barrelEC'] = data_x[:, 57]\n",
    "    #for field in auxfields:\n",
    "    #    outdata[field] = data_x[field]\n",
    "\n",
    "    return outdata"
   ]
  },
  {
   "cell_type": "code",
   "execution_count": 23,
   "metadata": {},
   "outputs": [],
   "source": [
    "outdata = _do_number(data_x, data_y, pred, [0.6, 0.2])"
   ]
  },
  {
   "cell_type": "code",
   "execution_count": 24,
   "metadata": {},
   "outputs": [],
   "source": [
    "with h5.File('{}/{}.h5'.format('output', 'trained_tf_model_apply'), 'w') as hfile:\n",
    "    for key in outdata.dtype.names:\n",
    "        hfile.create_dataset(\n",
    "            key,\n",
    "            data=outdata[key],\n",
    "            compression='gzip'\n",
    "        )"
   ]
  },
  {
   "cell_type": "code",
   "execution_count": 25,
   "metadata": {},
   "outputs": [],
   "source": [
    "import math\n",
    "from sklearn.metrics import roc_curve, auc"
   ]
  },
  {
   "cell_type": "code",
   "execution_count": 26,
   "metadata": {},
   "outputs": [],
   "source": [
    "def doNumber(data_EC, data_Layer, data_number, data_true):\n",
    "\n",
    "    data = {}\n",
    "\n",
    "    outdata = np.zeros(\n",
    "        (data_number.shape[0],),\n",
    "        dtype=[\n",
    "            ('Output_number', np.dtype(('f4', 3))),\n",
    "            ('Output_number_true', 'i4')\n",
    "        ]\n",
    "    )\n",
    "\n",
    "    IBL = np.logical_and(data_Layer == 0, data_EC == 0)\n",
    "    Barrel = np.logical_and(data_Layer > 0, data_EC == 0)\n",
    "    Endcap = data_EC != 0\n",
    "\n",
    "    outdata['Output_number'] = data_number\n",
    "    outdata['Output_number_true'] = data_true\n",
    "\n",
    "    data['IBL'] = outdata[IBL]\n",
    "    data['Barrel'] = outdata[Barrel]\n",
    "    data['Endcap'] = outdata[Endcap]\n",
    "    return data"
   ]
  },
  {
   "cell_type": "code",
   "execution_count": 27,
   "metadata": {},
   "outputs": [],
   "source": [
    "def rocGraph(data, classes, name):\n",
    "\n",
    "    fpr = [[0]*(10) for i in range(len(data))]\n",
    "    tpr = [[0]*(10) for i in range(len(data))]\n",
    "    auc1 = [[0]*(10) for i in range(len(data))]\n",
    "\n",
    "    npoints = 200\n",
    "    base_fpr = np.exp(np.linspace(math.log(0.0005), 0., npoints))\n",
    "    colors = [\"r\", \"g\", \"b\"]\n",
    "\n",
    "    pos, neg = classes\n",
    "    linetypes = ['-', '--', ':']\n",
    "\n",
    "    for j, layer in enumerate(data):\n",
    "\n",
    "        for i, data_split in enumerate(data[layer]):\n",
    "            \n",
    "            pos_sel = data_split['Output_number_true'] == pos\n",
    "            neg_sel = data_split['Output_number_true'] == neg\n",
    "\n",
    "            isel = np.where(\n",
    "                np.logical_or(\n",
    "                    pos_sel,\n",
    "                    neg_sel,\n",
    "                )\n",
    "            )[0]\n",
    "\n",
    "            fpr[j][i], tpr[j][i], _ = roc_curve(\n",
    "                data_split['Output_number_true'][isel],\n",
    "                data_split['Output_number'][isel][:, pos - 1],\n",
    "                pos_label=pos\n",
    "            )\n",
    "            auc1[j][i] = auc(fpr[j][i], tpr[j][i])\n",
    "        \n",
    "    for i, layer in enumerate(data):\n",
    "        \n",
    "        tpr_array = np.array([])\n",
    "\n",
    "        for j in range(10):\n",
    "            tpr_interpolated = np.interp(base_fpr, fpr[i][j], tpr[i][j])\n",
    "            tpr_interpolated = tpr_interpolated.reshape((1,npoints))\n",
    "            tpr_array = np.concatenate([tpr_array, tpr_interpolated], axis=0) if tpr_array.size else tpr_interpolated\n",
    "            \n",
    "        mean_tpr = np.mean(tpr_array, axis=0)\n",
    "        rms_tpr = np.std(tpr_array, axis=0)\n",
    "        plus_tpr = np.minimum(mean_tpr+rms_tpr, np.ones(npoints))\n",
    "        minus_tpr = np.maximum(mean_tpr-rms_tpr,np.zeros(npoints))\n",
    "        plt.plot(base_fpr, mean_tpr, linetypes[i], label=f'{layer} (AUC = {np.mean(auc1[i]):.2f} (+- {np.std(auc1[i]):.4f}))')\n",
    "        plt.fill_between(base_fpr, minus_tpr, plus_tpr, alpha=0.3)\n",
    "        \n",
    "        \n",
    "    rand_chance = np.linspace(0, 1, 100)\n",
    "    plt.plot(rand_chance,rand_chance, ':', color='grey', label='Random (AUC = 0.5)')\n",
    "    plt.semilogx()\n",
    "    plt.ylabel(f\"Pr(Estimated: {pos}-particle | True: {pos}-particle)\")\n",
    "    plt.xlabel(f\"Pr(Estimated: {pos}-particle | True: {neg}-particle)\")\n",
    "    plt.xlim([0.001, 1.05])\n",
    "    plt.ylim(0,1.05)\n",
    "    plt.legend(loc='upper left')\n",
    "    plt.grid(True)\n",
    "    plt.figtext(0.25, 0.90,f'{pos} vs {neg}',fontweight='bold', wrap=True, horizontalalignment='right', fontsize=10)\n",
    "    plt.savefig(f'output/{name}{pos}{neg}_ROC.png')\n",
    "    plt.close()\n",
    "    \n",
    "def doRocs(data, name):\n",
    "    rocGraph(data, (3, 2), name)\n",
    "    rocGraph(data, (3, 1), name)\n",
    "    rocGraph(data, (2, 3), name)\n",
    "    rocGraph(data, (2, 1), name)\n",
    "    rocGraph(data, (1, 2), name)\n",
    "    rocGraph(data, (1, 3), name)"
   ]
  },
  {
   "cell_type": "code",
   "execution_count": 28,
   "metadata": {},
   "outputs": [],
   "source": [
    "with h5.File(f'output/trained_tf_model_apply.h5', 'r') as data:\n",
    "    data_EC = data['NN_barrelEC'][()]\n",
    "    data_Layer = data['NN_layer'][()]\n",
    "    data_number = data['Output_number'][()]\n",
    "    data_true = data['Output_number_true'][()]"
   ]
  },
  {
   "cell_type": "code",
   "execution_count": 29,
   "metadata": {},
   "outputs": [],
   "source": [
    "data = doNumber(data_EC, data_Layer, data_number, data_true)"
   ]
  },
  {
   "cell_type": "code",
   "execution_count": 30,
   "metadata": {},
   "outputs": [],
   "source": [
    "for i, layer in enumerate(data):\n",
    "    data[layer] = np.array_split(data[layer], 10)\n",
    "doRocs(data, 'trained_tf_model')"
   ]
  },
  {
   "cell_type": "code",
   "execution_count": null,
   "metadata": {},
   "outputs": [],
   "source": [
    "pred"
   ]
  },
  {
   "cell_type": "code",
   "execution_count": null,
   "metadata": {},
   "outputs": [],
   "source": []
  }
 ],
 "metadata": {
  "kernelspec": {
   "display_name": "Python 3.6.10 64-bit ('EPE_ML_TF2': conda)",
   "language": "python",
   "name": "python361064bitepemltf2conda8b97cfd37faf40f9a7f0d8196617388c"
  },
  "language_info": {
   "codemirror_mode": {
    "name": "ipython",
    "version": 3
   },
   "file_extension": ".py",
   "mimetype": "text/x-python",
   "name": "python",
   "nbconvert_exporter": "python",
   "pygments_lexer": "ipython3",
   "version": "3.6.10"
  }
 },
 "nbformat": 4,
 "nbformat_minor": 4
}
