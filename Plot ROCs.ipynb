{
 "cells": [
  {
   "cell_type": "code",
   "execution_count": 3,
   "metadata": {
    "tags": []
   },
   "outputs": [],
   "source": [
    "import logging\n",
    "import os\n",
    "import sys\n",
    "import math\n",
    "sys.path.append('scripts')\n",
    "sys.path.append('share')\n",
    "sys.path.append('python')\n",
    "from collections import namedtuple\n",
    "import numpy as np\n",
    "import pandas as pd\n",
    "import h5py as h5\n",
    "import matplotlib.pyplot as plt\n",
    "import tensorflow\n",
    "import tensorflow.keras as keras\n",
    "from sklearn.model_selection import KFold\n",
    "from sklearn.metrics import roc_curve, auc\n",
    "from run_training import _build_model, _find_py_file"
   ]
  },
  {
   "cell_type": "code",
   "execution_count": 6,
   "metadata": {},
   "outputs": [],
   "source": [
    "with h5.File('output/apply_outdata.h5', 'r') as data:\n",
    "    outdata = data['outdata'][()]\n",
    "Outputnumber = outdata['Output_number']\n",
    "Outputnumber = outdata['Output_number_true']\n"
   ]
  },
  {
   "cell_type": "code",
   "execution_count": 58,
   "metadata": {},
   "outputs": [],
   "source": [
    "#logging.basicConfig(level=1, format='[%(asctime)s %(levelname)s] %(message)s')\n",
    "#logging.getLogger('matplotlib').setLevel = logging.ERROR\n",
    "Option = namedtuple(\"MyStruct\", \"input model name folds\")\n",
    "                    #structure learning_rate regularizer epochs\")\n",
    "args = Option(\n",
    "    input='data/test1.h5',\n",
    "    model='share/reference_number.py',\n",
    "    name='NumberNetworkKFOLD',\n",
    "    folds=10,\n",
    "    #batch_size=60,\n",
    "    #epochs=20,\n",
    "    #learning_rate=0.0001,\n",
    "    #regularizer=0.0001,\n",
    ")\n",
    "\n",
    "path = _find_py_file(args.model)"
   ]
  },
  {
   "cell_type": "markdown",
   "metadata": {},
   "source": [
    "## Loading Data"
   ]
  },
  {
   "cell_type": "code",
   "execution_count": 9,
   "metadata": {},
   "outputs": [],
   "source": [
    "logging.info(f'Loading data from {args.input}')\n",
    "\n",
    "with h5.File(args.input, 'r') as data:\n",
    "    data_x = data['input'][()]\n",
    "    data_y = data['target'][()]\n",
    "\n",
    "labels = ['1particle', '2particle', '3particle']"
   ]
  },
  {
   "cell_type": "code",
   "execution_count": 9,
   "metadata": {},
   "outputs": [],
   "source": [
    "with h5.File(\"data/testtotal.h5\") as data:\n",
    "    data_EC = data['NN_barrelEC'][()]\n",
    "    data_Layer = data['NN_layer'][()]\n",
    "    data_1 = data['Output_number1'][()]\n",
    "    data_2 = data['Output_number2'][()]\n",
    "    data_3 = data['Output_number3'][()]\n",
    "    data_true = data['Output_number_true'][()]\n",
    "\n",
    "s = np.arange(data_EC.shape[0])\n",
    "np.random.shuffle(s)\n",
    "\n",
    "data_EC = data_EC[s]\n",
    "data_Layer = data_Layer[s]\n",
    "data_1 = data_1[s]\n",
    "data_2 = data_2[s]\n",
    "data_3 = data_3[s]\n",
    "data_true = data_true[s]"
   ]
  },
  {
   "cell_type": "code",
   "execution_count": 13,
   "metadata": {},
   "outputs": [],
   "source": [
    "with h5.File(\"output/apply_outdata.h5\") as data:\n",
    "    data_EC = data['NN_barrelEC'][()]\n",
    "    data_Layer = data['NN_layer'][()]\n",
    "    data_number = data['Output_number'][()]\n",
    "    data_true = data['Output_number_true'][()]\n",
    "\n",
    "s = np.arange(data_EC.shape[0])\n",
    "np.random.shuffle(s)\n",
    "\n",
    "data_EC = data_EC[s]\n",
    "data_Layer = data_Layer[s]\n",
    "data_number = data_number[s]\n",
    "data_true = data_true[s]"
   ]
  },
  {
   "cell_type": "markdown",
   "metadata": {},
   "source": [
    "## Calculate Inference"
   ]
  },
  {
   "cell_type": "code",
   "execution_count": 10,
   "metadata": {},
   "outputs": [
    {
     "output_type": "error",
     "ename": "AttributeError",
     "evalue": "'Model' object has no attribute 'load_model'",
     "traceback": [
      "\u001b[1;31m---------------------------------------------------------------------------\u001b[0m",
      "\u001b[1;31mAttributeError\u001b[0m                            Traceback (most recent call last)",
      "\u001b[1;32m<ipython-input-10-1f0be8da66bc>\u001b[0m in \u001b[0;36m<module>\u001b[1;34m\u001b[0m\n\u001b[1;32m----> 1\u001b[1;33m \u001b[0mmodel\u001b[0m \u001b[1;33m=\u001b[0m \u001b[0mmodel\u001b[0m\u001b[1;33m.\u001b[0m\u001b[0mload_model\u001b[0m\u001b[1;33m(\u001b[0m\u001b[1;34m'modelWeights/LGNumberNetworkModel.h5'\u001b[0m\u001b[1;33m)\u001b[0m\u001b[1;33m\u001b[0m\u001b[1;33m\u001b[0m\u001b[0m\n\u001b[0m\u001b[0;32m      2\u001b[0m \u001b[1;31m#model.load_weights('modelWeights/LGNumberNetworkModel.h5')\u001b[0m\u001b[1;33m\u001b[0m\u001b[1;33m\u001b[0m\u001b[1;33m\u001b[0m\u001b[0m\n\u001b[0;32m      3\u001b[0m \u001b[1;33m\u001b[0m\u001b[0m\n\u001b[0;32m      4\u001b[0m \u001b[0my_pred\u001b[0m \u001b[1;33m=\u001b[0m \u001b[0mmodel\u001b[0m\u001b[1;33m.\u001b[0m\u001b[0mpredict\u001b[0m\u001b[1;33m(\u001b[0m\u001b[0mdata_x\u001b[0m\u001b[1;33m)\u001b[0m\u001b[1;33m\u001b[0m\u001b[1;33m\u001b[0m\u001b[0m\n",
      "\u001b[1;31mAttributeError\u001b[0m: 'Model' object has no attribute 'load_model'"
     ]
    }
   ],
   "source": [
    "model, compile_args, fit_args, params = _build_model(path, data_x, data_y)\n",
    "compile_args['metrics']=['accuracy']\n",
    "model.compile(**compile_args)\n",
    "model.load_weights('modelWeights/NumberNetworkKFOLD1.h5')\n",
    "#model.load_weights('modelWeights/LGNumberNetworkModel.h5')\n",
    "\n",
    "y_pred = model.predict(data_x)"
   ]
  },
  {
   "cell_type": "markdown",
   "metadata": {},
   "source": [
    "## Plot ROCs by Layer and Label"
   ]
  },
  {
   "cell_type": "code",
   "execution_count": 70,
   "metadata": {},
   "outputs": [],
   "source": [
    "def doNumber(data_x, data_y, pred_y):\n",
    "    data = {}\n",
    "    outdata = np.zeros(\n",
    "        (pred_y.shape[0],),\n",
    "        dtype=[\n",
    "            ('Output_number', np.dtype(('f4', 3))),\n",
    "            ('Output_number_true', 'i4')\n",
    "        ]\n",
    "    )\n",
    "\n",
    "    outdata['Output_number'] = pred_y / np.sum(pred_y, axis=1, keepdims=True)\n",
    "    outdata['Output_number_true'] = 1 * data_y[:, 0] + \\\n",
    "                                    2 * data_y[:, 1] + \\\n",
    "                                    3 * data_y[:, 2]\n",
    "\n",
    "    IBL = np.logical_and(data_x[:, 56] == 0, data_x[:, 57] == 0)\n",
    "    Barrel = np.logical_and(data_x[:, 56] > 0, data_x[:, 57] == 0)\n",
    "    Endcap = data_x[:, 57] != 0\n",
    "\n",
    "    data['IBL'] = outdata[IBL]\n",
    "    data['Barrel'] = outdata[Barrel]\n",
    "    data['Endcap'] = outdata[Endcap]\n",
    "    return data\n",
    "\n",
    "def rocGraph(data, classes):\n",
    "    pos, neg = classes\n",
    "    linetypes = ['-', '--', ':']\n",
    "\n",
    "    for i, layer in enumerate(data):\n",
    "\n",
    "        pos_sel = data[layer]['Output_number_true'] == pos\n",
    "        neg_sel = data[layer]['Output_number_true'] == neg\n",
    "\n",
    "        isel = np.where(\n",
    "            np.logical_or(\n",
    "                pos_sel,\n",
    "                neg_sel,\n",
    "            )\n",
    "        )[0]\n",
    "\n",
    "        fpr, tpr, _ = roc_curve(\n",
    "            data[layer]['Output_number_true'][isel],\n",
    "            data[layer]['Output_number'][isel][:, pos - 1],\n",
    "            pos_label=pos\n",
    "        )\n",
    "        auc1 = auc(fpr, tpr)\n",
    "        \n",
    "        plt.plot(fpr, tpr, linetypes[i], label=f'{layer} (AUC = {auc1:.2f})')\n",
    "        \n",
    "        \n",
    "    rand_chance = np.linspace(0, 1, 100)\n",
    "    plt.plot(rand_chance,rand_chance, ':', color='grey', label='Random (AUC = 0.5)')\n",
    "    plt.semilogx()\n",
    "    plt.ylabel(f\"Pr(Estimated: {pos}-particle | True: {pos}-particle)\")\n",
    "    plt.xlabel(f\"Pr(Estimated: {pos}-particle | True: {neg}-particle)\")\n",
    "    plt.xlim([0.001, 1.05])\n",
    "    plt.ylim(0,1.05)\n",
    "    plt.legend(loc='upper left')\n",
    "    plt.grid(True)\n",
    "    plt.figtext(0.25, 0.90,f'{pos} vs {neg}',fontweight='bold', wrap=True, horizontalalignment='right', fontsize=10)\n",
    "    plt.savefig(f'output/{pos}{neg}_ROC.png')\n",
    "    plt.close()\n",
    "    \n",
    "\n",
    "def doRocs(data):\n",
    "    rocGraph(data, (3, 2))\n",
    "    rocGraph(data, (3, 1))\n",
    "    rocGraph(data, (2, 3))\n",
    "    rocGraph(data, (2, 1))\n",
    "    rocGraph(data, (1, 2))\n",
    "    rocGraph(data, (1, 3))"
   ]
  },
  {
   "cell_type": "code",
   "execution_count": 40,
   "metadata": {},
   "outputs": [
    {
     "output_type": "error",
     "ename": "NameError",
     "evalue": "name 'data_x' is not defined",
     "traceback": [
      "\u001b[1;31m---------------------------------------------------------------------------\u001b[0m",
      "\u001b[1;31mNameError\u001b[0m                                 Traceback (most recent call last)",
      "\u001b[1;32m<ipython-input-40-2d3fbd1ff38c>\u001b[0m in \u001b[0;36m<module>\u001b[1;34m\u001b[0m\n\u001b[1;32m----> 1\u001b[1;33m \u001b[0mdata\u001b[0m \u001b[1;33m=\u001b[0m \u001b[0mdoNumber\u001b[0m\u001b[1;33m(\u001b[0m\u001b[0mdata_x\u001b[0m\u001b[1;33m,\u001b[0m \u001b[0mdata_y\u001b[0m\u001b[1;33m,\u001b[0m \u001b[0my_pred\u001b[0m\u001b[1;33m)\u001b[0m\u001b[1;33m\u001b[0m\u001b[1;33m\u001b[0m\u001b[0m\n\u001b[0m\u001b[0;32m      2\u001b[0m \u001b[0mdoRocs\u001b[0m\u001b[1;33m(\u001b[0m\u001b[0mdata\u001b[0m\u001b[1;33m)\u001b[0m\u001b[1;33m\u001b[0m\u001b[1;33m\u001b[0m\u001b[0m\n",
      "\u001b[1;31mNameError\u001b[0m: name 'data_x' is not defined"
     ]
    }
   ],
   "source": [
    "data = doNumber(data_x, data_y, y_pred)\n",
    "doRocs(data)"
   ]
  },
  {
   "cell_type": "code",
   "execution_count": 17,
   "metadata": {},
   "outputs": [],
   "source": [
    "def doNumber2(data_EC, data_Layer, data_1, data_2, data_3, data_true):\n",
    "\n",
    "    data = {}\n",
    "\n",
    "    outdata = np.zeros(\n",
    "        (data_1.shape[0],),\n",
    "        dtype=[\n",
    "            ('Output_number', np.dtype(('f4', 3))),\n",
    "            ('Output_number_true', 'i4')\n",
    "        ]\n",
    "    )\n",
    "\n",
    "    IBL = np.logical_and(data_Layer == 0, data_EC == 0)\n",
    "    Barrel = np.logical_and(data_Layer > 0, data_EC == 0)\n",
    "    Endcap = data_EC != 0\n",
    "\n",
    "    outdata['Output_number'] = np.array([data_1, data_2, data_3]).T\n",
    "    outdata['Output_number_true'] = data_true\n",
    "\n",
    "    data['IBL'] = outdata[IBL]\n",
    "    data['Barrel'] = outdata[Barrel]\n",
    "    data['Endcap'] = outdata[Endcap]\n",
    "    return data\n",
    "\n",
    "def rocGraph2(data, classes):\n",
    "\n",
    "    fpr = [[0]*(10) for i in range(len(data))]\n",
    "    tpr = [[0]*(10) for i in range(len(data))]\n",
    "    auc1 = [[0]*(10) for i in range(len(data))]\n",
    "\n",
    "    npoints = 200\n",
    "    base_fpr = np.exp(np.linspace(math.log(0.0005), 0., npoints))\n",
    "    colors = [\"r\", \"g\", \"b\"]\n",
    "\n",
    "    pos, neg = classes\n",
    "    linetypes = ['-', '--', ':']\n",
    "\n",
    "    for j, layer in enumerate(data):\n",
    "\n",
    "        for i, data_split in enumerate(data[layer]):\n",
    "        \n",
    "            pos_sel = data_split['Output_number_true'] == pos\n",
    "            neg_sel = data_split['Output_number_true'] == neg\n",
    "\n",
    "            isel = np.where(\n",
    "                np.logical_or(\n",
    "                    pos_sel,\n",
    "                    neg_sel,\n",
    "                )\n",
    "            )[0]\n",
    "\n",
    "            fpr[j][i], tpr[j][i], _ = roc_curve(\n",
    "                data_split['Output_number_true'][isel],\n",
    "                data_split['Output_number'][isel][:, pos - 1],\n",
    "                pos_label=pos\n",
    "            )\n",
    "            auc1[j][i] = auc(fpr[j][i], tpr[j][i])\n",
    "        \n",
    "    for i, layer in enumerate(data):\n",
    "        \n",
    "        tpr_array = np.array([])\n",
    "\n",
    "        for j in range(10):\n",
    "            tpr_interpolated = np.interp(base_fpr, fpr[i][j], tpr[i][j])\n",
    "            tpr_interpolated = tpr_interpolated.reshape((1,npoints))\n",
    "            tpr_array = np.concatenate([tpr_array, tpr_interpolated], axis=0) if tpr_array.size else tpr_interpolated\n",
    "            \n",
    "        mean_tpr = np.mean(tpr_array, axis=0)\n",
    "        rms_tpr = np.std(tpr_array, axis=0)\n",
    "        plus_tpr = np.minimum(mean_tpr+rms_tpr, np.ones(npoints))\n",
    "        minus_tpr = np.maximum(mean_tpr-rms_tpr,np.zeros(npoints))\n",
    "        plt.plot(base_fpr, mean_tpr, linetypes[i], label=f'{layer} (AUC = {np.mean(auc1[i][j][()]):.2f} (+- {np.std(auc1[i][j][()]):.4f}))')\n",
    "        print(np.std(auc_list[i][()]))\n",
    "        plt.fill_between(base_fpr, minus_tpr, plus_tpr, alpha=0.3)\n",
    "        \n",
    "        \n",
    "    rand_chance = np.linspace(0, 1, 100)\n",
    "    plt.plot(rand_chance,rand_chance, ':', color='grey', label='Random (AUC = 0.5)')\n",
    "    plt.semilogx()\n",
    "    plt.ylabel(f\"Pr(Estimated: {pos}-particle | True: {pos}-particle)\")\n",
    "    plt.xlabel(f\"Pr(Estimated: {pos}-particle | True: {neg}-particle)\")\n",
    "    plt.xlim([0.001, 1.05])\n",
    "    plt.ylim(0,1.05)\n",
    "    plt.legend(loc='upper left')\n",
    "    plt.grid(True)\n",
    "    plt.figtext(0.25, 0.90,f'{pos} vs {neg}',fontweight='bold', wrap=True, horizontalalignment='right', fontsize=10)\n",
    "    plt.savefig(f'output/{pos}{neg}_ROC.png')\n",
    "    plt.close()\n",
    "    \n",
    "\n",
    "def doRocs2(data):\n",
    "    rocGraph2(data, (3, 2))\n",
    "    rocGraph2(data, (3, 1))\n",
    "    rocGraph2(data, (2, 3))\n",
    "    rocGraph2(data, (2, 1))\n",
    "    rocGraph2(data, (1, 2))\n",
    "    rocGraph2(data, (1, 3))"
   ]
  },
  {
   "cell_type": "code",
   "execution_count": 15,
   "metadata": {},
   "outputs": [],
   "source": [
    "def doNumber3(data_EC, data_Layer, data_number, data_true):\n",
    "\n",
    "    data = {}\n",
    "\n",
    "    outdata = np.zeros(\n",
    "        (data_number.shape[0],),\n",
    "        dtype=[\n",
    "            ('Output_number', np.dtype(('f4', 3))),\n",
    "            ('Output_number_true', 'i4')\n",
    "        ]\n",
    "    )\n",
    "\n",
    "    IBL = np.logical_and(data_Layer == 0, data_EC == 0)\n",
    "    Barrel = np.logical_and(data_Layer > 0, data_EC == 0)\n",
    "    Endcap = data_EC != 0\n",
    "\n",
    "    outdata['Output_number'] = data_number\n",
    "    outdata['Output_number_true'] = data_true\n",
    "\n",
    "    data['IBL'] = outdata[IBL]\n",
    "    data['Barrel'] = outdata[Barrel]\n",
    "    data['Endcap'] = outdata[Endcap]\n",
    "    return data"
   ]
  },
  {
   "cell_type": "code",
   "execution_count": 18,
   "metadata": {
    "tags": []
   },
   "outputs": [],
   "source": [
    "data = doNumber3(data_EC, data_Layer, data_number, data_true)\n",
    "for i, layer in enumerate(data):\n",
    "    data[layer] = np.array_split(data[layer], 10)\n",
    "doRocs2(data)"
   ]
  },
  {
   "cell_type": "code",
   "execution_count": null,
   "metadata": {},
   "outputs": [],
   "source": [
    "## Calculate K-Fold ROCs\n",
    "\n",
    "For 10 Kfold models and LG's model on Test.h5"
   ]
  },
  {
   "cell_type": "code",
   "execution_count": 4,
   "metadata": {},
   "outputs": [
    {
     "name": "stderr",
     "output_type": "stream",
     "text": [
      "[2020-07-12 14:35:23,778 INFO] Building model from share/reference_number.py\n",
      "[2020-07-12 14:35:29,070 INFO] Predicting...\n",
      "[2020-07-12 14:38:24,672 INFO] Done\n"
     ]
    },
    {
     "name": "stdout",
     "output_type": "stream",
     "text": [
      "LG complete\n"
     ]
    }
   ],
   "source": [
    "folds = args.folds\n",
    "fpr_LG = [0]*len(labels)\n",
    "tpr_LG = [0]*len(labels)\n",
    "auc_LG = [0]*len(labels)\n",
    "\n",
    "fpr_list = [[0]*(folds) for i in range(len(labels))]\n",
    "tpr_list = [[0]*(folds) for i in range(len(labels))]\n",
    "auc_list = [[0]*(folds) for i in range(len(labels))]\n",
    "\n",
    "logging.info('Building model from %s', path)\n",
    "model, compile_args, fit_args, params = _build_model(path, data_x, data_y)\n",
    "compile_args['metrics']=['accuracy']\n",
    "model.compile(**compile_args)\n",
    "model.load_weights('modelWeights/LGNumberNetworkModel.h5')\n",
    "\n",
    "logging.info('Predicting...')\n",
    "#scores = model.evaluate(data_x[:5000], data_y[:5000])\n",
    "y_pred = model.predict(data_x)\n",
    "\n",
    "\n",
    "for i, label in enumerate(labels):\n",
    "    fpr_LG[i], tpr_LG[i], threshold = roc_curve(data_y[:][:,i], y_pred[:,i])\n",
    "    auc_LG[i] = auc(fpr_LG[i], tpr_LG[i])\n",
    "\n",
    "logging.info('Done')"
   ]
  },
  {
   "cell_type": "markdown",
   "metadata": {},
   "source": [
    "For LG's model on Total.h5 split into 10 testing sets"
   ]
  },
  {
   "cell_type": "code",
   "execution_count": 6,
   "metadata": {},
   "outputs": [
    {
     "name": "stdout",
     "output_type": "stream",
     "text": [
      "1 fold complete\n",
      "2 fold complete\n",
      "3 fold complete\n",
      "4 fold complete\n",
      "5 fold complete\n",
      "6 fold complete\n",
      "7 fold complete\n",
      "8 fold complete\n",
      "9 fold complete\n",
      "10 fold complete\n",
      "LG complete\n"
     ]
    }
   ],
   "source": [
    "folds = 10\n",
    "fold_no = 0\n",
    "\n",
    "fpr_list = [[0]*(folds) for i in range(len(labels))]\n",
    "tpr_list = [[0]*(folds) for i in range(len(labels))]\n",
    "auc_list = [[0]*(folds) for i in range(len(labels))]\n",
    "\n",
    "kfold = KFold(n_splits=args.folds)\n",
    "splits = kfold.split(data_x,data_y)\n",
    "\n",
    "model, compile_args, fit_args, params = _build_model(path, data_x, data_y)\n",
    "compile_args['metrics']=['accuracy']\n",
    "model.compile(**compile_args)\n",
    "model.load_weights(f'modelWeights/LGNumberNetworkModel.h5')\n",
    "\n",
    "for train, test in splits:\n",
    "    \n",
    "    \n",
    "    y_pred = model.predict(data_x[test])\n",
    "\n",
    "    if np.isnan(y_pred).any():\n",
    "        print('Nan Val')\n",
    "    for j, label in enumerate(labels):\n",
    "        fpr_list[j][fold_no], tpr_list[j][fold_no], threshold = roc_curve(data_y[test][:,j], y_pred[:,j])\n",
    "        auc_list[j][fold_no] = auc(fpr_list[j][fold_no], tpr_list[j][fold_no])\n",
    "\n",
    "    fold_no += 1\n",
    "    print(f'{fold_no} fold complete')\n",
    "\n",
    "print(f'LG complete')"
   ]
  },
  {
   "cell_type": "markdown",
   "metadata": {},
   "source": [
    "## Plot ROCS"
   ]
  },
  {
   "cell_type": "code",
   "execution_count": 23,
   "metadata": {},
   "outputs": [],
   "source": [
    "def kfoldRoc(infile, labels, name=\"\", outdir=\"\", fprl=None, tprl=None, aucl=None):\n",
    "\n",
    "    folds = 10\n",
    "    npoints = 200\n",
    "    base_fpr = np.exp(np.linspace(math.log(0.0005), 0., npoints))\n",
    "    colors = [\"r\", \"g\", \"b\"]\n",
    "    avg_tpr = {}\n",
    "    plus_tpr = {}\n",
    "    minus_tpr = {}\n",
    "\n",
    "    if (fprl==None):\n",
    "        fprl = [[0]*(folds) for i in range(len(labels))]\n",
    "        tprl = [[0]*(folds) for i in range(len(labels))]\n",
    "        aucl = [[0]*(folds) for i in range(len(labels))]\n",
    "        with h5.File(infile, 'r') as hfile:\n",
    "            for i, label in enumerate(labels):\n",
    "                for j in range(folds):\n",
    "                    fprl[i][j] = hfile[f'{label}_{j+1}_fpr'][()]\n",
    "                    tprl[i][j] = hfile[f'{label}_{j+1}_tpr'][()]\n",
    "                    aucl[i][j] = hfile[f'{label}_{j+1}_auc'][()]\n",
    "                    \n",
    "    fpr_list = np.array(fprl)\n",
    "    tpr_list = np.array(tprl)\n",
    "    auc_list = np.array(aucl)\n",
    "\n",
    "    plt.figure()\n",
    "\n",
    "    for i, particle in enumerate(labels):\n",
    "        tpr_array = np.array([])\n",
    "        for j in range(folds):\n",
    "            tpr_interpolated = np.interp(base_fpr, fpr_list[i][j], tpr_list[i][j])\n",
    "            tpr_interpolated = tpr_interpolated.reshape((1,npoints))\n",
    "            tpr_array = np.concatenate([tpr_array, tpr_interpolated], axis=0) if tpr_array.size else tpr_interpolated\n",
    "        mean_tpr = np.mean(tpr_array, axis=0)\n",
    "        rms_tpr = np.std(tpr_array, axis=0)\n",
    "        plus_tpr[particle] = np.minimum(mean_tpr+rms_tpr, np.ones(npoints))\n",
    "        minus_tpr[particle] = np.maximum(mean_tpr-rms_tpr,np.zeros(npoints))\n",
    "        avg_tpr[particle] = mean_tpr\n",
    "\n",
    "        plt.plot(base_fpr, avg_tpr[particle], color=colors[i], label=f'{i+1} particle (AUC = {np.mean(auc_list[i][()]):.2f} (+- {np.std(auc_list[i][()]):.4f}))')\n",
    "        plt.fill_between(base_fpr, minus_tpr[particle], plus_tpr[particle], color=colors[i], alpha=0.3)\n",
    "\n",
    "        plt.plot(fpr_LG[i], tpr_LG[i], color=colors[i], linestyle=':', label=f'{i+1} particle LG (AUC = {auc_LG[i]:.2f})')\n",
    "\n",
    "    #plt.plot([0, 1], [0, 1], lw=1, color='navy', linestyle='--')\n",
    "    #plt.semilogx()\n",
    "    plt.ylabel(\"TPR\")\n",
    "    plt.xlabel(\"FPR\")\n",
    "    plt.xlim([0, 1.05])\n",
    "    plt.ylim(0,1.05)\n",
    "    plt.legend(bbox_to_anchor=(1.05, 1))\n",
    "    plt.grid(True)\n",
    "    plt.figtext(0.25, 0.90,f'{name}',fontweight='bold', wrap=True, horizontalalignment='right', fontsize=10)\n",
    "    #plt.figtext(0.35, 0.90,'preliminary', style='italic', wrap=True, horizontalalignment='center', fontsize=14) \n",
    "    plt.legend(bbox_to_anchor=(1.05, 1.0), loc='upper left')\n",
    "    plt.savefig(f'{outdir}{name}_ROC.pdf')\n",
    "    plt.show()\n",
    "    plt.close()"
   ]
  },
  {
   "cell_type": "code",
   "execution_count": 24,
   "metadata": {
    "scrolled": true
   },
   "outputs": [
    {
     "name": "stderr",
     "output_type": "stream",
     "text": [
      "[2020-07-12 14:51:10,246 DEBUG] Assigning font /b'F1' = 'C:\\\\Users\\\\alexc\\\\Anaconda3\\\\envs\\\\EPE_ML_TF2\\\\lib\\\\site-packages\\\\matplotlib\\\\mpl-data\\\\fonts\\\\ttf\\\\DejaVuSans.ttf'\n",
      "[2020-07-12 14:51:10,936 DEBUG] Assigning font /b'F2' = 'C:\\\\Users\\\\alexc\\\\Anaconda3\\\\envs\\\\EPE_ML_TF2\\\\lib\\\\site-packages\\\\matplotlib\\\\mpl-data\\\\fonts\\\\ttf\\\\DejaVuSans-Bold.ttf'\n",
      "[2020-07-12 14:51:10,938 DEBUG] Embedding font C:\\Users\\alexc\\Anaconda3\\envs\\EPE_ML_TF2\\lib\\site-packages\\matplotlib\\mpl-data\\fonts\\ttf\\DejaVuSans-Bold.ttf.\n",
      "[2020-07-12 14:51:10,939 DEBUG] Writing TrueType font.\n",
      "[2020-07-12 14:51:10,952 DEBUG] Embedding font C:\\Users\\alexc\\Anaconda3\\envs\\EPE_ML_TF2\\lib\\site-packages\\matplotlib\\mpl-data\\fonts\\ttf\\DejaVuSans.ttf.\n",
      "[2020-07-12 14:51:10,953 DEBUG] Writing TrueType font.\n"
     ]
    },
    {
     "data": {
      "image/png": "[encoded data removed]",
      "text/plain": [
       "<Figure size 432x288 with 1 Axes>"
      ]
     },
     "metadata": {
      "needs_background": "light"
     },
     "output_type": "display_data"
    }
   ],
   "source": [
    "kfoldRoc('output/NumberNetworkKFOLD.h5', labels, name='test', outdir='output/') \n",
    "#        fprl = fpr_list, tprl = tpr_list, aucl=auc_list)"
   ]
  },
  {
   "cell_type": "code",
   "execution_count": null,
   "metadata": {},
   "outputs": [],
   "source": []
  }
 ],
 "metadata": {
  "kernelspec": {
   "display_name": "Python 3.6.10 64-bit ('MDNtraining_TF': conda)",
   "language": "python",
   "name": "python361064bitmdntrainingtfconda41395b29b3f64ff7b5d12b9937ed94c7"
  },
  "language_info": {
   "codemirror_mode": {
    "name": "ipython",
    "version": 3
   },
   "file_extension": ".py",
   "mimetype": "text/x-python",
   "name": "python",
   "nbconvert_exporter": "python",
   "pygments_lexer": "ipython3",
   "version": "3.6.10-final"
  }
 },
 "nbformat": 4,
 "nbformat_minor": 4
}